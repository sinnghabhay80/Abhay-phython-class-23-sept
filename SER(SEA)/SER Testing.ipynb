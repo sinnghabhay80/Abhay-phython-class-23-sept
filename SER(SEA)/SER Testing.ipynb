{
 "cells": [
  {
   "cell_type": "code",
   "execution_count": 1,
   "metadata": {},
   "outputs": [],
   "source": [
    "from keras.models import load_model\n",
    "model = load_model(\"model_ser.hdf5\")"
   ]
  },
  {
   "cell_type": "code",
   "execution_count": 2,
   "metadata": {},
   "outputs": [
    {
     "name": "stdout",
     "output_type": "stream",
     "text": [
      "Model: \"sequential\"\n",
      "_________________________________________________________________\n",
      " Layer (type)                Output Shape              Param #   \n",
      "=================================================================\n",
      " conv2d (Conv2D)             (None, 472, 11, 64)       1664      \n",
      "                                                                 \n",
      " conv2d_1 (Conv2D)           (None, 468, 7, 64)        102464    \n",
      "                                                                 \n",
      " conv2d_2 (Conv2D)           (None, 464, 3, 64)        102464    \n",
      "                                                                 \n",
      " flatten (Flatten)           (None, 89088)             0         \n",
      "                                                                 \n",
      " dense (Dense)               (None, 64)                5701696   \n",
      "                                                                 \n",
      " dense_1 (Dense)             (None, 32)                2080      \n",
      "                                                                 \n",
      " dense_2 (Dense)             (None, 8)                 264       \n",
      "                                                                 \n",
      "=================================================================\n",
      "Total params: 5,910,632\n",
      "Trainable params: 5,910,632\n",
      "Non-trainable params: 0\n",
      "_________________________________________________________________\n"
     ]
    }
   ],
   "source": [
    "model.summary()"
   ]
  },
  {
   "cell_type": "code",
   "execution_count": 3,
   "metadata": {},
   "outputs": [
    {
     "name": "stderr",
     "output_type": "stream",
     "text": [
      "C:\\Users\\Abhay Singh\\AppData\\Local\\Packages\\PythonSoftwareFoundation.Python.3.10_qbz5n2kfra8p0\\LocalCache\\local-packages\\Python310\\site-packages\\tqdm\\auto.py:22: TqdmWarning: IProgress not found. Please update jupyter and ipywidgets. See https://ipywidgets.readthedocs.io/en/stable/user_install.html\n",
      "  from .autonotebook import tqdm as notebook_tqdm\n"
     ]
    }
   ],
   "source": [
    "import librosa\n",
    "import pyaudio\n",
    "import noisereduce as nr\n",
    "from pydub import AudioSegment, effects\n",
    "import numpy as np\n",
    "import matplotlib.pyplot as plt"
   ]
  },
  {
   "cell_type": "code",
   "execution_count": 4,
   "metadata": {},
   "outputs": [],
   "source": [
    "def preprocessing(file_path, frame_length = 2048, hop_length = 512):\n",
    "    # Fetch the sample rate.\n",
    "      _, sr = librosa.load(path = file_path, sr = None) # sr (the sample rate) is used for librosa's MFCCs. '_' is irrelevant.\n",
    "    # Load the audio file.\n",
    "      rawsound = AudioSegment.from_file(file_path, duration = None) \n",
    "    # Normalize the audio to +5.0 dBFS.\n",
    "      normalizedsound = effects.normalize(rawsound, headroom = 5.0) \n",
    "    # Transform the normalized audio to np.array of samples.\n",
    "      normal_x = np.array(normalizedsound.get_array_of_samples(), dtype = 'float32')\n",
    "    # Noise reduction.\n",
    "      final_x = nr.reduce_noise(normal_x, sr=sr) \n",
    "\n",
    "    # Features extraction \n",
    "      feature1 = librosa.feature.rms(final_x, frame_length=frame_length, hop_length=hop_length, center=True, pad_mode='reflect') # Energy - Root Mean Square   \n",
    "      feature2 = librosa.feature.zero_crossing_rate(final_x , frame_length=frame_length, hop_length=hop_length, center=True) # ZCR      \n",
    "      feature3 = librosa.feature.mfcc(final_x, sr=sr, n_mfcc=13, hop_length = hop_length) # MFCC\n",
    "\n",
    "      \n",
    "      X = np.concatenate((feature1, feature2, feature3))\n",
    "      X = np.expand_dims(X, axis=0)\n",
    "      X = np.swapaxes(X, 0, 2)\n",
    "      X = np.expand_dims(X, axis=0)\n",
    "    \n",
    "      return X"
   ]
  },
  {
   "cell_type": "code",
   "execution_count": 5,
   "metadata": {},
   "outputs": [],
   "source": [
    "# Emotions list is created for a readable form of the model prediction.\n",
    "emotions = {\n",
    "    0 : 'neutral',\n",
    "    1 : 'calm',\n",
    "    2 : 'happy',\n",
    "    3 : 'sad',\n",
    "    4 : 'angry',\n",
    "    5 : 'fearful',\n",
    "    6 : 'disgust',\n",
    "    7 : 'suprised'   \n",
    "}\n",
    "emo_list = list(emotions.values())\n",
    "\n",
    "def is_silent(data):\n",
    "    # Returns 'True' if below the 'silent' threshold\n",
    "    return max(data) < 100"
   ]
  },
  {
   "cell_type": "code",
   "execution_count": 6,
   "metadata": {},
   "outputs": [
    {
     "name": "stdout",
     "output_type": "stream",
     "text": [
      "** session started\n",
      "* recording...\n",
      "* done recording\n"
     ]
    },
    {
     "name": "stderr",
     "output_type": "stream",
     "text": [
      "C:\\Users\\Abhay Singh\\AppData\\Local\\Temp\\ipykernel_12700\\1172383961.py:14: FutureWarning: Pass y=[-9.3452754e+03  1.7342195e+05 -3.2508938e+05 ...  3.4571360e+07\n",
      "  3.3695824e+07  2.5342630e+07] as keyword args. From version 0.10 passing these as positional arguments will result in an error\n",
      "  feature1 = librosa.feature.rms(final_x, frame_length=frame_length, hop_length=hop_length, center=True, pad_mode='reflect') # Energy - Root Mean Square\n",
      "C:\\Users\\Abhay Singh\\AppData\\Local\\Temp\\ipykernel_12700\\1172383961.py:16: FutureWarning: Pass y=[-9.3452754e+03  1.7342195e+05 -3.2508938e+05 ...  3.4571360e+07\n",
      "  3.3695824e+07  2.5342630e+07] as keyword args. From version 0.10 passing these as positional arguments will result in an error\n",
      "  feature3 = librosa.feature.mfcc(final_x, sr=sr, n_mfcc=13, hop_length = hop_length) # MFCC\n"
     ]
    },
    {
     "name": "stdout",
     "output_type": "stream",
     "text": [
      "1/1 [==============================] - 0s 252ms/step\n",
      "max emotion: sad\n",
      "----------------------------------------------------------------------------------------------------\n",
      "* recording...\n",
      "* done recording\n",
      "1/1 [==============================] - 0s 34ms/step\n"
     ]
    },
    {
     "name": "stderr",
     "output_type": "stream",
     "text": [
      "C:\\Users\\Abhay Singh\\AppData\\Local\\Temp\\ipykernel_12700\\1172383961.py:14: FutureWarning: Pass y=[   66021.74   700006.8   2631830.   ... -1771085.1   1233501.2\n",
      "  4770245.5 ] as keyword args. From version 0.10 passing these as positional arguments will result in an error\n",
      "  feature1 = librosa.feature.rms(final_x, frame_length=frame_length, hop_length=hop_length, center=True, pad_mode='reflect') # Energy - Root Mean Square\n",
      "C:\\Users\\Abhay Singh\\AppData\\Local\\Temp\\ipykernel_12700\\1172383961.py:16: FutureWarning: Pass y=[   66021.74   700006.8   2631830.   ... -1771085.1   1233501.2\n",
      "  4770245.5 ] as keyword args. From version 0.10 passing these as positional arguments will result in an error\n",
      "  feature3 = librosa.feature.mfcc(final_x, sr=sr, n_mfcc=13, hop_length = hop_length) # MFCC\n"
     ]
    },
    {
     "name": "stdout",
     "output_type": "stream",
     "text": [
      "max emotion: calm\n",
      "----------------------------------------------------------------------------------------------------\n",
      "* recording...\n",
      "* done recording\n"
     ]
    },
    {
     "name": "stderr",
     "output_type": "stream",
     "text": [
      "C:\\Users\\Abhay Singh\\AppData\\Local\\Temp\\ipykernel_12700\\1172383961.py:14: FutureWarning: Pass y=[ 8208925.     3452670.8   -1243596.9   ...    53856.14    -86461.16\n",
      "    59455.496] as keyword args. From version 0.10 passing these as positional arguments will result in an error\n",
      "  feature1 = librosa.feature.rms(final_x, frame_length=frame_length, hop_length=hop_length, center=True, pad_mode='reflect') # Energy - Root Mean Square\n",
      "C:\\Users\\Abhay Singh\\AppData\\Local\\Temp\\ipykernel_12700\\1172383961.py:16: FutureWarning: Pass y=[ 8208925.     3452670.8   -1243596.9   ...    53856.14    -86461.16\n",
      "    59455.496] as keyword args. From version 0.10 passing these as positional arguments will result in an error\n",
      "  feature3 = librosa.feature.mfcc(final_x, sr=sr, n_mfcc=13, hop_length = hop_length) # MFCC\n"
     ]
    },
    {
     "name": "stdout",
     "output_type": "stream",
     "text": [
      "1/1 [==============================] - 0s 37ms/step\n",
      "max emotion: calm\n",
      "----------------------------------------------------------------------------------------------------\n",
      "** session ended\n"
     ]
    },
    {
     "data": {
      "image/png": "[encoded data removed]",
      "text/plain": [
       "<Figure size 720x360 with 1 Axes>"
      ]
     },
     "metadata": {
      "needs_background": "light"
     },
     "output_type": "display_data"
    },
    {
     "name": "stdout",
     "output_type": "stream",
     "text": [
      "Emotions analyzed for: 32.3493 seconds\n"
     ]
    }
   ],
   "source": [
    "import wave\n",
    "from array import array\n",
    "import struct\n",
    "import time\n",
    "\n",
    "# Initialize variables\n",
    "RATE = 24414\n",
    "CHUNK = 512\n",
    "RECORD_SECONDS = 9.98\n",
    "\n",
    "FORMAT = pyaudio.paInt32\n",
    "CHANNELS = 1\n",
    "WAVE_OUTPUT_FILE = \"output.wav\"\n",
    "\n",
    "# Open an input channel\n",
    "p = pyaudio.PyAudio()\n",
    "stream = p.open(format=FORMAT,\n",
    "                channels=CHANNELS,\n",
    "                rate=RATE,\n",
    "                input=True,\n",
    "                frames_per_buffer=CHUNK)\n",
    "\n",
    "\n",
    "# Initialize a non-silent signals array to state \"True\" in the first 'while' iteration.\n",
    "data = array('h', np.random.randint(size = 512, low = 0, high = 500))\n",
    "\n",
    "# SESSION START\n",
    "print(\"** session started\")\n",
    "total_predictions = [] # A list for all predictions in the session.\n",
    "tic = time.perf_counter()\n",
    "\n",
    "while is_silent(data) == False:\n",
    "    print(\"* recording...\")\n",
    "    frames = [] \n",
    "    data = np.nan # Reset 'data' variable.\n",
    "\n",
    "    timesteps = int(RATE / CHUNK * RECORD_SECONDS) # => 339\n",
    "\n",
    "    # Insert frames to 'output.wav'.\n",
    "    for i in range(0, timesteps):\n",
    "        data = array('l', stream.read(CHUNK)) \n",
    "        frames.append(data)\n",
    "\n",
    "        wf = wave.open(WAVE_OUTPUT_FILE, 'wb')\n",
    "        wf.setnchannels(CHANNELS)\n",
    "        wf.setsampwidth(p.get_sample_size(FORMAT))\n",
    "        wf.setframerate(RATE)\n",
    "        wf.writeframes(b''.join(frames))\n",
    "\n",
    "    print(\"* done recording\")\n",
    "\n",
    "    X = preprocessing(WAVE_OUTPUT_FILE) # 'output.wav' file preprocessing.\n",
    "    # Model's prediction => an 8 emotion probabilities array.\n",
    "    predictions = model.predict(X, use_multiprocessing=True)\n",
    "    pred_list = list(predictions)\n",
    "    pred_np = np.squeeze(np.array(pred_list).tolist(), axis=0) # Get rid of 'array' & 'dtype' statments.\n",
    "    total_predictions.append(pred_np)\n",
    "    \n",
    "    max_emo = np.argmax(predictions)\n",
    "    print('max emotion:', emotions.get(max_emo,-1))\n",
    "    \n",
    "    print(100*'-')\n",
    "\n",
    "    # Define the last 2 seconds sequence.\n",
    "    last_frames = np.array(struct.unpack(str(96 * CHUNK) + 'B', np.stack(( frames[-1], frames[-2], frames[-3], frames[-4],\n",
    "                                                                            frames[-5], frames[-6], frames[-7], frames[-8],\n",
    "                                                                            frames[-9], frames[-10], frames[-11], frames[-12],\n",
    "                                                                            frames[-13], frames[-14], frames[-15], frames[-16],\n",
    "                                                                            frames[-17], frames[-18], frames[-19], frames[-20],\n",
    "                                                                            frames[-21], frames[-22], frames[-23], frames[-24]),\n",
    "                                                                            axis =1)), dtype = 'b')\n",
    "    if is_silent(last_frames): # If the last 2 seconds are silent, end the session.\n",
    "        break\n",
    "\n",
    "# SESSION END        \n",
    "toc = time.perf_counter()\n",
    "stream.stop_stream()\n",
    "stream.close()\n",
    "p.terminate()\n",
    "wf.close()\n",
    "print('** session ended')\n",
    "\n",
    "# Present emotion distribution for the whole session.\n",
    "total_predictions_np =  np.mean(np.array(total_predictions).tolist(), axis=0)\n",
    "fig = plt.figure(figsize = (10, 5))\n",
    "plt.bar(emo_list, total_predictions_np, color = 'indigo')\n",
    "plt.ylabel(\"Mean probabilty (%)\")\n",
    "plt.title(\"Session Summary\")\n",
    "plt.show()\n",
    "\n",
    "print(f\"Emotions analyzed for: {(toc - tic):0.4f} seconds\")"
   ]
  }
 ],
 "metadata": {
  "kernelspec": {
   "display_name": "Python 3.10.8 64-bit (microsoft store)",
   "language": "python",
   "name": "python3"
  },
  "language_info": {
   "codemirror_mode": {
    "name": "ipython",
    "version": 3
   },
   "file_extension": ".py",
   "mimetype": "text/x-python",
   "name": "python",
   "nbconvert_exporter": "python",
   "pygments_lexer": "ipython3",
   "version": "3.10.8"
  },
  "orig_nbformat": 4,
  "vscode": {
   "interpreter": {
    "hash": "30ac2d9b231ce26b891b8fc4a272c92a39446e016a116a04f4a8b9dca739ca56"
   }
  }
 },
 "nbformat": 4,
 "nbformat_minor": 2
}
