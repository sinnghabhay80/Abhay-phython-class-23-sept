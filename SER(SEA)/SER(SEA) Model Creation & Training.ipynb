{
  "cells": [
    {
      "cell_type": "code",
      "execution_count": null,
      "metadata": {
        "colab": {
          "base_uri": "https://localhost:8080/"
        },
        "id": "qMvE2jMsFDFJ",
        "outputId": "2fbe2b49-c854-4baa-e91d-c704f24e0772"
      },
      "outputs": [
        {
          "output_type": "stream",
          "name": "stdout",
          "text": [
            "Looking in indexes: https://pypi.org/simple, https://us-python.pkg.dev/colab-wheels/public/simple/\n",
            "Collecting json-tricks\n",
            "  Downloading json_tricks-3.15.5-py2.py3-none-any.whl (26 kB)\n",
            "Installing collected packages: json-tricks\n",
            "Successfully installed json-tricks-3.15.5\n"
          ]
        }
      ],
      "source": [
        "!pip install json-tricks"
      ]
    },
    {
      "cell_type": "code",
      "execution_count": null,
      "metadata": {
        "id": "_EsB9fxPTWMK"
      },
      "outputs": [],
      "source": [
        "import librosa\n",
        "import librosa.display\n",
        "import numpy as np\n",
        "import matplotlib.pyplot as plt\n",
        "from json_tricks import dump, load"
      ]
    },
    {
      "cell_type": "code",
      "execution_count": null,
      "metadata": {
        "colab": {
          "base_uri": "https://localhost:8080/"
        },
        "id": "g5igyXiSPSBx",
        "outputId": "de377faf-0aa8-485f-83f7-b0f821900a0d"
      },
      "outputs": [
        {
          "output_type": "stream",
          "name": "stdout",
          "text": [
            "Looking in indexes: https://pypi.org/simple, https://us-python.pkg.dev/colab-wheels/public/simple/\n",
            "Requirement already satisfied: pydub in /usr/local/lib/python3.7/dist-packages (0.25.1)\n",
            "Looking in indexes: https://pypi.org/simple, https://us-python.pkg.dev/colab-wheels/public/simple/\n",
            "Requirement already satisfied: noisereduce in /usr/local/lib/python3.7/dist-packages (2.0.1)\n",
            "Requirement already satisfied: scipy in /usr/local/lib/python3.7/dist-packages (from noisereduce) (1.7.3)\n",
            "Requirement already satisfied: matplotlib in /usr/local/lib/python3.7/dist-packages (from noisereduce) (3.2.2)\n",
            "Requirement already satisfied: numpy in /usr/local/lib/python3.7/dist-packages (from noisereduce) (1.21.6)\n",
            "Requirement already satisfied: librosa in /usr/local/lib/python3.7/dist-packages (from noisereduce) (0.8.1)\n",
            "Requirement already satisfied: tqdm in /usr/local/lib/python3.7/dist-packages (from noisereduce) (4.64.1)\n",
            "Requirement already satisfied: packaging>=20.0 in /usr/local/lib/python3.7/dist-packages (from librosa->noisereduce) (21.3)\n",
            "Requirement already satisfied: resampy>=0.2.2 in /usr/local/lib/python3.7/dist-packages (from librosa->noisereduce) (0.4.2)\n",
            "Requirement already satisfied: joblib>=0.14 in /usr/local/lib/python3.7/dist-packages (from librosa->noisereduce) (1.2.0)\n",
            "Requirement already satisfied: soundfile>=0.10.2 in /usr/local/lib/python3.7/dist-packages (from librosa->noisereduce) (0.11.0)\n",
            "Requirement already satisfied: scikit-learn!=0.19.0,>=0.14.0 in /usr/local/lib/python3.7/dist-packages (from librosa->noisereduce) (1.0.2)\n",
            "Requirement already satisfied: audioread>=2.0.0 in /usr/local/lib/python3.7/dist-packages (from librosa->noisereduce) (3.0.0)\n",
            "Requirement already satisfied: pooch>=1.0 in /usr/local/lib/python3.7/dist-packages (from librosa->noisereduce) (1.6.0)\n",
            "Requirement already satisfied: decorator>=3.0.0 in /usr/local/lib/python3.7/dist-packages (from librosa->noisereduce) (4.4.2)\n",
            "Requirement already satisfied: numba>=0.43.0 in /usr/local/lib/python3.7/dist-packages (from librosa->noisereduce) (0.56.3)\n",
            "Requirement already satisfied: importlib-metadata in /usr/local/lib/python3.7/dist-packages (from numba>=0.43.0->librosa->noisereduce) (4.13.0)\n",
            "Requirement already satisfied: llvmlite<0.40,>=0.39.0dev0 in /usr/local/lib/python3.7/dist-packages (from numba>=0.43.0->librosa->noisereduce) (0.39.1)\n",
            "Requirement already satisfied: setuptools in /usr/local/lib/python3.7/dist-packages (from numba>=0.43.0->librosa->noisereduce) (57.4.0)\n",
            "Requirement already satisfied: pyparsing!=3.0.5,>=2.0.2 in /usr/local/lib/python3.7/dist-packages (from packaging>=20.0->librosa->noisereduce) (3.0.9)\n",
            "Requirement already satisfied: appdirs>=1.3.0 in /usr/local/lib/python3.7/dist-packages (from pooch>=1.0->librosa->noisereduce) (1.4.4)\n",
            "Requirement already satisfied: requests>=2.19.0 in /usr/local/lib/python3.7/dist-packages (from pooch>=1.0->librosa->noisereduce) (2.23.0)\n",
            "Requirement already satisfied: urllib3!=1.25.0,!=1.25.1,<1.26,>=1.21.1 in /usr/local/lib/python3.7/dist-packages (from requests>=2.19.0->pooch>=1.0->librosa->noisereduce) (1.24.3)\n",
            "Requirement already satisfied: chardet<4,>=3.0.2 in /usr/local/lib/python3.7/dist-packages (from requests>=2.19.0->pooch>=1.0->librosa->noisereduce) (3.0.4)\n",
            "Requirement already satisfied: certifi>=2017.4.17 in /usr/local/lib/python3.7/dist-packages (from requests>=2.19.0->pooch>=1.0->librosa->noisereduce) (2022.9.24)\n",
            "Requirement already satisfied: idna<3,>=2.5 in /usr/local/lib/python3.7/dist-packages (from requests>=2.19.0->pooch>=1.0->librosa->noisereduce) (2.10)\n",
            "Requirement already satisfied: threadpoolctl>=2.0.0 in /usr/local/lib/python3.7/dist-packages (from scikit-learn!=0.19.0,>=0.14.0->librosa->noisereduce) (3.1.0)\n",
            "Requirement already satisfied: cffi>=1.0 in /usr/local/lib/python3.7/dist-packages (from soundfile>=0.10.2->librosa->noisereduce) (1.15.1)\n",
            "Requirement already satisfied: pycparser in /usr/local/lib/python3.7/dist-packages (from cffi>=1.0->soundfile>=0.10.2->librosa->noisereduce) (2.21)\n",
            "Requirement already satisfied: typing-extensions>=3.6.4 in /usr/local/lib/python3.7/dist-packages (from importlib-metadata->numba>=0.43.0->librosa->noisereduce) (4.1.1)\n",
            "Requirement already satisfied: zipp>=0.5 in /usr/local/lib/python3.7/dist-packages (from importlib-metadata->numba>=0.43.0->librosa->noisereduce) (3.9.0)\n",
            "Requirement already satisfied: cycler>=0.10 in /usr/local/lib/python3.7/dist-packages (from matplotlib->noisereduce) (0.11.0)\n",
            "Requirement already satisfied: kiwisolver>=1.0.1 in /usr/local/lib/python3.7/dist-packages (from matplotlib->noisereduce) (1.4.4)\n",
            "Requirement already satisfied: python-dateutil>=2.1 in /usr/local/lib/python3.7/dist-packages (from matplotlib->noisereduce) (2.8.2)\n",
            "Requirement already satisfied: six>=1.5 in /usr/local/lib/python3.7/dist-packages (from python-dateutil>=2.1->matplotlib->noisereduce) (1.15.0)\n"
          ]
        }
      ],
      "source": [
        "!pip install pydub\n",
        "!pip install noisereduce"
      ]
    },
    {
      "cell_type": "code",
      "execution_count": null,
      "metadata": {
        "id": "AZaKcF_0TWMP",
        "colab": {
          "base_uri": "https://localhost:8080/",
          "height": 321
        },
        "outputId": "83b683b7-30f2-4879-a107-5cabc86e1060"
      },
      "outputs": [
        {
          "output_type": "error",
          "ename": "ModuleNotFoundError",
          "evalue": "ignored",
          "traceback": [
            "\u001b[0;31m---------------------------------------------------------------------------\u001b[0m",
            "\u001b[0;31mModuleNotFoundError\u001b[0m                       Traceback (most recent call last)",
            "\u001b[0;32m<ipython-input-2-d9c94aea7e01>\u001b[0m in \u001b[0;36m<module>\u001b[0;34m\u001b[0m\n\u001b[0;32m----> 1\u001b[0;31m \u001b[0;32mfrom\u001b[0m \u001b[0mpydub\u001b[0m \u001b[0;32mimport\u001b[0m \u001b[0mAudioSegment\u001b[0m\u001b[0;34m,\u001b[0m \u001b[0meffects\u001b[0m\u001b[0;34m\u001b[0m\u001b[0;34m\u001b[0m\u001b[0m\n\u001b[0m\u001b[1;32m      2\u001b[0m \u001b[0;32mimport\u001b[0m \u001b[0mnoisereduce\u001b[0m \u001b[0;32mas\u001b[0m \u001b[0mnr\u001b[0m\u001b[0;34m\u001b[0m\u001b[0;34m\u001b[0m\u001b[0m\n",
            "\u001b[0;31mModuleNotFoundError\u001b[0m: No module named 'pydub'",
            "",
            "\u001b[0;31m---------------------------------------------------------------------------\u001b[0;32m\nNOTE: If your import is failing due to a missing package, you can\nmanually install dependencies using either !pip or !apt.\n\nTo view examples of installing some common dependencies, click the\n\"Open Examples\" button below.\n\u001b[0;31m---------------------------------------------------------------------------\u001b[0m\n"
          ],
          "errorDetails": {
            "actions": [
              {
                "action": "open_url",
                "actionText": "Open Examples",
                "url": "/notebooks/snippets/importing_libraries.ipynb"
              }
            ]
          }
        }
      ],
      "source": [
        "from pydub import AudioSegment, effects\n",
        "import noisereduce as nr"
      ]
    },
    {
      "cell_type": "code",
      "execution_count": null,
      "metadata": {
        "id": "CeBrUGzZTWMR"
      },
      "outputs": [],
      "source": [
        "import tensorflow as tf"
      ]
    },
    {
      "cell_type": "code",
      "execution_count": null,
      "metadata": {
        "id": "X9sqQ8lETWMS"
      },
      "outputs": [],
      "source": [
        "import os"
      ]
    },
    {
      "cell_type": "code",
      "execution_count": null,
      "metadata": {
        "colab": {
          "base_uri": "https://localhost:8080/"
        },
        "id": "gtgOrRF1YG51",
        "outputId": "e29cd07b-4a10-44ac-869e-d6126520f5c1"
      },
      "outputs": [
        {
          "output_type": "stream",
          "name": "stdout",
          "text": [
            "Mounted at /content/drive\n"
          ]
        }
      ],
      "source": [
        "from google.colab import drive\n",
        "drive.mount('/content/drive')"
      ]
    },
    {
      "cell_type": "code",
      "execution_count": null,
      "metadata": {
        "id": "ahd6lPidTWMV"
      },
      "outputs": [],
      "source": [
        "#for taking emotions from TESS database\n",
        "\n",
        "def from_TESS(fname):\n",
        "    if 'neutral' in fname : return '01'\n",
        "    elif 'happy' in fname : return '03'\n",
        "    elif 'sad' in fname : return '04'\n",
        "    elif 'angry' in fname : return '05'\n",
        "    elif 'fear' in fname : return '06'\n",
        "    elif 'disgust' in fname : return '07'\n",
        "    elif 'ps' in fname : return '08' # pleasent surprise\n",
        "    else : return '-1'"
      ]
    },
    {
      "cell_type": "code",
      "execution_count": null,
      "metadata": {
        "id": "elVH_nzRTWMW"
      },
      "outputs": [],
      "source": [
        "def get_emotion(fname):\n",
        "    if fname == '01' : return 0 #Neutral\n",
        "    elif fname == '02' : return 1 #Calm\n",
        "    elif fname == '03' : return 2 #Happy\n",
        "    elif fname == '04' : return 3 #Sad\n",
        "    elif fname == '05' : return 4 #Angry\n",
        "    elif fname == '06' : return 5 #Fear\n",
        "    elif fname == '07' : return 6 #Disgust\n",
        "    elif fname == '08' : return 7 #Pleasent Surprise"
      ]
    },
    {
      "cell_type": "code",
      "execution_count": null,
      "metadata": {
        "id": "SoCNI2QsXFyx"
      },
      "outputs": [],
      "source": [
        "os.getcwd()"
      ]
    },
    {
      "cell_type": "code",
      "execution_count": null,
      "metadata": {
        "id": "1d_-8CF9TWMY"
      },
      "outputs": [],
      "source": [
        "# Maximum samples count for padding purposes.\n",
        "\n",
        "sample_lengths = []\n",
        "folder_path = '/content/drive/My Drive/SER Databases'\n",
        "os.listdir(folder_path)\n",
        "for subdir, dirs, files in os.walk(folder_path):\n",
        "  for file in files: \n",
        "    x, sr = librosa.load(path = os.path.join(subdir,file), sr = None)\n",
        "    xt, index = librosa.effects.trim(x, top_db=30)\n",
        "\n",
        "    sample_lengths.append(len(xt))\n",
        "  "
      ]
    },
    {
      "cell_type": "code",
      "execution_count": null,
      "metadata": {
        "id": "UzgPcJa6TWMa"
      },
      "outputs": [],
      "source": [
        "np.max(sample_lengths)"
      ]
    },
    {
      "cell_type": "code",
      "execution_count": null,
      "metadata": {
        "id": "hM0CptIRTWMb"
      },
      "outputs": [],
      "source": [
        "rms = []\n",
        "zcr = []\n",
        "mfcc = []\n",
        "emotions = []\n",
        "\n",
        "# Initialize variables\n",
        "total_length = 243200 # desired frame length for all of the audio samples./Max of Sample Length\n",
        "frame_length = 2048\n",
        "hop_length = 512\n",
        "\n",
        "for subdir, dirs, files in os.walk(folder_path):\n",
        "  for file in files: \n",
        "\n",
        "    # Fetch the sample rate.\n",
        "      _, sr = librosa.load(path = os.path.join(subdir,file), sr = None) # sr (the sample rate) is used for librosa's MFCCs. '_' is irrelevant.\n",
        "    # Load the audio file.\n",
        "      rawsound = AudioSegment.from_file(os.path.join(subdir,file)) \n",
        "    # Normalize the audio to +5.0 dBFS.\n",
        "      normalizedsound = effects.normalize(rawsound, headroom = 0) \n",
        "    # Transform the normalized audio to np.array of samples.\n",
        "      normal_x = np.array(normalizedsound.get_array_of_samples(), dtype = 'float32')\n",
        "    # Trim silence from the beginning and the end.\n",
        "      xt, index = librosa.effects.trim(normal_x, top_db=30)\n",
        "      padded_x = np.pad(xt, (0, abs(total_length-len(xt))), 'constant')\n",
        "    # Noise reduction.\n",
        "      final_x = nr.reduce_noise(padded_x, sr=sr) \n",
        "\n",
        "    # Features extraction \n",
        "      feature1 = librosa.feature.rms(final_x, frame_length=frame_length, hop_length=hop_length) # Energy - Root Mean Square   \n",
        "      feature2 = librosa.feature.zero_crossing_rate(final_x , frame_length=frame_length, hop_length=hop_length, center=True) # ZCR      \n",
        "      feature3 = librosa.feature.mfcc(final_x, sr=sr, n_mfcc=13, hop_length = hop_length) # MFCC\n",
        "\n",
        "    #Extracting Emotion from the files of different Datasets\n",
        "      if(from_TESS(file) != '-1'):\n",
        "        ename = from_TESS(file)\n",
        "\n",
        "      else :\n",
        "        ename = file[6:8]\n",
        "\n",
        "    #Appending Extracted features into pre-initiatlised lists\n",
        "      rms.append(feature1)\n",
        "      zcr.append(feature2)\n",
        "      mfcc.append(feature3)\n",
        "      emotions.append(get_emotion(ename))\n",
        "      "
      ]
    },
    {
      "cell_type": "code",
      "execution_count": null,
      "metadata": {
        "id": "6aegy-hGM7Y9"
      },
      "outputs": [],
      "source": [
        "#Deleting a row with mismatched size to have the data more in line with each other\n",
        "\n",
        "\n",
        "del rms[2880]\n",
        "del zcr[2880]\n",
        "del mfcc[2880]\n",
        "del emotions[2880]"
      ]
    },
    {
      "cell_type": "code",
      "execution_count": null,
      "metadata": {
        "id": "jyqQzzRjMwwQ"
      },
      "outputs": [],
      "source": [
        "#Converting the list to features to array\n",
        "\n",
        "feature_rms = np.dstack(rms)\n",
        "feature_zcr = np.dstack(zcr)\n",
        "feature_mfcc = np.dstack(mfcc)\n",
        "target_emotion = np.asarray(emotions, dtype = int)"
      ]
    },
    {
      "cell_type": "code",
      "execution_count": null,
      "metadata": {
        "id": "7T3i2TjJOcV_"
      },
      "outputs": [],
      "source": [
        "#Swapping Values and Cols\n",
        "\n",
        "feature_rms = np.swapaxes(feature_rms, 0, 2)\n",
        "feature_zcr = np.swapaxes(feature_zcr, 0, 2)\n",
        "feature_mfcc = np.swapaxes(feature_mfcc, 0, 2)"
      ]
    },
    {
      "cell_type": "code",
      "execution_count": null,
      "metadata": {
        "id": "-hzJQhQbbRoA"
      },
      "outputs": [],
      "source": [
        "#Concatinating all 3 feature arrays to form a dataframe of sorts for training purpose.\n",
        "\n",
        "X = np.concatenate((feature_rms, feature_zcr, feature_mfcc), axis = 2)\n",
        "\n",
        "#Creating target variable y\n",
        "y = target_emotion\n",
        "y = np.expand_dims(y, axis = 1)"
      ]
    },
    {
      "cell_type": "code",
      "execution_count": null,
      "metadata": {
        "id": "uhXQX0-WDi3b"
      },
      "outputs": [],
      "source": [
        "# Save X, y arrays as lists to json files.\n",
        "\n",
        "x_save = X.tolist() \n",
        "x_save_path = '/content/drive/My Drive/SER Databases/X_save.json' # FILE SAVE PATH\n",
        "dump(obj = x_save, fp = x_save_path)\n",
        "\n",
        "y_save = y.tolist() \n",
        "y_save_path = '/content/drive/My Drive/SER Databases/y_save.json' # FILE SAVE PATH\n",
        "dump(obj = y_save, fp = y_save_path)"
      ]
    },
    {
      "cell_type": "code",
      "execution_count": null,
      "metadata": {
        "id": "Zn5EsKgVFkCl"
      },
      "outputs": [],
      "source": [
        "# Load X, y json files back into lists, convert to np.arrays\n",
        "\n",
        "x_load_path = '/content/drive/My Drive/SER Databases/X_save.json' # FILE LOAD PATH\n",
        "X_load = load(x_load_path)\n",
        "X_load = np.asarray(X_load, dtype = 'float32')\n",
        "\n",
        "y_load_path = '/content/drive/My Drive/SER Databases/y_save.json' # FILE LOAD PATH\n",
        "y_load = load(y_load_path)\n",
        "y_load = np.asarray(y_load, dtype = 'int8')"
      ]
    },
    {
      "cell_type": "markdown",
      "metadata": {
        "id": "sT9aeTw5c5qI"
      },
      "source": [
        "#Creating training, validation and testing data from the complete data variable X."
      ]
    },
    {
      "cell_type": "code",
      "execution_count": null,
      "metadata": {
        "id": "kq3hfc-Dw_AV"
      },
      "outputs": [],
      "source": [
        "X = X_load\n",
        "y = y_load"
      ]
    },
    {
      "cell_type": "code",
      "execution_count": null,
      "metadata": {
        "id": "Yd35mnQsZ45a"
      },
      "outputs": [],
      "source": [
        "from sklearn.model_selection import train_test_split\n",
        "X_train, X_test_valid, y_train, y_test_valid = train_test_split(X, y, train_size = 0.8, random_state = 1)\n",
        "X_test, X_valid, y_test, y_valid = train_test_split(X_test_valid, y_test_valid, train_size = 0.4, random_state = 1)"
      ]
    },
    {
      "cell_type": "code",
      "execution_count": null,
      "metadata": {
        "id": "5gEpTxBV5odV"
      },
      "outputs": [],
      "source": [
        "X_valid = np.delete(X_valid, 0, 0)\n",
        "y_valid = np.delete(y_valid, 0, 0)"
      ]
    },
    {
      "cell_type": "code",
      "execution_count": null,
      "metadata": {
        "colab": {
          "base_uri": "https://localhost:8080/"
        },
        "id": "Z2tJ7wIcGfYc",
        "outputId": "ffef5dd1-6350-4da5-e197-ad2e48190be7"
      },
      "outputs": [
        {
          "output_type": "stream",
          "name": "stdout",
          "text": [
            "(4200, 476, 15)\n",
            "(630, 476, 15)\n",
            "(420, 476, 15)\n"
          ]
        }
      ],
      "source": [
        "print(np.shape(X_train))\n",
        "print(np.shape(X_valid))\n",
        "print(np.shape(X_test))"
      ]
    },
    {
      "cell_type": "markdown",
      "metadata": {
        "id": "V5gcoS3Eyl5H"
      },
      "source": [
        "One-Hot Vectoring of training and validation target variables"
      ]
    },
    {
      "cell_type": "code",
      "execution_count": null,
      "metadata": {
        "id": "LlHe7BLDyjdH"
      },
      "outputs": [],
      "source": [
        "y_train_class = tf.keras.utils.to_categorical(y_train, 8, dtype = 'int8')\n",
        "y_valid_class = tf.keras.utils.to_categorical(y_valid, 8, dtype = 'int8')\n",
        "y_test_class = tf.keras.utils.to_categorical(y_test, 8, dtype = 'int8')"
      ]
    },
    {
      "cell_type": "markdown",
      "metadata": {
        "id": "kwhpm5cAybmL"
      },
      "source": [
        "**Model Building**"
      ]
    },
    {
      "cell_type": "code",
      "execution_count": null,
      "metadata": {
        "id": "6sS_eR7pqhiT"
      },
      "outputs": [],
      "source": [
        "from keras.models import Sequential, load_model\n",
        "from keras import layers\n",
        "from keras import optimizers\n",
        "from keras import callbacks \n",
        "import pickle"
      ]
    },
    {
      "cell_type": "markdown",
      "metadata": {
        "id": "65qSjteE0BG6"
      },
      "source": [
        "#**Model Creation Practice**"
      ]
    },
    {
      "cell_type": "code",
      "execution_count": null,
      "metadata": {
        "colab": {
          "base_uri": "https://localhost:8080/"
        },
        "id": "A3978Pftz7q5",
        "outputId": "2620a683-660d-4461-e7d6-eb505ac83695"
      },
      "outputs": [
        {
          "output_type": "stream",
          "name": "stdout",
          "text": [
            "Model: \"sequential_8\"\n",
            "_________________________________________________________________\n",
            " Layer (type)                Output Shape              Param #   \n",
            "=================================================================\n",
            " conv2d_8 (Conv2D)           (None, 472, 11, 64)       1664      \n",
            "                                                                 \n",
            " conv2d_9 (Conv2D)           (None, 468, 7, 64)        102464    \n",
            "                                                                 \n",
            " conv2d_10 (Conv2D)          (None, 464, 3, 64)        102464    \n",
            "                                                                 \n",
            " flatten (Flatten)           (None, 89088)             0         \n",
            "                                                                 \n",
            " dense (Dense)               (None, 64)                5701696   \n",
            "                                                                 \n",
            " dense_1 (Dense)             (None, 32)                2080      \n",
            "                                                                 \n",
            " dense_2 (Dense)             (None, 8)                 264       \n",
            "                                                                 \n",
            "=================================================================\n",
            "Total params: 5,910,632\n",
            "Trainable params: 5,910,632\n",
            "Non-trainable params: 0\n",
            "_________________________________________________________________\n",
            "Epoch 1/80\n",
            "40/40 [==============================] - ETA: 0s - loss: 30.0987 - categorical_accuracy: 0.2424\n",
            "Epoch 1: val_categorical_accuracy improved from -inf to 0.40317, saving model to /content/drive/My Drive/SER Databases/Checkpoint_SER/model_ser.hdf5\n",
            "40/40 [==============================] - 16s 146ms/step - loss: 30.0987 - categorical_accuracy: 0.2424 - val_loss: 1.6783 - val_categorical_accuracy: 0.4032\n",
            "Epoch 2/80\n",
            "40/40 [==============================] - ETA: 0s - loss: 2.0519 - categorical_accuracy: 0.3879\n",
            "Epoch 2: val_categorical_accuracy improved from 0.40317 to 0.45397, saving model to /content/drive/My Drive/SER Databases/Checkpoint_SER/model_ser.hdf5\n",
            "40/40 [==============================] - 4s 104ms/step - loss: 2.0519 - categorical_accuracy: 0.3879 - val_loss: 1.8273 - val_categorical_accuracy: 0.4540\n",
            "Epoch 3/80\n",
            "40/40 [==============================] - ETA: 0s - loss: 1.8467 - categorical_accuracy: 0.5081\n",
            "Epoch 3: val_categorical_accuracy improved from 0.45397 to 0.63175, saving model to /content/drive/My Drive/SER Databases/Checkpoint_SER/model_ser.hdf5\n",
            "40/40 [==============================] - 4s 104ms/step - loss: 1.8467 - categorical_accuracy: 0.5081 - val_loss: 1.0555 - val_categorical_accuracy: 0.6317\n",
            "Epoch 4/80\n",
            "40/40 [==============================] - ETA: 0s - loss: 1.0274 - categorical_accuracy: 0.6326\n",
            "Epoch 4: val_categorical_accuracy improved from 0.63175 to 0.67778, saving model to /content/drive/My Drive/SER Databases/Checkpoint_SER/model_ser.hdf5\n",
            "40/40 [==============================] - 4s 101ms/step - loss: 1.0274 - categorical_accuracy: 0.6326 - val_loss: 0.8640 - val_categorical_accuracy: 0.6778\n",
            "Epoch 5/80\n",
            "40/40 [==============================] - ETA: 0s - loss: 0.9821 - categorical_accuracy: 0.6733\n",
            "Epoch 5: val_categorical_accuracy did not improve from 0.67778\n",
            "40/40 [==============================] - 4s 101ms/step - loss: 0.9821 - categorical_accuracy: 0.6733 - val_loss: 1.2012 - val_categorical_accuracy: 0.5825\n",
            "Epoch 6/80\n",
            "40/40 [==============================] - ETA: 0s - loss: 0.8735 - categorical_accuracy: 0.7083\n",
            "Epoch 6: val_categorical_accuracy improved from 0.67778 to 0.70476, saving model to /content/drive/My Drive/SER Databases/Checkpoint_SER/model_ser.hdf5\n",
            "40/40 [==============================] - 4s 102ms/step - loss: 0.8735 - categorical_accuracy: 0.7083 - val_loss: 0.8665 - val_categorical_accuracy: 0.7048\n",
            "Epoch 7/80\n",
            "40/40 [==============================] - ETA: 0s - loss: 0.6980 - categorical_accuracy: 0.7736\n",
            "Epoch 7: val_categorical_accuracy did not improve from 0.70476\n",
            "40/40 [==============================] - 4s 102ms/step - loss: 0.6980 - categorical_accuracy: 0.7736 - val_loss: 1.0144 - val_categorical_accuracy: 0.6921\n",
            "Epoch 8/80\n",
            "40/40 [==============================] - ETA: 0s - loss: 0.5003 - categorical_accuracy: 0.8257\n",
            "Epoch 8: val_categorical_accuracy did not improve from 0.70476\n",
            "40/40 [==============================] - 4s 103ms/step - loss: 0.5003 - categorical_accuracy: 0.8257 - val_loss: 2.4192 - val_categorical_accuracy: 0.6095\n",
            "Epoch 9/80\n",
            "40/40 [==============================] - ETA: 0s - loss: 0.4515 - categorical_accuracy: 0.8579\n",
            "Epoch 9: val_categorical_accuracy improved from 0.70476 to 0.72222, saving model to /content/drive/My Drive/SER Databases/Checkpoint_SER/model_ser.hdf5\n",
            "40/40 [==============================] - 5s 115ms/step - loss: 0.4515 - categorical_accuracy: 0.8579 - val_loss: 1.0627 - val_categorical_accuracy: 0.7222\n",
            "Epoch 10/80\n",
            "40/40 [==============================] - ETA: 0s - loss: 0.3317 - categorical_accuracy: 0.8988\n",
            "Epoch 10: val_categorical_accuracy did not improve from 0.72222\n",
            "40/40 [==============================] - 4s 103ms/step - loss: 0.3317 - categorical_accuracy: 0.8988 - val_loss: 1.2059 - val_categorical_accuracy: 0.7000\n",
            "Epoch 11/80\n",
            "40/40 [==============================] - ETA: 0s - loss: 0.2669 - categorical_accuracy: 0.9176\n",
            "Epoch 11: val_categorical_accuracy did not improve from 0.72222\n",
            "40/40 [==============================] - 4s 104ms/step - loss: 0.2669 - categorical_accuracy: 0.9176 - val_loss: 1.4471 - val_categorical_accuracy: 0.7206\n",
            "Epoch 12/80\n",
            "40/40 [==============================] - ETA: 0s - loss: 0.2294 - categorical_accuracy: 0.9305\n",
            "Epoch 12: val_categorical_accuracy did not improve from 0.72222\n",
            "40/40 [==============================] - 4s 100ms/step - loss: 0.2294 - categorical_accuracy: 0.9305 - val_loss: 2.0989 - val_categorical_accuracy: 0.7159\n",
            "Epoch 13/80\n",
            "40/40 [==============================] - ETA: 0s - loss: 0.1791 - categorical_accuracy: 0.9476\n",
            "Epoch 13: val_categorical_accuracy improved from 0.72222 to 0.74127, saving model to /content/drive/My Drive/SER Databases/Checkpoint_SER/model_ser.hdf5\n",
            "40/40 [==============================] - 5s 116ms/step - loss: 0.1791 - categorical_accuracy: 0.9476 - val_loss: 1.6957 - val_categorical_accuracy: 0.7413\n",
            "Epoch 14/80\n",
            "40/40 [==============================] - ETA: 0s - loss: 0.1389 - categorical_accuracy: 0.9583\n",
            "Epoch 14: val_categorical_accuracy did not improve from 0.74127\n",
            "40/40 [==============================] - 4s 99ms/step - loss: 0.1389 - categorical_accuracy: 0.9583 - val_loss: 1.8756 - val_categorical_accuracy: 0.7333\n",
            "Epoch 15/80\n",
            "40/40 [==============================] - ETA: 0s - loss: 0.1451 - categorical_accuracy: 0.9569\n",
            "Epoch 15: val_categorical_accuracy did not improve from 0.74127\n",
            "40/40 [==============================] - 4s 99ms/step - loss: 0.1451 - categorical_accuracy: 0.9569 - val_loss: 2.2428 - val_categorical_accuracy: 0.7302\n",
            "Epoch 16/80\n",
            "40/40 [==============================] - ETA: 0s - loss: 0.1907 - categorical_accuracy: 0.9629\n",
            "Epoch 16: val_categorical_accuracy did not improve from 0.74127\n",
            "40/40 [==============================] - 4s 102ms/step - loss: 0.1907 - categorical_accuracy: 0.9629 - val_loss: 2.3909 - val_categorical_accuracy: 0.7238\n",
            "Epoch 17/80\n",
            "40/40 [==============================] - ETA: 0s - loss: 0.1569 - categorical_accuracy: 0.9631\n",
            "Epoch 17: val_categorical_accuracy did not improve from 0.74127\n",
            "40/40 [==============================] - 4s 98ms/step - loss: 0.1569 - categorical_accuracy: 0.9631 - val_loss: 2.2907 - val_categorical_accuracy: 0.7333\n",
            "Epoch 18/80\n",
            "40/40 [==============================] - ETA: 0s - loss: 0.0829 - categorical_accuracy: 0.9781\n",
            "Epoch 18: val_categorical_accuracy did not improve from 0.74127\n",
            "40/40 [==============================] - 4s 102ms/step - loss: 0.0829 - categorical_accuracy: 0.9781 - val_loss: 2.7421 - val_categorical_accuracy: 0.7302\n",
            "Epoch 19/80\n",
            "40/40 [==============================] - ETA: 0s - loss: 0.1198 - categorical_accuracy: 0.9743\n",
            "Epoch 19: val_categorical_accuracy did not improve from 0.74127\n",
            "40/40 [==============================] - 4s 102ms/step - loss: 0.1198 - categorical_accuracy: 0.9743 - val_loss: 3.3013 - val_categorical_accuracy: 0.7413\n",
            "Epoch 20/80\n",
            "40/40 [==============================] - ETA: 0s - loss: 0.5419 - categorical_accuracy: 0.9581\n",
            "Epoch 20: val_categorical_accuracy did not improve from 0.74127\n",
            "40/40 [==============================] - 4s 102ms/step - loss: 0.5419 - categorical_accuracy: 0.9581 - val_loss: 3.5684 - val_categorical_accuracy: 0.7254\n",
            "Epoch 21/80\n",
            "40/40 [==============================] - ETA: 0s - loss: 0.0438 - categorical_accuracy: 0.9895\n",
            "Epoch 21: val_categorical_accuracy did not improve from 0.74127\n",
            "40/40 [==============================] - 4s 101ms/step - loss: 0.0438 - categorical_accuracy: 0.9895 - val_loss: 3.9302 - val_categorical_accuracy: 0.7286\n",
            "Epoch 22/80\n",
            "40/40 [==============================] - ETA: 0s - loss: 0.0980 - categorical_accuracy: 0.9769\n",
            "Epoch 22: val_categorical_accuracy did not improve from 0.74127\n",
            "40/40 [==============================] - 4s 101ms/step - loss: 0.0980 - categorical_accuracy: 0.9769 - val_loss: 3.1665 - val_categorical_accuracy: 0.7302\n",
            "Epoch 23/80\n",
            "40/40 [==============================] - ETA: 0s - loss: 0.0705 - categorical_accuracy: 0.9845\n",
            "Epoch 23: val_categorical_accuracy did not improve from 0.74127\n",
            "40/40 [==============================] - 4s 101ms/step - loss: 0.0705 - categorical_accuracy: 0.9845 - val_loss: 3.8719 - val_categorical_accuracy: 0.7286\n",
            "Epoch 24/80\n",
            "40/40 [==============================] - ETA: 0s - loss: 0.1302 - categorical_accuracy: 0.9752\n",
            "Epoch 24: val_categorical_accuracy did not improve from 0.74127\n",
            "40/40 [==============================] - 4s 98ms/step - loss: 0.1302 - categorical_accuracy: 0.9752 - val_loss: 3.7293 - val_categorical_accuracy: 0.7270\n",
            "Epoch 25/80\n",
            "40/40 [==============================] - ETA: 0s - loss: 0.0672 - categorical_accuracy: 0.9843\n",
            "Epoch 25: val_categorical_accuracy improved from 0.74127 to 0.75714, saving model to /content/drive/My Drive/SER Databases/Checkpoint_SER/model_ser.hdf5\n",
            "40/40 [==============================] - 5s 119ms/step - loss: 0.0672 - categorical_accuracy: 0.9843 - val_loss: 4.4610 - val_categorical_accuracy: 0.7571\n",
            "Epoch 26/80\n",
            "40/40 [==============================] - ETA: 0s - loss: 0.0515 - categorical_accuracy: 0.9886\n",
            "Epoch 26: val_categorical_accuracy did not improve from 0.75714\n",
            "40/40 [==============================] - 4s 102ms/step - loss: 0.0515 - categorical_accuracy: 0.9886 - val_loss: 3.8293 - val_categorical_accuracy: 0.7460\n",
            "Epoch 27/80\n",
            "40/40 [==============================] - ETA: 0s - loss: 0.0813 - categorical_accuracy: 0.9848\n",
            "Epoch 27: val_categorical_accuracy did not improve from 0.75714\n",
            "40/40 [==============================] - 4s 102ms/step - loss: 0.0813 - categorical_accuracy: 0.9848 - val_loss: 3.9529 - val_categorical_accuracy: 0.7349\n",
            "Epoch 28/80\n",
            "40/40 [==============================] - ETA: 0s - loss: 0.0826 - categorical_accuracy: 0.9867\n",
            "Epoch 28: val_categorical_accuracy did not improve from 0.75714\n",
            "40/40 [==============================] - 4s 99ms/step - loss: 0.0826 - categorical_accuracy: 0.9867 - val_loss: 3.1508 - val_categorical_accuracy: 0.7365\n",
            "Epoch 29/80\n",
            "40/40 [==============================] - ETA: 0s - loss: 0.3848 - categorical_accuracy: 0.9683\n",
            "Epoch 29: val_categorical_accuracy did not improve from 0.75714\n",
            "40/40 [==============================] - 4s 99ms/step - loss: 0.3848 - categorical_accuracy: 0.9683 - val_loss: 5.5323 - val_categorical_accuracy: 0.7254\n",
            "Epoch 30/80\n",
            "40/40 [==============================] - ETA: 0s - loss: 0.0665 - categorical_accuracy: 0.9886\n",
            "Epoch 30: val_categorical_accuracy did not improve from 0.75714\n",
            "40/40 [==============================] - 4s 98ms/step - loss: 0.0665 - categorical_accuracy: 0.9886 - val_loss: 4.9845 - val_categorical_accuracy: 0.7460\n",
            "Epoch 31/80\n",
            "40/40 [==============================] - ETA: 0s - loss: 0.0804 - categorical_accuracy: 0.9881\n",
            "Epoch 31: val_categorical_accuracy did not improve from 0.75714\n",
            "40/40 [==============================] - 4s 102ms/step - loss: 0.0804 - categorical_accuracy: 0.9881 - val_loss: 5.9517 - val_categorical_accuracy: 0.7540\n",
            "Epoch 32/80\n",
            "40/40 [==============================] - ETA: 0s - loss: 0.0720 - categorical_accuracy: 0.9879\n",
            "Epoch 32: val_categorical_accuracy did not improve from 0.75714\n",
            "40/40 [==============================] - 4s 102ms/step - loss: 0.0720 - categorical_accuracy: 0.9879 - val_loss: 5.0599 - val_categorical_accuracy: 0.7381\n",
            "Epoch 33/80\n",
            "40/40 [==============================] - ETA: 0s - loss: 0.0893 - categorical_accuracy: 0.9843\n",
            "Epoch 33: val_categorical_accuracy did not improve from 0.75714\n",
            "40/40 [==============================] - 4s 102ms/step - loss: 0.0893 - categorical_accuracy: 0.9843 - val_loss: 5.5874 - val_categorical_accuracy: 0.7254\n",
            "Epoch 34/80\n",
            "40/40 [==============================] - ETA: 0s - loss: 0.0876 - categorical_accuracy: 0.9860\n",
            "Epoch 34: val_categorical_accuracy did not improve from 0.75714\n",
            "40/40 [==============================] - 4s 102ms/step - loss: 0.0876 - categorical_accuracy: 0.9860 - val_loss: 4.7472 - val_categorical_accuracy: 0.7571\n",
            "Epoch 35/80\n",
            "40/40 [==============================] - ETA: 0s - loss: 0.1058 - categorical_accuracy: 0.9883\n",
            "Epoch 35: val_categorical_accuracy did not improve from 0.75714\n",
            "40/40 [==============================] - 4s 98ms/step - loss: 0.1058 - categorical_accuracy: 0.9883 - val_loss: 7.1132 - val_categorical_accuracy: 0.7365\n",
            "Epoch 36/80\n",
            "40/40 [==============================] - ETA: 0s - loss: 0.1351 - categorical_accuracy: 0.9848\n",
            "Epoch 36: val_categorical_accuracy did not improve from 0.75714\n",
            "40/40 [==============================] - 4s 98ms/step - loss: 0.1351 - categorical_accuracy: 0.9848 - val_loss: 6.1119 - val_categorical_accuracy: 0.7540\n",
            "Epoch 37/80\n",
            "40/40 [==============================] - ETA: 0s - loss: 0.1259 - categorical_accuracy: 0.9840\n",
            "Epoch 37: val_categorical_accuracy did not improve from 0.75714\n",
            "40/40 [==============================] - 4s 99ms/step - loss: 0.1259 - categorical_accuracy: 0.9840 - val_loss: 6.7445 - val_categorical_accuracy: 0.7270\n",
            "Epoch 38/80\n",
            "40/40 [==============================] - ETA: 0s - loss: 0.0885 - categorical_accuracy: 0.9876\n",
            "Epoch 38: val_categorical_accuracy did not improve from 0.75714\n",
            "40/40 [==============================] - 4s 99ms/step - loss: 0.0885 - categorical_accuracy: 0.9876 - val_loss: 6.6038 - val_categorical_accuracy: 0.7492\n",
            "Epoch 39/80\n",
            "40/40 [==============================] - ETA: 0s - loss: 0.0601 - categorical_accuracy: 0.9919\n",
            "Epoch 39: val_categorical_accuracy did not improve from 0.75714\n",
            "40/40 [==============================] - 4s 102ms/step - loss: 0.0601 - categorical_accuracy: 0.9919 - val_loss: 6.5306 - val_categorical_accuracy: 0.7397\n",
            "Epoch 40/80\n",
            "40/40 [==============================] - ETA: 0s - loss: 0.0886 - categorical_accuracy: 0.9902\n",
            "Epoch 40: val_categorical_accuracy did not improve from 0.75714\n",
            "40/40 [==============================] - 4s 102ms/step - loss: 0.0886 - categorical_accuracy: 0.9902 - val_loss: 6.2780 - val_categorical_accuracy: 0.7492\n",
            "Epoch 41/80\n",
            "40/40 [==============================] - ETA: 0s - loss: 0.0873 - categorical_accuracy: 0.9895\n",
            "Epoch 41: val_categorical_accuracy did not improve from 0.75714\n",
            "40/40 [==============================] - 4s 102ms/step - loss: 0.0873 - categorical_accuracy: 0.9895 - val_loss: 6.0685 - val_categorical_accuracy: 0.7270\n",
            "Epoch 42/80\n",
            "40/40 [==============================] - ETA: 0s - loss: 0.0766 - categorical_accuracy: 0.9876\n",
            "Epoch 42: val_categorical_accuracy did not improve from 0.75714\n",
            "40/40 [==============================] - 4s 102ms/step - loss: 0.0766 - categorical_accuracy: 0.9876 - val_loss: 5.4383 - val_categorical_accuracy: 0.7349\n",
            "Epoch 43/80\n",
            "40/40 [==============================] - ETA: 0s - loss: 0.0754 - categorical_accuracy: 0.9914\n",
            "Epoch 43: val_categorical_accuracy did not improve from 0.75714\n",
            "40/40 [==============================] - 4s 102ms/step - loss: 0.0754 - categorical_accuracy: 0.9914 - val_loss: 8.5420 - val_categorical_accuracy: 0.7397\n",
            "Epoch 44/80\n",
            "40/40 [==============================] - ETA: 0s - loss: 0.0683 - categorical_accuracy: 0.9912\n",
            "Epoch 44: val_categorical_accuracy did not improve from 0.75714\n",
            "40/40 [==============================] - 4s 98ms/step - loss: 0.0683 - categorical_accuracy: 0.9912 - val_loss: 8.0646 - val_categorical_accuracy: 0.7492\n",
            "Epoch 45/80\n",
            "40/40 [==============================] - ETA: 0s - loss: 0.1184 - categorical_accuracy: 0.9902\n",
            "Epoch 45: val_categorical_accuracy did not improve from 0.75714\n",
            "40/40 [==============================] - 4s 101ms/step - loss: 0.1184 - categorical_accuracy: 0.9902 - val_loss: 9.3309 - val_categorical_accuracy: 0.7302\n",
            "Epoch 46/80\n",
            "40/40 [==============================] - ETA: 0s - loss: 0.0684 - categorical_accuracy: 0.9943\n",
            "Epoch 46: val_categorical_accuracy did not improve from 0.75714\n",
            "40/40 [==============================] - 4s 102ms/step - loss: 0.0684 - categorical_accuracy: 0.9943 - val_loss: 7.7133 - val_categorical_accuracy: 0.7571\n",
            "Epoch 47/80\n",
            "40/40 [==============================] - ETA: 0s - loss: 0.1166 - categorical_accuracy: 0.9895\n",
            "Epoch 47: val_categorical_accuracy did not improve from 0.75714\n",
            "40/40 [==============================] - 4s 98ms/step - loss: 0.1166 - categorical_accuracy: 0.9895 - val_loss: 8.0409 - val_categorical_accuracy: 0.7397\n",
            "Epoch 48/80\n",
            "40/40 [==============================] - ETA: 0s - loss: 0.1066 - categorical_accuracy: 0.9883\n",
            "Epoch 48: val_categorical_accuracy did not improve from 0.75714\n",
            "40/40 [==============================] - 4s 98ms/step - loss: 0.1066 - categorical_accuracy: 0.9883 - val_loss: 8.0190 - val_categorical_accuracy: 0.7349\n",
            "Epoch 49/80\n",
            "40/40 [==============================] - ETA: 0s - loss: 0.0536 - categorical_accuracy: 0.9924\n",
            "Epoch 49: val_categorical_accuracy did not improve from 0.75714\n",
            "40/40 [==============================] - 4s 98ms/step - loss: 0.0536 - categorical_accuracy: 0.9924 - val_loss: 7.8717 - val_categorical_accuracy: 0.7381\n",
            "Epoch 50/80\n",
            "40/40 [==============================] - ETA: 0s - loss: 0.1697 - categorical_accuracy: 0.9869\n",
            "Epoch 50: val_categorical_accuracy did not improve from 0.75714\n",
            "40/40 [==============================] - 4s 102ms/step - loss: 0.1697 - categorical_accuracy: 0.9869 - val_loss: 8.8719 - val_categorical_accuracy: 0.7492\n",
            "Epoch 51/80\n",
            "40/40 [==============================] - ETA: 0s - loss: 0.1217 - categorical_accuracy: 0.9893\n",
            "Epoch 51: val_categorical_accuracy did not improve from 0.75714\n",
            "40/40 [==============================] - 4s 102ms/step - loss: 0.1217 - categorical_accuracy: 0.9893 - val_loss: 8.7007 - val_categorical_accuracy: 0.7429\n",
            "Epoch 52/80\n",
            "40/40 [==============================] - ETA: 0s - loss: 0.0777 - categorical_accuracy: 0.9924\n",
            "Epoch 52: val_categorical_accuracy did not improve from 0.75714\n",
            "40/40 [==============================] - 4s 102ms/step - loss: 0.0777 - categorical_accuracy: 0.9924 - val_loss: 9.5530 - val_categorical_accuracy: 0.7429\n",
            "Epoch 53/80\n",
            "40/40 [==============================] - ETA: 0s - loss: 0.1148 - categorical_accuracy: 0.9921\n",
            "Epoch 53: val_categorical_accuracy did not improve from 0.75714\n",
            "40/40 [==============================] - 4s 102ms/step - loss: 0.1148 - categorical_accuracy: 0.9921 - val_loss: 9.2279 - val_categorical_accuracy: 0.7540\n",
            "Epoch 54/80\n",
            "40/40 [==============================] - ETA: 0s - loss: 0.0887 - categorical_accuracy: 0.9914\n",
            "Epoch 54: val_categorical_accuracy did not improve from 0.75714\n",
            "40/40 [==============================] - 4s 102ms/step - loss: 0.0887 - categorical_accuracy: 0.9914 - val_loss: 10.0499 - val_categorical_accuracy: 0.7349\n",
            "Epoch 55/80\n",
            "40/40 [==============================] - ETA: 0s - loss: 0.1000 - categorical_accuracy: 0.9898\n",
            "Epoch 55: val_categorical_accuracy did not improve from 0.75714\n",
            "40/40 [==============================] - 4s 98ms/step - loss: 0.1000 - categorical_accuracy: 0.9898 - val_loss: 8.6841 - val_categorical_accuracy: 0.7492\n",
            "Epoch 56/80\n",
            "40/40 [==============================] - ETA: 0s - loss: 0.1074 - categorical_accuracy: 0.9914\n",
            "Epoch 56: val_categorical_accuracy did not improve from 0.75714\n",
            "40/40 [==============================] - 4s 102ms/step - loss: 0.1074 - categorical_accuracy: 0.9914 - val_loss: 11.4107 - val_categorical_accuracy: 0.7286\n",
            "Epoch 57/80\n",
            "40/40 [==============================] - ETA: 0s - loss: 0.0581 - categorical_accuracy: 0.9952\n",
            "Epoch 57: val_categorical_accuracy did not improve from 0.75714\n",
            "40/40 [==============================] - 4s 102ms/step - loss: 0.0581 - categorical_accuracy: 0.9952 - val_loss: 10.9886 - val_categorical_accuracy: 0.7476\n",
            "Epoch 58/80\n",
            "40/40 [==============================] - ETA: 0s - loss: 0.1797 - categorical_accuracy: 0.9917\n",
            "Epoch 58: val_categorical_accuracy did not improve from 0.75714\n",
            "40/40 [==============================] - 4s 98ms/step - loss: 0.1797 - categorical_accuracy: 0.9917 - val_loss: 18.2068 - val_categorical_accuracy: 0.7397\n",
            "Epoch 59/80\n",
            "40/40 [==============================] - ETA: 0s - loss: 0.1825 - categorical_accuracy: 0.9898\n",
            "Epoch 59: val_categorical_accuracy did not improve from 0.75714\n",
            "40/40 [==============================] - 4s 98ms/step - loss: 0.1825 - categorical_accuracy: 0.9898 - val_loss: 13.8355 - val_categorical_accuracy: 0.7397\n",
            "Epoch 60/80\n",
            "40/40 [==============================] - ETA: 0s - loss: 0.3392 - categorical_accuracy: 0.9848\n",
            "Epoch 60: val_categorical_accuracy did not improve from 0.75714\n",
            "40/40 [==============================] - 4s 102ms/step - loss: 0.3392 - categorical_accuracy: 0.9848 - val_loss: 14.6207 - val_categorical_accuracy: 0.7413\n",
            "Epoch 61/80\n",
            "40/40 [==============================] - ETA: 0s - loss: 0.0945 - categorical_accuracy: 0.9936\n",
            "Epoch 61: val_categorical_accuracy did not improve from 0.75714\n",
            "40/40 [==============================] - 4s 98ms/step - loss: 0.0945 - categorical_accuracy: 0.9936 - val_loss: 16.0481 - val_categorical_accuracy: 0.7460\n",
            "Epoch 62/80\n",
            "40/40 [==============================] - ETA: 0s - loss: 0.1525 - categorical_accuracy: 0.9902\n",
            "Epoch 62: val_categorical_accuracy did not improve from 0.75714\n",
            "40/40 [==============================] - 4s 102ms/step - loss: 0.1525 - categorical_accuracy: 0.9902 - val_loss: 12.2455 - val_categorical_accuracy: 0.7540\n",
            "Epoch 63/80\n",
            "40/40 [==============================] - ETA: 0s - loss: 0.0578 - categorical_accuracy: 0.9955\n",
            "Epoch 63: val_categorical_accuracy did not improve from 0.75714\n",
            "40/40 [==============================] - 4s 98ms/step - loss: 0.0578 - categorical_accuracy: 0.9955 - val_loss: 15.9633 - val_categorical_accuracy: 0.7508\n",
            "Epoch 64/80\n",
            "40/40 [==============================] - ETA: 0s - loss: 0.2585 - categorical_accuracy: 0.9869\n",
            "Epoch 64: val_categorical_accuracy did not improve from 0.75714\n",
            "40/40 [==============================] - 4s 102ms/step - loss: 0.2585 - categorical_accuracy: 0.9869 - val_loss: 16.7581 - val_categorical_accuracy: 0.7365\n",
            "Epoch 65/80\n",
            "40/40 [==============================] - ETA: 0s - loss: 0.1005 - categorical_accuracy: 0.9924\n",
            "Epoch 65: val_categorical_accuracy did not improve from 0.75714\n",
            "40/40 [==============================] - 4s 102ms/step - loss: 0.1005 - categorical_accuracy: 0.9924 - val_loss: 12.9855 - val_categorical_accuracy: 0.7460\n",
            "Epoch 66/80\n",
            "40/40 [==============================] - ETA: 0s - loss: 0.1617 - categorical_accuracy: 0.9929\n",
            "Epoch 66: val_categorical_accuracy did not improve from 0.75714\n",
            "40/40 [==============================] - 4s 102ms/step - loss: 0.1617 - categorical_accuracy: 0.9929 - val_loss: 17.0830 - val_categorical_accuracy: 0.7476\n",
            "Epoch 67/80\n",
            "40/40 [==============================] - ETA: 0s - loss: 0.2572 - categorical_accuracy: 0.9898\n",
            "Epoch 67: val_categorical_accuracy did not improve from 0.75714\n",
            "40/40 [==============================] - 4s 98ms/step - loss: 0.2572 - categorical_accuracy: 0.9898 - val_loss: 16.4505 - val_categorical_accuracy: 0.7492\n",
            "Epoch 68/80\n",
            "40/40 [==============================] - ETA: 0s - loss: 0.1482 - categorical_accuracy: 0.9893\n",
            "Epoch 68: val_categorical_accuracy did not improve from 0.75714\n",
            "40/40 [==============================] - 4s 98ms/step - loss: 0.1482 - categorical_accuracy: 0.9893 - val_loss: 13.7779 - val_categorical_accuracy: 0.7540\n",
            "Epoch 69/80\n",
            "40/40 [==============================] - ETA: 0s - loss: 0.1834 - categorical_accuracy: 0.9900\n",
            "Epoch 69: val_categorical_accuracy improved from 0.75714 to 0.75873, saving model to /content/drive/My Drive/SER Databases/Checkpoint_SER/model_ser.hdf5\n",
            "40/40 [==============================] - 5s 115ms/step - loss: 0.1834 - categorical_accuracy: 0.9900 - val_loss: 17.6253 - val_categorical_accuracy: 0.7587\n",
            "Epoch 70/80\n",
            "40/40 [==============================] - ETA: 0s - loss: 0.1017 - categorical_accuracy: 0.9945\n",
            "Epoch 70: val_categorical_accuracy did not improve from 0.75873\n",
            "40/40 [==============================] - 4s 98ms/step - loss: 0.1017 - categorical_accuracy: 0.9945 - val_loss: 16.0421 - val_categorical_accuracy: 0.7444\n",
            "Epoch 71/80\n",
            "40/40 [==============================] - ETA: 0s - loss: 0.0997 - categorical_accuracy: 0.9948\n",
            "Epoch 71: val_categorical_accuracy improved from 0.75873 to 0.76190, saving model to /content/drive/My Drive/SER Databases/Checkpoint_SER/model_ser.hdf5\n",
            "40/40 [==============================] - 4s 102ms/step - loss: 0.0997 - categorical_accuracy: 0.9948 - val_loss: 18.1046 - val_categorical_accuracy: 0.7619\n",
            "Epoch 72/80\n",
            "40/40 [==============================] - ETA: 0s - loss: 0.0627 - categorical_accuracy: 0.9971\n",
            "Epoch 72: val_categorical_accuracy improved from 0.76190 to 0.76508, saving model to /content/drive/My Drive/SER Databases/Checkpoint_SER/model_ser.hdf5\n",
            "40/40 [==============================] - 4s 106ms/step - loss: 0.0627 - categorical_accuracy: 0.9971 - val_loss: 15.5418 - val_categorical_accuracy: 0.7651\n",
            "Epoch 73/80\n",
            "40/40 [==============================] - ETA: 0s - loss: 0.0722 - categorical_accuracy: 0.9938\n",
            "Epoch 73: val_categorical_accuracy did not improve from 0.76508\n",
            "40/40 [==============================] - 4s 102ms/step - loss: 0.0722 - categorical_accuracy: 0.9938 - val_loss: 18.1883 - val_categorical_accuracy: 0.7556\n",
            "Epoch 74/80\n",
            "40/40 [==============================] - ETA: 0s - loss: 0.1347 - categorical_accuracy: 0.9936\n",
            "Epoch 74: val_categorical_accuracy did not improve from 0.76508\n",
            "40/40 [==============================] - 4s 98ms/step - loss: 0.1347 - categorical_accuracy: 0.9936 - val_loss: 16.7885 - val_categorical_accuracy: 0.7492\n",
            "Epoch 75/80\n",
            "40/40 [==============================] - ETA: 0s - loss: 0.1218 - categorical_accuracy: 0.9943\n",
            "Epoch 75: val_categorical_accuracy did not improve from 0.76508\n",
            "40/40 [==============================] - 4s 101ms/step - loss: 0.1218 - categorical_accuracy: 0.9943 - val_loss: 17.1985 - val_categorical_accuracy: 0.7460\n",
            "Epoch 76/80\n",
            "40/40 [==============================] - ETA: 0s - loss: 0.0438 - categorical_accuracy: 0.9962\n",
            "Epoch 76: val_categorical_accuracy did not improve from 0.76508\n",
            "40/40 [==============================] - 4s 98ms/step - loss: 0.0438 - categorical_accuracy: 0.9962 - val_loss: 18.8098 - val_categorical_accuracy: 0.7524\n",
            "Epoch 77/80\n",
            "40/40 [==============================] - ETA: 0s - loss: 0.1461 - categorical_accuracy: 0.9926\n",
            "Epoch 77: val_categorical_accuracy did not improve from 0.76508\n",
            "40/40 [==============================] - 4s 101ms/step - loss: 0.1461 - categorical_accuracy: 0.9926 - val_loss: 19.6106 - val_categorical_accuracy: 0.7444\n",
            "Epoch 78/80\n",
            "40/40 [==============================] - ETA: 0s - loss: 0.0268 - categorical_accuracy: 0.9964\n",
            "Epoch 78: val_categorical_accuracy did not improve from 0.76508\n",
            "40/40 [==============================] - 4s 98ms/step - loss: 0.0268 - categorical_accuracy: 0.9964 - val_loss: 19.9766 - val_categorical_accuracy: 0.7365\n",
            "Epoch 79/80\n",
            "40/40 [==============================] - ETA: 0s - loss: 0.1393 - categorical_accuracy: 0.9924\n",
            "Epoch 79: val_categorical_accuracy did not improve from 0.76508\n",
            "40/40 [==============================] - 4s 101ms/step - loss: 0.1393 - categorical_accuracy: 0.9924 - val_loss: 24.7320 - val_categorical_accuracy: 0.7587\n",
            "Epoch 80/80\n",
            "40/40 [==============================] - ETA: 0s - loss: 0.1341 - categorical_accuracy: 0.9924\n",
            "Epoch 80: val_categorical_accuracy improved from 0.76508 to 0.76825, saving model to /content/drive/My Drive/SER Databases/Checkpoint_SER/model_ser.hdf5\n",
            "40/40 [==============================] - 5s 117ms/step - loss: 0.1341 - categorical_accuracy: 0.9924 - val_loss: 20.5417 - val_categorical_accuracy: 0.7683\n"
          ]
        }
      ],
      "source": [
        "# Model Creation From Scratch\n",
        "\n",
        "model = Sequential()\n",
        "model.add(layers.Conv2D(64, (5, 5), activation='relu', input_shape=(476, 15, 1)))\n",
        "model.add(layers.Conv2D(64, (5, 5), activation='relu'))\n",
        "model.add(layers.Conv2D(64, (5, 5), activation='relu'))\n",
        "model.add(layers.Flatten())\n",
        "model.add(layers.Dense(64, activation='relu'))\n",
        "model.add(layers.Dense(32, activation='relu'))\n",
        "model.add(layers.Dense(8, activation='softmax'))\n",
        "\n",
        "model.summary()\n",
        "\n",
        "batch_size_scratch = 105\n",
        "\n",
        "checkpoint_path = '/content/drive/My Drive/SER Databases/Checkpoint_SER/model_ser.hdf5'\n",
        "\n",
        "checkpoint = callbacks.ModelCheckpoint(filepath=checkpoint_path, \n",
        "                                       monitor='val_categorical_accuracy',\n",
        "                                       verbose=1, \n",
        "                                       save_best_only=True,\n",
        "                                       mode='max')\n",
        "\n",
        "model.compile(optimizer='RMSprop',\n",
        "              loss='CategoricalCrossentropy',\n",
        "              metrics='CategoricalAccuracy')\n",
        "\n",
        "history = model.fit(x = X_train,\n",
        "                    y = y_train_class,\n",
        "                    batch_size = batch_size_scratch,\n",
        "                    epochs = 80,\n",
        "                    validation_data = (X_valid, y_valid_class),\n",
        "                    callbacks = [checkpoint])\n",
        "\n",
        "model = load_model(checkpoint_path)"
      ]
    },
    {
      "cell_type": "code",
      "execution_count": null,
      "metadata": {
        "id": "hahkDnkwPzKe"
      },
      "outputs": [],
      "source": [
        "checkpoint_path = '/content/drive/My Drive/SER Databases/Checkpoint_SER/model_ser.hdf5'\n",
        "model_loaded = load_model(checkpoint_path)"
      ]
    },
    {
      "cell_type": "code",
      "execution_count": null,
      "metadata": {
        "id": "PkFQbGuD5NcO"
      },
      "outputs": [],
      "source": [
        "from sklearn.metrics import confusion_matrix\n",
        "import seaborn as sns\n",
        "import matplotlib.pyplot as plt \n",
        "import pandas as pd"
      ]
    },
    {
      "cell_type": "code",
      "execution_count": null,
      "metadata": {
        "colab": {
          "base_uri": "https://localhost:8080/"
        },
        "id": "cD2ecukN5ji2",
        "outputId": "a7373414-9622-4c5b-ece4-1ea000058773"
      },
      "outputs": [
        {
          "output_type": "stream",
          "name": "stdout",
          "text": [
            "20/20 [==============================] - 1s 21ms/step - loss: 20.5417 - categorical_accuracy: 0.7683\n"
          ]
        },
        {
          "output_type": "execute_result",
          "data": {
            "text/plain": [
              "[20.541662216186523, 0.7682539820671082]"
            ]
          },
          "metadata": {},
          "execution_count": 29
        }
      ],
      "source": [
        "model_loaded.evaluate(X_valid, y_valid_class)"
      ]
    },
    {
      "cell_type": "code",
      "execution_count": null,
      "metadata": {
        "colab": {
          "base_uri": "https://localhost:8080/",
          "height": 295
        },
        "id": "RYU91U9G5k0W",
        "outputId": "e8d03301-633c-4704-842d-4f3a824f0325"
      },
      "outputs": [
        {
          "output_type": "display_data",
          "data": {
            "text/plain": [
              "<Figure size 432x288 with 1 Axes>"
            ],
            "image/png": "[encoded data removed]"
          },
          "metadata": {
            "needs_background": "light"
          }
        }
      ],
      "source": [
        "# Plot for Loss from history\n",
        "\n",
        "plt.plot(history.history['loss'], label='Loss(Training Data)')\n",
        "plt.plot(history.history['val_loss'], label='Loss(Validation Data)')\n",
        "plt.title('Loss for Train and Validation Sets')\n",
        "plt.ylabel('Loss')\n",
        "plt.xlabel('Number of Epoches')\n",
        "plt.legend(loc=\"best\")\n",
        "plt.show()"
      ]
    },
    {
      "cell_type": "code",
      "execution_count": null,
      "metadata": {
        "id": "NuzkQIYZ5lFq",
        "colab": {
          "base_uri": "https://localhost:8080/",
          "height": 295
        },
        "outputId": "50285c7c-62bb-4a81-eb7b-d9fe0ccb49b1"
      },
      "outputs": [
        {
          "output_type": "display_data",
          "data": {
            "text/plain": [
              "<Figure size 432x288 with 1 Axes>"
            ],
            "image/png": "[encoded data removed]"
          },
          "metadata": {
            "needs_background": "light"
          }
        }
      ],
      "source": [
        "#Plot for Accuracy from history\n",
        "\n",
        "plt.plot(history.history['categorical_accuracy'], label='Accuracy(Training Data)')\n",
        "plt.plot(history.history['val_categorical_accuracy'], label='Accuracy(Validation Data)')\n",
        "plt.title('Model Accuracy')\n",
        "plt.ylabel('Accuracy Percentage')\n",
        "plt.xlabel('Number of Epoches')\n",
        "plt.legend(loc=\"best\")\n",
        "plt.show()"
      ]
    },
    {
      "cell_type": "code",
      "execution_count": null,
      "metadata": {
        "colab": {
          "base_uri": "https://localhost:8080/",
          "height": 532
        },
        "id": "JiKL9A0ZTDQS",
        "outputId": "86f7b438-a6c8-4603-93aa-77f1a5e15201"
      },
      "outputs": [
        {
          "output_type": "stream",
          "name": "stdout",
          "text": [
            "20/20 [==============================] - 0s 12ms/step\n"
          ]
        },
        {
          "output_type": "execute_result",
          "data": {
            "text/plain": [
              "Text(0.5, 51.0, 'Predicted emotion')"
            ]
          },
          "metadata": {},
          "execution_count": 32
        },
        {
          "output_type": "display_data",
          "data": {
            "text/plain": [
              "<Figure size 864x576 with 2 Axes>"
            ],
            "image/png": "[encoded data removed]"
          },
          "metadata": {
            "needs_background": "light"
          }
        }
      ],
      "source": [
        "# Validation Set Confusion Matrix\n",
        "\n",
        "y_valid_class = np.argmax(y_valid_class, axis=1)\n",
        "predictions = model_loaded.predict(X_valid)\n",
        "y_pred_class = np.argmax(predictions, axis=1)\n",
        "\n",
        "cm = confusion_matrix(y_valid_class, y_pred_class)\n",
        "\n",
        "index = ['neutral', 'calm', 'happy', 'sad', 'angry', 'fearful', 'disgust', 'surprised']  \n",
        "columns = ['neutral', 'calm', 'happy', 'sad', 'angry', 'fearful', 'disgust', 'surprised']  \n",
        " \n",
        "cm_df = pd.DataFrame(cm,index,columns)                     \n",
        "plt.figure(figsize=(12,8))\n",
        "ax = plt.axes()\n",
        "\n",
        "sns.heatmap(cm_df, ax = ax,cmap='YlGnBu',fmt=\"d\", annot=True)\n",
        "ax.set_ylabel('True emotion')\n",
        "ax.set_xlabel('Predicted emotion')"
      ]
    },
    {
      "cell_type": "code",
      "execution_count": null,
      "metadata": {
        "colab": {
          "base_uri": "https://localhost:8080/"
        },
        "id": "c_N48GB85lfP",
        "outputId": "1e71e377-5813-4f2b-8515-89eccb924574"
      },
      "outputs": [
        {
          "name": "stdout",
          "output_type": "stream",
          "text": [
            "Validation set predicted emotions accuracy:\n",
            "\t\t\t\t\t neutral : 79.1667 %\n",
            "\t\t\t\t\t calm : 72.3404 %\n",
            "\t\t\t\t\t happy : 81.0526 %\n",
            "\t\t\t\t\t sad : 76.1905 %\n",
            "\t\t\t\t\t angry : 82.0000 %\n",
            "\t\t\t\t\t fearful : 71.1111 %\n",
            "\t\t\t\t\t disgust : 83.1169 %\n",
            "\t\t\t\t\t surprised : 81.5385 %\n"
          ]
        }
      ],
      "source": [
        "# Validation set prediction accuracy rates\n",
        "\n",
        "values = cm.diagonal()\n",
        "row_sum = np.sum(cm,axis=1)\n",
        "acc = (values / row_sum)*100\n",
        "\n",
        "print('Validation set predicted emotions accuracy:')\n",
        "for i in range(len(values)):\n",
        "    print(\"\\t\"*5,index[i],':', f\"{(acc[i]):0.4f}\", \"%\")"
      ]
    },
    {
      "cell_type": "code",
      "execution_count": null,
      "metadata": {
        "colab": {
          "base_uri": "https://localhost:8080/"
        },
        "id": "7XvRgsUySczi",
        "outputId": "5a7b1da4-ddbb-42f5-f9e8-8e87b1a76526"
      },
      "outputs": [
        {
          "name": "stdout",
          "output_type": "stream",
          "text": [
            "14/14 [==============================] - 0s 9ms/step - loss: 12.5935 - categorical_accuracy: 0.7667\n"
          ]
        },
        {
          "data": {
            "text/plain": [
              "[12.59346866607666, 0.7666666507720947]"
            ]
          },
          "execution_count": 44,
          "metadata": {},
          "output_type": "execute_result"
        }
      ],
      "source": [
        "model_loaded.evaluate(X_test, y_test_class)"
      ]
    },
    {
      "cell_type": "code",
      "execution_count": null,
      "metadata": {
        "colab": {
          "base_uri": "https://localhost:8080/",
          "height": 532
        },
        "id": "ThN64760TjH5",
        "outputId": "705b6ab2-8f47-423a-c71b-02d838b56870"
      },
      "outputs": [
        {
          "name": "stdout",
          "output_type": "stream",
          "text": [
            "14/14 [==============================] - 0s 8ms/step\n"
          ]
        },
        {
          "data": {
            "text/plain": [
              "Text(0.5, 51.0, 'Predicted emotion')"
            ]
          },
          "execution_count": 45,
          "metadata": {},
          "output_type": "execute_result"
        },
        {
          "data": {
            "image/png": "[encoded data removed]",
            "text/plain": [
              "<Figure size 864x576 with 2 Axes>"
            ]
          },
          "metadata": {},
          "output_type": "display_data"
        }
      ],
      "source": [
        "# Test Set Confusion Matrix\n",
        "\n",
        "y_test_class = np.argmax(y_test_class, axis=1)\n",
        "predictions = model_loaded.predict(X_test)\n",
        "y_pred_class = np.argmax(predictions, axis=1)\n",
        "\n",
        "cm = confusion_matrix(y_test_class, y_pred_class)\n",
        "\n",
        "index = ['neutral', 'calm', 'happy', 'sad', 'angry', 'fearful', 'disgust', 'surprised']  \n",
        "columns = ['neutral', 'calm', 'happy', 'sad', 'angry', 'fearful', 'disgust', 'surprised']  \n",
        " \n",
        "cm_df = pd.DataFrame(cm,index,columns)                     \n",
        "plt.figure(figsize=(12,8))\n",
        "ax = plt.axes()\n",
        "\n",
        "sns.heatmap(cm_df, ax = ax,cmap='YlGnBu', fmt=\"d\", annot=True)\n",
        "ax.set_ylabel('True emotion')\n",
        "ax.set_xlabel('Predicted emotion')"
      ]
    },
    {
      "cell_type": "code",
      "execution_count": null,
      "metadata": {
        "colab": {
          "base_uri": "https://localhost:8080/"
        },
        "id": "wx7x_3JP5mCh",
        "outputId": "9498508e-1087-498e-b4b9-36cb391ee682"
      },
      "outputs": [
        {
          "name": "stdout",
          "output_type": "stream",
          "text": [
            "Test set predicted emotions accuracy:\n",
            "\t\t\t\t\t neutral : 90.2439 %\n",
            "\t\t\t\t\t calm : 42.1053 %\n",
            "\t\t\t\t\t happy : 76.1905 %\n",
            "\t\t\t\t\t sad : 79.3651 %\n",
            "\t\t\t\t\t angry : 78.8732 %\n",
            "\t\t\t\t\t fearful : 73.3333 %\n",
            "\t\t\t\t\t disgust : 80.4348 %\n",
            "\t\t\t\t\t surprised : 73.8095 %\n"
          ]
        }
      ],
      "source": [
        "# Test set prediction accuracy rates\n",
        "\n",
        "values = cm.diagonal()\n",
        "row_sum = np.sum(cm,axis=1)\n",
        "acc = (values / row_sum)*100\n",
        "\n",
        "print('Test set predicted emotions accuracy:')\n",
        "for i in range(len(values)):\n",
        "    print(\"\\t\"*5,index[i],':', f\"{(acc[i]):0.4f}\", \"%\")"
      ]
    },
    {
      "cell_type": "code",
      "execution_count": null,
      "metadata": {
        "colab": {
          "base_uri": "https://localhost:8080/"
        },
        "id": "sskmSlTbn7J7",
        "outputId": "1699edd2-9817-4367-ffc9-7c9c95997a89"
      },
      "outputs": [
        {
          "output_type": "stream",
          "name": "stdout",
          "text": [
            "Model: \"sequential\"\n",
            "_________________________________________________________________\n",
            " Layer (type)                Output Shape              Param #   \n",
            "=================================================================\n",
            " conv2d (Conv2D)             (None, 472, 11, 64)       1664      \n",
            "                                                                 \n",
            " conv2d_1 (Conv2D)           (None, 468, 7, 64)        102464    \n",
            "                                                                 \n",
            " conv2d_2 (Conv2D)           (None, 464, 3, 64)        102464    \n",
            "                                                                 \n",
            " flatten (Flatten)           (None, 89088)             0         \n",
            "                                                                 \n",
            " dense (Dense)               (None, 64)                5701696   \n",
            "                                                                 \n",
            " dense_1 (Dense)             (None, 32)                2080      \n",
            "                                                                 \n",
            " dense_2 (Dense)             (None, 8)                 264       \n",
            "                                                                 \n",
            "=================================================================\n",
            "Total params: 5,910,632\n",
            "Trainable params: 5,910,632\n",
            "Non-trainable params: 0\n",
            "_________________________________________________________________\n"
          ]
        }
      ],
      "source": [
        "model_loaded.summary() # Just for viewing the specifics of the model"
      ]
    }
  ],
  "metadata": {
    "accelerator": "GPU",
    "colab": {
      "provenance": []
    },
    "gpuClass": "standard",
    "interpreter": {
      "hash": "81794d4967e6c3204c66dcd87b604927b115b27c00565d3d43f05ba2f3a2cb0d"
    },
    "kernelspec": {
      "display_name": "Python 3.9.0 64-bit",
      "language": "python",
      "name": "python3"
    },
    "language_info": {
      "codemirror_mode": {
        "name": "ipython",
        "version": 3
      },
      "file_extension": ".py",
      "mimetype": "text/x-python",
      "name": "python",
      "nbconvert_exporter": "python",
      "pygments_lexer": "ipython3",
      "version": "3.9.0"
    }
  },
  "nbformat": 4,
  "nbformat_minor": 0
}