{
  "cells": [
    {
      "cell_type": "markdown",
      "metadata": {
        "id": "view-in-github",
        "colab_type": "text"
      },
      "source": [
        "<a href=\"https://colab.research.google.com/github/sinnghabhay80/Data-Science-Projects/blob/master/SEA(SER).ipynb\" target=\"_parent\"><img src=\"https://colab.research.google.com/assets/colab-badge.svg\" alt=\"Open In Colab\"/></a>"
      ]
    },
    {
      "cell_type": "code",
      "source": [
        "!pip install json-tricks"
      ],
      "metadata": {
        "colab": {
          "base_uri": "https://localhost:8080/"
        },
        "id": "qMvE2jMsFDFJ",
        "outputId": "1f424242-8951-4931-9d3b-51dd73648ee9"
      },
      "execution_count": null,
      "outputs": [
        {
          "output_type": "stream",
          "name": "stdout",
          "text": [
            "Looking in indexes: https://pypi.org/simple, https://us-python.pkg.dev/colab-wheels/public/simple/\n",
            "Collecting json-tricks\n",
            "  Downloading json_tricks-3.15.5-py2.py3-none-any.whl (26 kB)\n",
            "Installing collected packages: json-tricks\n",
            "Successfully installed json-tricks-3.15.5\n"
          ]
        }
      ]
    },
    {
      "cell_type": "code",
      "execution_count": null,
      "metadata": {
        "id": "_EsB9fxPTWMK"
      },
      "outputs": [],
      "source": [
        "import librosa\n",
        "import librosa.display\n",
        "import numpy as np\n",
        "import matplotlib.pyplot as plt\n",
        "from json_tricks import dump, load"
      ]
    },
    {
      "cell_type": "code",
      "execution_count": null,
      "metadata": {
        "id": "g5igyXiSPSBx",
        "colab": {
          "base_uri": "https://localhost:8080/"
        },
        "outputId": "4af429d5-1e19-440d-faa2-f8f77c715769"
      },
      "outputs": [
        {
          "output_type": "stream",
          "name": "stdout",
          "text": [
            "Looking in indexes: https://pypi.org/simple, https://us-python.pkg.dev/colab-wheels/public/simple/\n",
            "Collecting pydub\n",
            "  Downloading pydub-0.25.1-py2.py3-none-any.whl (32 kB)\n",
            "Installing collected packages: pydub\n",
            "Successfully installed pydub-0.25.1\n",
            "Looking in indexes: https://pypi.org/simple, https://us-python.pkg.dev/colab-wheels/public/simple/\n",
            "Collecting noisereduce\n",
            "  Downloading noisereduce-2.0.1-py3-none-any.whl (15 kB)\n",
            "Requirement already satisfied: numpy in /usr/local/lib/python3.7/dist-packages (from noisereduce) (1.21.6)\n",
            "Requirement already satisfied: matplotlib in /usr/local/lib/python3.7/dist-packages (from noisereduce) (3.2.2)\n",
            "Requirement already satisfied: tqdm in /usr/local/lib/python3.7/dist-packages (from noisereduce) (4.64.0)\n",
            "Requirement already satisfied: scipy in /usr/local/lib/python3.7/dist-packages (from noisereduce) (1.4.1)\n",
            "Requirement already satisfied: librosa in /usr/local/lib/python3.7/dist-packages (from noisereduce) (0.8.1)\n",
            "Requirement already satisfied: soundfile>=0.10.2 in /usr/local/lib/python3.7/dist-packages (from librosa->noisereduce) (0.10.3.post1)\n",
            "Requirement already satisfied: audioread>=2.0.0 in /usr/local/lib/python3.7/dist-packages (from librosa->noisereduce) (2.1.9)\n",
            "Requirement already satisfied: scikit-learn!=0.19.0,>=0.14.0 in /usr/local/lib/python3.7/dist-packages (from librosa->noisereduce) (1.0.2)\n",
            "Requirement already satisfied: resampy>=0.2.2 in /usr/local/lib/python3.7/dist-packages (from librosa->noisereduce) (0.2.2)\n",
            "Requirement already satisfied: numba>=0.43.0 in /usr/local/lib/python3.7/dist-packages (from librosa->noisereduce) (0.51.2)\n",
            "Requirement already satisfied: pooch>=1.0 in /usr/local/lib/python3.7/dist-packages (from librosa->noisereduce) (1.6.0)\n",
            "Requirement already satisfied: packaging>=20.0 in /usr/local/lib/python3.7/dist-packages (from librosa->noisereduce) (21.3)\n",
            "Requirement already satisfied: joblib>=0.14 in /usr/local/lib/python3.7/dist-packages (from librosa->noisereduce) (1.1.0)\n",
            "Requirement already satisfied: decorator>=3.0.0 in /usr/local/lib/python3.7/dist-packages (from librosa->noisereduce) (4.4.2)\n",
            "Requirement already satisfied: setuptools in /usr/local/lib/python3.7/dist-packages (from numba>=0.43.0->librosa->noisereduce) (57.4.0)\n",
            "Requirement already satisfied: llvmlite<0.35,>=0.34.0.dev0 in /usr/local/lib/python3.7/dist-packages (from numba>=0.43.0->librosa->noisereduce) (0.34.0)\n",
            "Requirement already satisfied: pyparsing!=3.0.5,>=2.0.2 in /usr/local/lib/python3.7/dist-packages (from packaging>=20.0->librosa->noisereduce) (3.0.9)\n",
            "Requirement already satisfied: requests>=2.19.0 in /usr/local/lib/python3.7/dist-packages (from pooch>=1.0->librosa->noisereduce) (2.23.0)\n",
            "Requirement already satisfied: appdirs>=1.3.0 in /usr/local/lib/python3.7/dist-packages (from pooch>=1.0->librosa->noisereduce) (1.4.4)\n",
            "Requirement already satisfied: urllib3!=1.25.0,!=1.25.1,<1.26,>=1.21.1 in /usr/local/lib/python3.7/dist-packages (from requests>=2.19.0->pooch>=1.0->librosa->noisereduce) (1.24.3)\n",
            "Requirement already satisfied: certifi>=2017.4.17 in /usr/local/lib/python3.7/dist-packages (from requests>=2.19.0->pooch>=1.0->librosa->noisereduce) (2022.6.15)\n",
            "Requirement already satisfied: chardet<4,>=3.0.2 in /usr/local/lib/python3.7/dist-packages (from requests>=2.19.0->pooch>=1.0->librosa->noisereduce) (3.0.4)\n",
            "Requirement already satisfied: idna<3,>=2.5 in /usr/local/lib/python3.7/dist-packages (from requests>=2.19.0->pooch>=1.0->librosa->noisereduce) (2.10)\n",
            "Requirement already satisfied: six>=1.3 in /usr/local/lib/python3.7/dist-packages (from resampy>=0.2.2->librosa->noisereduce) (1.15.0)\n",
            "Requirement already satisfied: threadpoolctl>=2.0.0 in /usr/local/lib/python3.7/dist-packages (from scikit-learn!=0.19.0,>=0.14.0->librosa->noisereduce) (3.1.0)\n",
            "Requirement already satisfied: cffi>=1.0 in /usr/local/lib/python3.7/dist-packages (from soundfile>=0.10.2->librosa->noisereduce) (1.15.0)\n",
            "Requirement already satisfied: pycparser in /usr/local/lib/python3.7/dist-packages (from cffi>=1.0->soundfile>=0.10.2->librosa->noisereduce) (2.21)\n",
            "Requirement already satisfied: python-dateutil>=2.1 in /usr/local/lib/python3.7/dist-packages (from matplotlib->noisereduce) (2.8.2)\n",
            "Requirement already satisfied: cycler>=0.10 in /usr/local/lib/python3.7/dist-packages (from matplotlib->noisereduce) (0.11.0)\n",
            "Requirement already satisfied: kiwisolver>=1.0.1 in /usr/local/lib/python3.7/dist-packages (from matplotlib->noisereduce) (1.4.3)\n",
            "Requirement already satisfied: typing-extensions in /usr/local/lib/python3.7/dist-packages (from kiwisolver>=1.0.1->matplotlib->noisereduce) (4.1.1)\n",
            "Installing collected packages: noisereduce\n",
            "Successfully installed noisereduce-2.0.1\n"
          ]
        }
      ],
      "source": [
        "!pip install pydub\n",
        "!pip install noisereduce"
      ]
    },
    {
      "cell_type": "code",
      "execution_count": null,
      "metadata": {
        "id": "AZaKcF_0TWMP"
      },
      "outputs": [],
      "source": [
        "from pydub import AudioSegment, effects\n",
        "import noisereduce as nr"
      ]
    },
    {
      "cell_type": "code",
      "execution_count": null,
      "metadata": {
        "id": "CeBrUGzZTWMR"
      },
      "outputs": [],
      "source": [
        "import tensorflow as tf"
      ]
    },
    {
      "cell_type": "code",
      "execution_count": null,
      "metadata": {
        "id": "X9sqQ8lETWMS"
      },
      "outputs": [],
      "source": [
        "import os"
      ]
    },
    {
      "cell_type": "code",
      "execution_count": null,
      "metadata": {
        "id": "gtgOrRF1YG51",
        "colab": {
          "base_uri": "https://localhost:8080/"
        },
        "outputId": "07e29aa9-f999-429f-b1ca-a176550b2624"
      },
      "outputs": [
        {
          "output_type": "stream",
          "name": "stdout",
          "text": [
            "Mounted at /content/drive\n"
          ]
        }
      ],
      "source": [
        "from google.colab import drive\n",
        "drive.mount('/content/drive')"
      ]
    },
    {
      "cell_type": "code",
      "execution_count": null,
      "metadata": {
        "id": "ahd6lPidTWMV"
      },
      "outputs": [],
      "source": [
        "#for taking emotions from TESS database\n",
        "\n",
        "def from_TESS(fname):\n",
        "    if 'neutral' in fname : return '01'\n",
        "    elif 'happy' in fname : return '03'\n",
        "    elif 'sad' in fname : return '04'\n",
        "    elif 'angry' in fname : return '05'\n",
        "    elif 'fear' in fname : return '06'\n",
        "    elif 'disgust' in fname : return '07'\n",
        "    elif 'ps' in fname : return '08' # pleasent surprise\n",
        "    else : return '-1'"
      ]
    },
    {
      "cell_type": "code",
      "execution_count": null,
      "metadata": {
        "id": "elVH_nzRTWMW"
      },
      "outputs": [],
      "source": [
        "def get_emotion(fname):\n",
        "    if fname == '01' : return 0 #Neutral\n",
        "    elif fname == '02' : return 1 #Calm\n",
        "    elif fname == '03' : return 2 #Happy\n",
        "    elif fname == '04' : return 3 #Sad\n",
        "    elif fname == '05' : return 4 #Angry\n",
        "    elif fname == '06' : return 5 #Fear\n",
        "    elif fname == '07' : return 6 #Disgust\n",
        "    elif fname == '08' : return 7 #Pleasent Surprise"
      ]
    },
    {
      "cell_type": "code",
      "execution_count": null,
      "metadata": {
        "id": "SoCNI2QsXFyx"
      },
      "outputs": [],
      "source": [
        "os.getcwd()"
      ]
    },
    {
      "cell_type": "code",
      "execution_count": null,
      "metadata": {
        "id": "1d_-8CF9TWMY"
      },
      "outputs": [],
      "source": [
        "# Maximum samples count for padding purposes.\n",
        "\n",
        "sample_lengths = []\n",
        "folder_path = '/content/drive/My Drive/SER Databases'\n",
        "os.listdir(folder_path)\n",
        "for subdir, dirs, files in os.walk(folder_path):\n",
        "  for file in files: \n",
        "    x, sr = librosa.load(path = os.path.join(subdir,file), sr = None)\n",
        "    xt, index = librosa.effects.trim(x, top_db=30)\n",
        "\n",
        "    sample_lengths.append(len(xt))\n",
        "  "
      ]
    },
    {
      "cell_type": "code",
      "execution_count": null,
      "metadata": {
        "id": "UzgPcJa6TWMa"
      },
      "outputs": [],
      "source": [
        "np.max(sample_lengths)"
      ]
    },
    {
      "cell_type": "code",
      "execution_count": null,
      "metadata": {
        "id": "hM0CptIRTWMb"
      },
      "outputs": [],
      "source": [
        "rms = []\n",
        "zcr = []\n",
        "mfcc = []\n",
        "emotions = []\n",
        "\n",
        "# Initialize variables\n",
        "total_length = 243200 # desired frame length for all of the audio samples./Max of Sample Length\n",
        "frame_length = 2048\n",
        "hop_length = 512\n",
        "\n",
        "for subdir, dirs, files in os.walk(folder_path):\n",
        "  for file in files: \n",
        "\n",
        "    # Fetch the sample rate.\n",
        "      _, sr = librosa.load(path = os.path.join(subdir,file), sr = None) # sr (the sample rate) is used for librosa's MFCCs. '_' is irrelevant.\n",
        "    # Load the audio file.\n",
        "      rawsound = AudioSegment.from_file(os.path.join(subdir,file)) \n",
        "    # Normalize the audio to +5.0 dBFS.\n",
        "      normalizedsound = effects.normalize(rawsound, headroom = 0) \n",
        "    # Transform the normalized audio to np.array of samples.\n",
        "      normal_x = np.array(normalizedsound.get_array_of_samples(), dtype = 'float32')\n",
        "    # Trim silence from the beginning and the end.\n",
        "      xt, index = librosa.effects.trim(normal_x, top_db=30)\n",
        "      padded_x = np.pad(xt, (0, abs(total_length-len(xt))), 'constant')\n",
        "    # Noise reduction.\n",
        "      final_x = nr.reduce_noise(padded_x, sr=sr) \n",
        "\n",
        "    # Features extraction \n",
        "      feature1 = librosa.feature.rms(final_x, frame_length=frame_length, hop_length=hop_length) # Energy - Root Mean Square   \n",
        "      feature2 = librosa.feature.zero_crossing_rate(final_x , frame_length=frame_length, hop_length=hop_length, center=True) # ZCR      \n",
        "      feature3 = librosa.feature.mfcc(final_x, sr=sr, n_mfcc=13, hop_length = hop_length) # MFCC\n",
        "\n",
        "    #Extracting Emotion from the files of different Datasets\n",
        "      if(from_TESS(file) != '-1'):\n",
        "        ename = from_TESS(file)\n",
        "\n",
        "      else :\n",
        "        ename = file[6:8]\n",
        "\n",
        "    #Appending Extracted features into pre-initiatlised lists\n",
        "      rms.append(feature1)\n",
        "      zcr.append(feature2)\n",
        "      mfcc.append(feature3)\n",
        "      emotions.append(get_emotion(ename))\n",
        "      "
      ]
    },
    {
      "cell_type": "code",
      "execution_count": null,
      "metadata": {
        "id": "6aegy-hGM7Y9"
      },
      "outputs": [],
      "source": [
        "#Deleting a row with mismatched size to have the data more in line with each other\n",
        "\n",
        "\n",
        "del rms[2880]\n",
        "del zcr[2880]\n",
        "del mfcc[2880]\n",
        "del emotions[2880]"
      ]
    },
    {
      "cell_type": "code",
      "execution_count": null,
      "metadata": {
        "id": "jyqQzzRjMwwQ"
      },
      "outputs": [],
      "source": [
        "#Converting the list to features to array\n",
        "\n",
        "feature_rms = np.dstack(rms)\n",
        "feature_zcr = np.dstack(zcr)\n",
        "feature_mfcc = np.dstack(mfcc)\n",
        "target_emotion = np.asarray(emotions, dtype = int)"
      ]
    },
    {
      "cell_type": "code",
      "execution_count": null,
      "metadata": {
        "id": "7T3i2TjJOcV_"
      },
      "outputs": [],
      "source": [
        "#Swapping Values and Cols\n",
        "\n",
        "feature_rms = np.swapaxes(feature_rms, 0, 2)\n",
        "feature_zcr = np.swapaxes(feature_zcr, 0, 2)\n",
        "feature_mfcc = np.swapaxes(feature_mfcc, 0, 2)"
      ]
    },
    {
      "cell_type": "code",
      "execution_count": null,
      "metadata": {
        "id": "-hzJQhQbbRoA"
      },
      "outputs": [],
      "source": [
        "#Concatinating all 3 feature arrays to form a dataframe of sorts for training purpose.\n",
        "\n",
        "X = np.concatenate((feature_rms, feature_zcr, feature_mfcc), axis = 2)\n",
        "\n",
        "#Creating target variable y\n",
        "y = target_emotion\n",
        "y = np.expand_dims(y, axis = 1)"
      ]
    },
    {
      "cell_type": "code",
      "source": [
        "# Save X, y arrays as lists to json files.\n",
        "\n",
        "x_save = X.tolist() \n",
        "x_save_path = '/content/drive/My Drive/SER Databases/X_save.json' # FILE SAVE PATH\n",
        "dump(obj = x_save, fp = x_save_path)\n",
        "\n",
        "y_save = y.tolist() \n",
        "y_save_path = '/content/drive/My Drive/SER Databases/y_save.json' # FILE SAVE PATH\n",
        "dump(obj = y_save, fp = y_save_path)"
      ],
      "metadata": {
        "id": "uhXQX0-WDi3b"
      },
      "execution_count": null,
      "outputs": []
    },
    {
      "cell_type": "code",
      "source": [
        "# Load X, y json files back into lists, convert to np.arrays\n",
        "\n",
        "x_load_path = '/content/drive/My Drive/SER Databases/X_save.json' # FILE LOAD PATH\n",
        "X_load = load(x_load_path)\n",
        "X_load = np.asarray(X_load, dtype = 'float32')\n",
        "\n",
        "y_load_path = '/content/drive/My Drive/SER Databases/y_save.json' # FILE LOAD PATH\n",
        "y_load = load(y_load_path)\n",
        "y_load = np.asarray(y_load, dtype = 'int8')"
      ],
      "metadata": {
        "id": "Zn5EsKgVFkCl"
      },
      "execution_count": null,
      "outputs": []
    },
    {
      "cell_type": "markdown",
      "metadata": {
        "id": "sT9aeTw5c5qI"
      },
      "source": [
        "#Creating training, validation and testing data from the complete data variable X."
      ]
    },
    {
      "cell_type": "code",
      "source": [
        "X = X_load\n",
        "y = y_load"
      ],
      "metadata": {
        "id": "kq3hfc-Dw_AV"
      },
      "execution_count": null,
      "outputs": []
    },
    {
      "cell_type": "code",
      "execution_count": null,
      "metadata": {
        "id": "Yd35mnQsZ45a"
      },
      "outputs": [],
      "source": [
        "from sklearn.model_selection import train_test_split\n",
        "X_train, X_test_valid, y_train, y_test_valid = train_test_split(X, y, train_size = 0.8, random_state = 1)\n",
        "X_test, X_valid, y_test, y_valid = train_test_split(X_test_valid, y_test_valid, train_size = 0.4, random_state = 1)"
      ]
    },
    {
      "cell_type": "code",
      "source": [
        "X_valid = np.delete(X_valid, 0, 0)\n",
        "y_valid = np.delete(y_valid, 0, 0)"
      ],
      "metadata": {
        "id": "5gEpTxBV5odV"
      },
      "execution_count": null,
      "outputs": []
    },
    {
      "cell_type": "code",
      "source": [
        "print(np.shape(X_train))\n",
        "print(np.shape(X_valid))\n",
        "print(np.shape(X_test))"
      ],
      "metadata": {
        "colab": {
          "base_uri": "https://localhost:8080/"
        },
        "id": "Z2tJ7wIcGfYc",
        "outputId": "46e222c7-684a-44fe-cc93-fc74107e4713"
      },
      "execution_count": null,
      "outputs": [
        {
          "output_type": "stream",
          "name": "stdout",
          "text": [
            "(4200, 476, 15)\n",
            "(630, 476, 15)\n",
            "(420, 476, 15)\n"
          ]
        }
      ]
    },
    {
      "cell_type": "markdown",
      "metadata": {
        "id": "V5gcoS3Eyl5H"
      },
      "source": [
        "One-Hot Vectoring of training and validation target variables"
      ]
    },
    {
      "cell_type": "code",
      "execution_count": null,
      "metadata": {
        "id": "LlHe7BLDyjdH"
      },
      "outputs": [],
      "source": [
        "y_train_class = tf.keras.utils.to_categorical(y_train, 8, dtype = 'int8')\n",
        "y_valid_class = tf.keras.utils.to_categorical(y_valid, 8, dtype = 'int8')\n",
        "y_test_class = tf.keras.utils.to_categorical(y_test, 8, dtype = 'int8')"
      ]
    },
    {
      "cell_type": "markdown",
      "metadata": {
        "id": "kwhpm5cAybmL"
      },
      "source": [
        "**Model Building**"
      ]
    },
    {
      "cell_type": "code",
      "execution_count": null,
      "metadata": {
        "id": "6sS_eR7pqhiT"
      },
      "outputs": [],
      "source": [
        "from keras.models import Sequential, load_model\n",
        "from keras import layers\n",
        "from keras import optimizers\n",
        "from keras import callbacks "
      ]
    },
    {
      "cell_type": "markdown",
      "source": [
        "#**Model Creation Practice**"
      ],
      "metadata": {
        "id": "65qSjteE0BG6"
      }
    },
    {
      "cell_type": "code",
      "source": [
        "# Model Creation From Scratch\n",
        "\n",
        "model_scratch = Sequential()\n",
        "model_scratch.add(layers.Conv2D(64, (5, 5), activation='relu', input_shape=(476, 15, 1)))\n",
        "model_scratch.add(layers.Conv2D(64, (5, 5), activation='relu'))\n",
        "model_scratch.add(layers.Conv2D(64, (5, 5), activation='relu'))\n",
        "model_scratch.add(layers.Flatten())\n",
        "model_scratch.add(layers.Dense(64, activation='relu'))\n",
        "model_scratch.add(layers.Dense(32, activation='relu'))\n",
        "model_scratch.add(layers.Dense(8, activation='softmax'))\n",
        "\n",
        "model_scratch.summary()\n",
        "\n",
        "batch_size_scratch = 105\n",
        "\n",
        "checkpoint_scratch_path = '/content/drive/My Drive/SER Databases/Checkpoint_SER_scratch/best_till_now_ser.hdf5'\n",
        "\n",
        "checkpoint = callbacks.ModelCheckpoint(filepath=checkpoint_scratch_path, \n",
        "                                       monitor='val_categorical_accuracy',\n",
        "                                       verbose=1, \n",
        "                                       save_best_only=True,\n",
        "                                       mode='max')\n",
        "\n",
        "model_scratch.compile(optimizer='RMSprop',\n",
        "                      loss='CategoricalCrossentropy',\n",
        "                      metrics='CategoricalAccuracy')\n",
        "\n",
        "history_scratch = model_scratch.fit(x = X_train,\n",
        "                                    y = y_train_class,\n",
        "                                    batch_size = batch_size_scratch,\n",
        "                                    epochs = 80,\n",
        "                                    validation_data = (X_valid, y_valid_class),\n",
        "                                    callbacks = [checkpoint])\n",
        "\n",
        "model_scratch = load_model(checkpoint_scratch_path)"
      ],
      "metadata": {
        "colab": {
          "base_uri": "https://localhost:8080/"
        },
        "id": "A3978Pftz7q5",
        "outputId": "33359c00-5d25-4a1a-f79a-5e4abe9ef581"
      },
      "execution_count": null,
      "outputs": [
        {
          "output_type": "stream",
          "name": "stdout",
          "text": [
            "Model: \"sequential_17\"\n",
            "_________________________________________________________________\n",
            " Layer (type)                Output Shape              Param #   \n",
            "=================================================================\n",
            " conv2d_34 (Conv2D)          (None, 472, 11, 64)       1664      \n",
            "                                                                 \n",
            " conv2d_35 (Conv2D)          (None, 468, 7, 64)        102464    \n",
            "                                                                 \n",
            " conv2d_36 (Conv2D)          (None, 464, 3, 64)        102464    \n",
            "                                                                 \n",
            " flatten_17 (Flatten)        (None, 89088)             0         \n",
            "                                                                 \n",
            " dense_33 (Dense)            (None, 64)                5701696   \n",
            "                                                                 \n",
            " dense_34 (Dense)            (None, 32)                2080      \n",
            "                                                                 \n",
            " dense_35 (Dense)            (None, 8)                 264       \n",
            "                                                                 \n",
            "=================================================================\n",
            "Total params: 5,910,632\n",
            "Trainable params: 5,910,632\n",
            "Non-trainable params: 0\n",
            "_________________________________________________________________\n",
            "Epoch 1/80\n",
            "40/40 [==============================] - ETA: 0s - loss: 34.2033 - categorical_accuracy: 0.2743\n",
            "Epoch 1: val_categorical_accuracy improved from -inf to 0.30159, saving model to /content/drive/My Drive/SER Databases/Checkpoint_SER_scratch/best_till_now_ser.hdf5\n",
            "40/40 [==============================] - 5s 100ms/step - loss: 34.2033 - categorical_accuracy: 0.2743 - val_loss: 3.6560 - val_categorical_accuracy: 0.3016\n",
            "Epoch 2/80\n",
            "40/40 [==============================] - ETA: 0s - loss: 1.6896 - categorical_accuracy: 0.4457\n",
            "Epoch 2: val_categorical_accuracy improved from 0.30159 to 0.58095, saving model to /content/drive/My Drive/SER Databases/Checkpoint_SER_scratch/best_till_now_ser.hdf5\n",
            "40/40 [==============================] - 4s 95ms/step - loss: 1.6896 - categorical_accuracy: 0.4457 - val_loss: 1.1480 - val_categorical_accuracy: 0.5810\n",
            "Epoch 3/80\n",
            "40/40 [==============================] - ETA: 0s - loss: 2.2784 - categorical_accuracy: 0.4926\n",
            "Epoch 3: val_categorical_accuracy improved from 0.58095 to 0.62063, saving model to /content/drive/My Drive/SER Databases/Checkpoint_SER_scratch/best_till_now_ser.hdf5\n",
            "40/40 [==============================] - 4s 99ms/step - loss: 2.2784 - categorical_accuracy: 0.4926 - val_loss: 1.0246 - val_categorical_accuracy: 0.6206\n",
            "Epoch 4/80\n",
            "40/40 [==============================] - ETA: 0s - loss: 1.2124 - categorical_accuracy: 0.6281\n",
            "Epoch 4: val_categorical_accuracy improved from 0.62063 to 0.64762, saving model to /content/drive/My Drive/SER Databases/Checkpoint_SER_scratch/best_till_now_ser.hdf5\n",
            "40/40 [==============================] - 4s 95ms/step - loss: 1.2124 - categorical_accuracy: 0.6281 - val_loss: 1.0498 - val_categorical_accuracy: 0.6476\n",
            "Epoch 5/80\n",
            "40/40 [==============================] - ETA: 0s - loss: 0.9401 - categorical_accuracy: 0.6748\n",
            "Epoch 5: val_categorical_accuracy improved from 0.64762 to 0.68413, saving model to /content/drive/My Drive/SER Databases/Checkpoint_SER_scratch/best_till_now_ser.hdf5\n",
            "40/40 [==============================] - 4s 100ms/step - loss: 0.9401 - categorical_accuracy: 0.6748 - val_loss: 0.9160 - val_categorical_accuracy: 0.6841\n",
            "Epoch 6/80\n",
            "40/40 [==============================] - ETA: 0s - loss: 0.7654 - categorical_accuracy: 0.7383\n",
            "Epoch 6: val_categorical_accuracy improved from 0.68413 to 0.68730, saving model to /content/drive/My Drive/SER Databases/Checkpoint_SER_scratch/best_till_now_ser.hdf5\n",
            "40/40 [==============================] - 4s 97ms/step - loss: 0.7654 - categorical_accuracy: 0.7383 - val_loss: 0.8930 - val_categorical_accuracy: 0.6873\n",
            "Epoch 7/80\n",
            "40/40 [==============================] - ETA: 0s - loss: 0.7026 - categorical_accuracy: 0.7760\n",
            "Epoch 7: val_categorical_accuracy improved from 0.68730 to 0.73175, saving model to /content/drive/My Drive/SER Databases/Checkpoint_SER_scratch/best_till_now_ser.hdf5\n",
            "40/40 [==============================] - 4s 97ms/step - loss: 0.7026 - categorical_accuracy: 0.7760 - val_loss: 0.9243 - val_categorical_accuracy: 0.7317\n",
            "Epoch 8/80\n",
            "40/40 [==============================] - ETA: 0s - loss: 0.4604 - categorical_accuracy: 0.8402\n",
            "Epoch 8: val_categorical_accuracy did not improve from 0.73175\n",
            "40/40 [==============================] - 4s 93ms/step - loss: 0.4604 - categorical_accuracy: 0.8402 - val_loss: 1.0766 - val_categorical_accuracy: 0.7190\n",
            "Epoch 9/80\n",
            "40/40 [==============================] - ETA: 0s - loss: 0.3843 - categorical_accuracy: 0.8695\n",
            "Epoch 9: val_categorical_accuracy did not improve from 0.73175\n",
            "40/40 [==============================] - 4s 97ms/step - loss: 0.3843 - categorical_accuracy: 0.8695 - val_loss: 1.0510 - val_categorical_accuracy: 0.7016\n",
            "Epoch 10/80\n",
            "40/40 [==============================] - ETA: 0s - loss: 0.2929 - categorical_accuracy: 0.9067\n",
            "Epoch 10: val_categorical_accuracy did not improve from 0.73175\n",
            "40/40 [==============================] - 4s 98ms/step - loss: 0.2929 - categorical_accuracy: 0.9067 - val_loss: 1.1654 - val_categorical_accuracy: 0.7317\n",
            "Epoch 11/80\n",
            "40/40 [==============================] - ETA: 0s - loss: 0.2035 - categorical_accuracy: 0.9312\n",
            "Epoch 11: val_categorical_accuracy did not improve from 0.73175\n",
            "40/40 [==============================] - 4s 94ms/step - loss: 0.2035 - categorical_accuracy: 0.9312 - val_loss: 1.3576 - val_categorical_accuracy: 0.7317\n",
            "Epoch 12/80\n",
            "40/40 [==============================] - ETA: 0s - loss: 0.1685 - categorical_accuracy: 0.9448\n",
            "Epoch 12: val_categorical_accuracy did not improve from 0.73175\n",
            "40/40 [==============================] - 4s 94ms/step - loss: 0.1685 - categorical_accuracy: 0.9448 - val_loss: 1.9269 - val_categorical_accuracy: 0.7079\n",
            "Epoch 13/80\n",
            "40/40 [==============================] - ETA: 0s - loss: 0.1303 - categorical_accuracy: 0.9595\n",
            "Epoch 13: val_categorical_accuracy improved from 0.73175 to 0.74286, saving model to /content/drive/My Drive/SER Databases/Checkpoint_SER_scratch/best_till_now_ser.hdf5\n",
            "40/40 [==============================] - 5s 120ms/step - loss: 0.1303 - categorical_accuracy: 0.9595 - val_loss: 1.8517 - val_categorical_accuracy: 0.7429\n",
            "Epoch 14/80\n",
            "40/40 [==============================] - ETA: 0s - loss: 0.1419 - categorical_accuracy: 0.9602\n",
            "Epoch 14: val_categorical_accuracy did not improve from 0.74286\n",
            "40/40 [==============================] - 4s 94ms/step - loss: 0.1419 - categorical_accuracy: 0.9602 - val_loss: 2.0246 - val_categorical_accuracy: 0.7286\n",
            "Epoch 15/80\n",
            "40/40 [==============================] - ETA: 0s - loss: 0.1015 - categorical_accuracy: 0.9729\n",
            "Epoch 15: val_categorical_accuracy did not improve from 0.74286\n",
            "40/40 [==============================] - 4s 97ms/step - loss: 0.1015 - categorical_accuracy: 0.9729 - val_loss: 2.3097 - val_categorical_accuracy: 0.6937\n",
            "Epoch 16/80\n",
            "40/40 [==============================] - ETA: 0s - loss: 0.1162 - categorical_accuracy: 0.9698\n",
            "Epoch 16: val_categorical_accuracy did not improve from 0.74286\n",
            "40/40 [==============================] - 4s 97ms/step - loss: 0.1162 - categorical_accuracy: 0.9698 - val_loss: 2.1652 - val_categorical_accuracy: 0.7365\n",
            "Epoch 17/80\n",
            "40/40 [==============================] - ETA: 0s - loss: 0.0867 - categorical_accuracy: 0.9783\n",
            "Epoch 17: val_categorical_accuracy did not improve from 0.74286\n",
            "40/40 [==============================] - 4s 97ms/step - loss: 0.0867 - categorical_accuracy: 0.9783 - val_loss: 2.4185 - val_categorical_accuracy: 0.7095\n",
            "Epoch 18/80\n",
            "40/40 [==============================] - ETA: 0s - loss: 0.1019 - categorical_accuracy: 0.9733\n",
            "Epoch 18: val_categorical_accuracy did not improve from 0.74286\n",
            "40/40 [==============================] - 4s 93ms/step - loss: 0.1019 - categorical_accuracy: 0.9733 - val_loss: 2.8831 - val_categorical_accuracy: 0.7349\n",
            "Epoch 19/80\n",
            "40/40 [==============================] - ETA: 0s - loss: 0.0942 - categorical_accuracy: 0.9781\n",
            "Epoch 19: val_categorical_accuracy did not improve from 0.74286\n",
            "40/40 [==============================] - 4s 95ms/step - loss: 0.0942 - categorical_accuracy: 0.9781 - val_loss: 2.5942 - val_categorical_accuracy: 0.7270\n",
            "Epoch 20/80\n",
            "40/40 [==============================] - ETA: 0s - loss: 0.0828 - categorical_accuracy: 0.9829\n",
            "Epoch 20: val_categorical_accuracy did not improve from 0.74286\n",
            "40/40 [==============================] - 4s 97ms/step - loss: 0.0828 - categorical_accuracy: 0.9829 - val_loss: 3.3841 - val_categorical_accuracy: 0.6937\n",
            "Epoch 21/80\n",
            "40/40 [==============================] - ETA: 0s - loss: 0.0888 - categorical_accuracy: 0.9805\n",
            "Epoch 21: val_categorical_accuracy did not improve from 0.74286\n",
            "40/40 [==============================] - 4s 97ms/step - loss: 0.0888 - categorical_accuracy: 0.9805 - val_loss: 4.4263 - val_categorical_accuracy: 0.6698\n",
            "Epoch 22/80\n",
            "40/40 [==============================] - ETA: 0s - loss: 0.0910 - categorical_accuracy: 0.9771\n",
            "Epoch 22: val_categorical_accuracy did not improve from 0.74286\n",
            "40/40 [==============================] - 4s 93ms/step - loss: 0.0910 - categorical_accuracy: 0.9771 - val_loss: 2.8371 - val_categorical_accuracy: 0.7397\n",
            "Epoch 23/80\n",
            "40/40 [==============================] - ETA: 0s - loss: 0.1096 - categorical_accuracy: 0.9826\n",
            "Epoch 23: val_categorical_accuracy did not improve from 0.74286\n",
            "40/40 [==============================] - 4s 93ms/step - loss: 0.1096 - categorical_accuracy: 0.9826 - val_loss: 2.9523 - val_categorical_accuracy: 0.7302\n",
            "Epoch 24/80\n",
            "40/40 [==============================] - ETA: 0s - loss: 0.1049 - categorical_accuracy: 0.9826\n",
            "Epoch 24: val_categorical_accuracy did not improve from 0.74286\n",
            "40/40 [==============================] - 4s 97ms/step - loss: 0.1049 - categorical_accuracy: 0.9826 - val_loss: 3.3407 - val_categorical_accuracy: 0.7286\n",
            "Epoch 25/80\n",
            "40/40 [==============================] - ETA: 0s - loss: 0.0792 - categorical_accuracy: 0.9862\n",
            "Epoch 25: val_categorical_accuracy improved from 0.74286 to 0.76032, saving model to /content/drive/My Drive/SER Databases/Checkpoint_SER_scratch/best_till_now_ser.hdf5\n",
            "40/40 [==============================] - 5s 117ms/step - loss: 0.0792 - categorical_accuracy: 0.9862 - val_loss: 3.8712 - val_categorical_accuracy: 0.7603\n",
            "Epoch 26/80\n",
            "40/40 [==============================] - ETA: 0s - loss: 0.0779 - categorical_accuracy: 0.9836\n",
            "Epoch 26: val_categorical_accuracy did not improve from 0.76032\n",
            "40/40 [==============================] - 4s 97ms/step - loss: 0.0779 - categorical_accuracy: 0.9836 - val_loss: 4.1029 - val_categorical_accuracy: 0.7159\n",
            "Epoch 27/80\n",
            "40/40 [==============================] - ETA: 0s - loss: 0.0965 - categorical_accuracy: 0.9848\n",
            "Epoch 27: val_categorical_accuracy did not improve from 0.76032\n",
            "40/40 [==============================] - 4s 93ms/step - loss: 0.0965 - categorical_accuracy: 0.9848 - val_loss: 4.3307 - val_categorical_accuracy: 0.7111\n",
            "Epoch 28/80\n",
            "40/40 [==============================] - ETA: 0s - loss: 0.1739 - categorical_accuracy: 0.9805\n",
            "Epoch 28: val_categorical_accuracy did not improve from 0.76032\n",
            "40/40 [==============================] - 4s 93ms/step - loss: 0.1739 - categorical_accuracy: 0.9805 - val_loss: 4.5556 - val_categorical_accuracy: 0.7317\n",
            "Epoch 29/80\n",
            "40/40 [==============================] - ETA: 0s - loss: 0.1011 - categorical_accuracy: 0.9888\n",
            "Epoch 29: val_categorical_accuracy did not improve from 0.76032\n",
            "40/40 [==============================] - 4s 97ms/step - loss: 0.1011 - categorical_accuracy: 0.9888 - val_loss: 5.8335 - val_categorical_accuracy: 0.7048\n",
            "Epoch 30/80\n",
            "40/40 [==============================] - ETA: 0s - loss: 0.0923 - categorical_accuracy: 0.9867\n",
            "Epoch 30: val_categorical_accuracy did not improve from 0.76032\n",
            "40/40 [==============================] - 4s 93ms/step - loss: 0.0923 - categorical_accuracy: 0.9867 - val_loss: 4.9995 - val_categorical_accuracy: 0.7206\n",
            "Epoch 31/80\n",
            "40/40 [==============================] - ETA: 0s - loss: 0.0648 - categorical_accuracy: 0.9902\n",
            "Epoch 31: val_categorical_accuracy did not improve from 0.76032\n",
            "40/40 [==============================] - 4s 93ms/step - loss: 0.0648 - categorical_accuracy: 0.9902 - val_loss: 5.0326 - val_categorical_accuracy: 0.7254\n",
            "Epoch 32/80\n",
            "40/40 [==============================] - ETA: 0s - loss: 0.1277 - categorical_accuracy: 0.9836\n",
            "Epoch 32: val_categorical_accuracy did not improve from 0.76032\n",
            "40/40 [==============================] - 4s 93ms/step - loss: 0.1277 - categorical_accuracy: 0.9836 - val_loss: 4.3636 - val_categorical_accuracy: 0.7444\n",
            "Epoch 33/80\n",
            "40/40 [==============================] - ETA: 0s - loss: 0.0605 - categorical_accuracy: 0.9900\n",
            "Epoch 33: val_categorical_accuracy did not improve from 0.76032\n",
            "40/40 [==============================] - 4s 94ms/step - loss: 0.0605 - categorical_accuracy: 0.9900 - val_loss: 4.9818 - val_categorical_accuracy: 0.7238\n",
            "Epoch 34/80\n",
            "40/40 [==============================] - ETA: 0s - loss: 0.0676 - categorical_accuracy: 0.9883\n",
            "Epoch 34: val_categorical_accuracy did not improve from 0.76032\n",
            "40/40 [==============================] - 4s 96ms/step - loss: 0.0676 - categorical_accuracy: 0.9883 - val_loss: 5.1133 - val_categorical_accuracy: 0.7556\n",
            "Epoch 35/80\n",
            "40/40 [==============================] - ETA: 0s - loss: 0.5450 - categorical_accuracy: 0.9729\n",
            "Epoch 35: val_categorical_accuracy did not improve from 0.76032\n",
            "40/40 [==============================] - 4s 93ms/step - loss: 0.5450 - categorical_accuracy: 0.9729 - val_loss: 5.3077 - val_categorical_accuracy: 0.7413\n",
            "Epoch 36/80\n",
            "40/40 [==============================] - ETA: 0s - loss: 0.0389 - categorical_accuracy: 0.9955\n",
            "Epoch 36: val_categorical_accuracy did not improve from 0.76032\n",
            "40/40 [==============================] - 4s 93ms/step - loss: 0.0389 - categorical_accuracy: 0.9955 - val_loss: 5.5403 - val_categorical_accuracy: 0.7508\n",
            "Epoch 37/80\n",
            "40/40 [==============================] - ETA: 0s - loss: 0.1103 - categorical_accuracy: 0.9895\n",
            "Epoch 37: val_categorical_accuracy improved from 0.76032 to 0.76508, saving model to /content/drive/My Drive/SER Databases/Checkpoint_SER_scratch/best_till_now_ser.hdf5\n",
            "40/40 [==============================] - 5s 114ms/step - loss: 0.1103 - categorical_accuracy: 0.9895 - val_loss: 5.6054 - val_categorical_accuracy: 0.7651\n",
            "Epoch 38/80\n",
            "40/40 [==============================] - ETA: 0s - loss: 0.0861 - categorical_accuracy: 0.9869\n",
            "Epoch 38: val_categorical_accuracy did not improve from 0.76508\n",
            "40/40 [==============================] - 4s 93ms/step - loss: 0.0861 - categorical_accuracy: 0.9869 - val_loss: 5.9971 - val_categorical_accuracy: 0.7571\n",
            "Epoch 39/80\n",
            "40/40 [==============================] - ETA: 0s - loss: 0.0481 - categorical_accuracy: 0.9912\n",
            "Epoch 39: val_categorical_accuracy did not improve from 0.76508\n",
            "40/40 [==============================] - 4s 93ms/step - loss: 0.0481 - categorical_accuracy: 0.9912 - val_loss: 6.3942 - val_categorical_accuracy: 0.7635\n",
            "Epoch 40/80\n",
            "40/40 [==============================] - ETA: 0s - loss: 0.1098 - categorical_accuracy: 0.9907\n",
            "Epoch 40: val_categorical_accuracy did not improve from 0.76508\n",
            "40/40 [==============================] - 4s 93ms/step - loss: 0.1098 - categorical_accuracy: 0.9907 - val_loss: 5.3561 - val_categorical_accuracy: 0.7619\n",
            "Epoch 41/80\n",
            "40/40 [==============================] - ETA: 0s - loss: 0.0433 - categorical_accuracy: 0.9919\n",
            "Epoch 41: val_categorical_accuracy did not improve from 0.76508\n",
            "40/40 [==============================] - 4s 93ms/step - loss: 0.0433 - categorical_accuracy: 0.9919 - val_loss: 6.1254 - val_categorical_accuracy: 0.7413\n",
            "Epoch 42/80\n",
            "40/40 [==============================] - ETA: 0s - loss: 0.0780 - categorical_accuracy: 0.9895\n",
            "Epoch 42: val_categorical_accuracy did not improve from 0.76508\n",
            "40/40 [==============================] - 4s 93ms/step - loss: 0.0780 - categorical_accuracy: 0.9895 - val_loss: 7.6978 - val_categorical_accuracy: 0.7476\n",
            "Epoch 43/80\n",
            "40/40 [==============================] - ETA: 0s - loss: 0.0628 - categorical_accuracy: 0.9898\n",
            "Epoch 43: val_categorical_accuracy did not improve from 0.76508\n",
            "40/40 [==============================] - 4s 93ms/step - loss: 0.0628 - categorical_accuracy: 0.9898 - val_loss: 9.2189 - val_categorical_accuracy: 0.7492\n",
            "Epoch 44/80\n",
            "40/40 [==============================] - ETA: 0s - loss: 0.1010 - categorical_accuracy: 0.9893\n",
            "Epoch 44: val_categorical_accuracy did not improve from 0.76508\n",
            "40/40 [==============================] - 4s 92ms/step - loss: 0.1010 - categorical_accuracy: 0.9893 - val_loss: 8.8580 - val_categorical_accuracy: 0.7270\n",
            "Epoch 45/80\n",
            "40/40 [==============================] - ETA: 0s - loss: 0.0735 - categorical_accuracy: 0.9905\n",
            "Epoch 45: val_categorical_accuracy did not improve from 0.76508\n",
            "40/40 [==============================] - 4s 96ms/step - loss: 0.0735 - categorical_accuracy: 0.9905 - val_loss: 7.5904 - val_categorical_accuracy: 0.7476\n",
            "Epoch 46/80\n",
            "40/40 [==============================] - ETA: 0s - loss: 0.0642 - categorical_accuracy: 0.9931\n",
            "Epoch 46: val_categorical_accuracy did not improve from 0.76508\n",
            "40/40 [==============================] - 4s 92ms/step - loss: 0.0642 - categorical_accuracy: 0.9931 - val_loss: 9.4306 - val_categorical_accuracy: 0.7413\n",
            "Epoch 47/80\n",
            "40/40 [==============================] - ETA: 0s - loss: 0.0857 - categorical_accuracy: 0.9905\n",
            "Epoch 47: val_categorical_accuracy did not improve from 0.76508\n",
            "40/40 [==============================] - 4s 92ms/step - loss: 0.0857 - categorical_accuracy: 0.9905 - val_loss: 9.5305 - val_categorical_accuracy: 0.7492\n",
            "Epoch 48/80\n",
            "40/40 [==============================] - ETA: 0s - loss: 0.1110 - categorical_accuracy: 0.9924\n",
            "Epoch 48: val_categorical_accuracy did not improve from 0.76508\n",
            "40/40 [==============================] - 4s 93ms/step - loss: 0.1110 - categorical_accuracy: 0.9924 - val_loss: 8.7341 - val_categorical_accuracy: 0.7349\n",
            "Epoch 49/80\n",
            "40/40 [==============================] - ETA: 0s - loss: 0.1422 - categorical_accuracy: 0.9871\n",
            "Epoch 49: val_categorical_accuracy did not improve from 0.76508\n",
            "40/40 [==============================] - 4s 92ms/step - loss: 0.1422 - categorical_accuracy: 0.9871 - val_loss: 7.0640 - val_categorical_accuracy: 0.7556\n",
            "Epoch 50/80\n",
            "40/40 [==============================] - ETA: 0s - loss: 0.0486 - categorical_accuracy: 0.9952\n",
            "Epoch 50: val_categorical_accuracy improved from 0.76508 to 0.76667, saving model to /content/drive/My Drive/SER Databases/Checkpoint_SER_scratch/best_till_now_ser.hdf5\n",
            "40/40 [==============================] - 5s 117ms/step - loss: 0.0486 - categorical_accuracy: 0.9952 - val_loss: 7.2476 - val_categorical_accuracy: 0.7667\n",
            "Epoch 51/80\n",
            "40/40 [==============================] - ETA: 0s - loss: 0.1968 - categorical_accuracy: 0.9855\n",
            "Epoch 51: val_categorical_accuracy did not improve from 0.76667\n",
            "40/40 [==============================] - 4s 92ms/step - loss: 0.1968 - categorical_accuracy: 0.9855 - val_loss: 9.3674 - val_categorical_accuracy: 0.7524\n",
            "Epoch 52/80\n",
            "40/40 [==============================] - ETA: 0s - loss: 0.0870 - categorical_accuracy: 0.9926\n",
            "Epoch 52: val_categorical_accuracy did not improve from 0.76667\n",
            "40/40 [==============================] - 4s 92ms/step - loss: 0.0870 - categorical_accuracy: 0.9926 - val_loss: 10.2364 - val_categorical_accuracy: 0.7444\n",
            "Epoch 53/80\n",
            "40/40 [==============================] - ETA: 0s - loss: 0.1143 - categorical_accuracy: 0.9902\n",
            "Epoch 53: val_categorical_accuracy did not improve from 0.76667\n",
            "40/40 [==============================] - 4s 96ms/step - loss: 0.1143 - categorical_accuracy: 0.9902 - val_loss: 9.7064 - val_categorical_accuracy: 0.7619\n",
            "Epoch 54/80\n",
            "40/40 [==============================] - ETA: 0s - loss: 0.0675 - categorical_accuracy: 0.9929\n",
            "Epoch 54: val_categorical_accuracy did not improve from 0.76667\n",
            "40/40 [==============================] - 4s 92ms/step - loss: 0.0675 - categorical_accuracy: 0.9929 - val_loss: 13.2957 - val_categorical_accuracy: 0.7476\n",
            "Epoch 55/80\n",
            "40/40 [==============================] - ETA: 0s - loss: 0.0977 - categorical_accuracy: 0.9933\n",
            "Epoch 55: val_categorical_accuracy did not improve from 0.76667\n",
            "40/40 [==============================] - 4s 92ms/step - loss: 0.0977 - categorical_accuracy: 0.9933 - val_loss: 11.1986 - val_categorical_accuracy: 0.7270\n",
            "Epoch 56/80\n",
            "40/40 [==============================] - ETA: 0s - loss: 0.1337 - categorical_accuracy: 0.9895\n",
            "Epoch 56: val_categorical_accuracy did not improve from 0.76667\n",
            "40/40 [==============================] - 4s 96ms/step - loss: 0.1337 - categorical_accuracy: 0.9895 - val_loss: 10.1326 - val_categorical_accuracy: 0.7540\n",
            "Epoch 57/80\n",
            "40/40 [==============================] - ETA: 0s - loss: 0.1053 - categorical_accuracy: 0.9933\n",
            "Epoch 57: val_categorical_accuracy did not improve from 0.76667\n",
            "40/40 [==============================] - 4s 96ms/step - loss: 0.1053 - categorical_accuracy: 0.9933 - val_loss: 12.2782 - val_categorical_accuracy: 0.7492\n",
            "Epoch 58/80\n",
            "40/40 [==============================] - ETA: 0s - loss: 0.1198 - categorical_accuracy: 0.9926\n",
            "Epoch 58: val_categorical_accuracy did not improve from 0.76667\n",
            "40/40 [==============================] - 4s 96ms/step - loss: 0.1198 - categorical_accuracy: 0.9926 - val_loss: 11.9826 - val_categorical_accuracy: 0.7635\n",
            "Epoch 59/80\n",
            "40/40 [==============================] - ETA: 0s - loss: 0.1144 - categorical_accuracy: 0.9895\n",
            "Epoch 59: val_categorical_accuracy did not improve from 0.76667\n",
            "40/40 [==============================] - 4s 93ms/step - loss: 0.1144 - categorical_accuracy: 0.9895 - val_loss: 12.3648 - val_categorical_accuracy: 0.7540\n",
            "Epoch 60/80\n",
            "40/40 [==============================] - ETA: 0s - loss: 0.0951 - categorical_accuracy: 0.9924\n",
            "Epoch 60: val_categorical_accuracy did not improve from 0.76667\n",
            "40/40 [==============================] - 4s 96ms/step - loss: 0.0951 - categorical_accuracy: 0.9924 - val_loss: 10.3918 - val_categorical_accuracy: 0.7397\n",
            "Epoch 61/80\n",
            "40/40 [==============================] - ETA: 0s - loss: 0.0594 - categorical_accuracy: 0.9960\n",
            "Epoch 61: val_categorical_accuracy did not improve from 0.76667\n",
            "40/40 [==============================] - 4s 92ms/step - loss: 0.0594 - categorical_accuracy: 0.9960 - val_loss: 11.5041 - val_categorical_accuracy: 0.7524\n",
            "Epoch 62/80\n",
            "40/40 [==============================] - ETA: 0s - loss: 0.0744 - categorical_accuracy: 0.9938\n",
            "Epoch 62: val_categorical_accuracy did not improve from 0.76667\n",
            "40/40 [==============================] - 4s 96ms/step - loss: 0.0744 - categorical_accuracy: 0.9938 - val_loss: 9.6409 - val_categorical_accuracy: 0.7444\n",
            "Epoch 63/80\n",
            "40/40 [==============================] - ETA: 0s - loss: 0.0894 - categorical_accuracy: 0.9924\n",
            "Epoch 63: val_categorical_accuracy did not improve from 0.76667\n",
            "40/40 [==============================] - 4s 93ms/step - loss: 0.0894 - categorical_accuracy: 0.9924 - val_loss: 15.5971 - val_categorical_accuracy: 0.7397\n",
            "Epoch 64/80\n",
            "40/40 [==============================] - ETA: 0s - loss: 0.1019 - categorical_accuracy: 0.9933\n",
            "Epoch 64: val_categorical_accuracy did not improve from 0.76667\n",
            "40/40 [==============================] - 4s 96ms/step - loss: 0.1019 - categorical_accuracy: 0.9933 - val_loss: 14.9757 - val_categorical_accuracy: 0.7540\n",
            "Epoch 65/80\n",
            "40/40 [==============================] - ETA: 0s - loss: 0.1030 - categorical_accuracy: 0.9921\n",
            "Epoch 65: val_categorical_accuracy did not improve from 0.76667\n",
            "40/40 [==============================] - 4s 93ms/step - loss: 0.1030 - categorical_accuracy: 0.9921 - val_loss: 11.2360 - val_categorical_accuracy: 0.7492\n",
            "Epoch 66/80\n",
            "40/40 [==============================] - ETA: 0s - loss: 0.2658 - categorical_accuracy: 0.9905\n",
            "Epoch 66: val_categorical_accuracy did not improve from 0.76667\n",
            "40/40 [==============================] - 4s 93ms/step - loss: 0.2658 - categorical_accuracy: 0.9905 - val_loss: 11.5192 - val_categorical_accuracy: 0.7556\n",
            "Epoch 67/80\n",
            "40/40 [==============================] - ETA: 0s - loss: 0.0278 - categorical_accuracy: 0.9979\n",
            "Epoch 67: val_categorical_accuracy did not improve from 0.76667\n",
            "40/40 [==============================] - 4s 92ms/step - loss: 0.0278 - categorical_accuracy: 0.9979 - val_loss: 13.6978 - val_categorical_accuracy: 0.7524\n",
            "Epoch 68/80\n",
            "40/40 [==============================] - ETA: 0s - loss: 0.1133 - categorical_accuracy: 0.9919\n",
            "Epoch 68: val_categorical_accuracy did not improve from 0.76667\n",
            "40/40 [==============================] - 4s 93ms/step - loss: 0.1133 - categorical_accuracy: 0.9919 - val_loss: 10.9687 - val_categorical_accuracy: 0.7603\n",
            "Epoch 69/80\n",
            "40/40 [==============================] - ETA: 0s - loss: 0.0896 - categorical_accuracy: 0.9950\n",
            "Epoch 69: val_categorical_accuracy did not improve from 0.76667\n",
            "40/40 [==============================] - 4s 92ms/step - loss: 0.0896 - categorical_accuracy: 0.9950 - val_loss: 11.9791 - val_categorical_accuracy: 0.7556\n",
            "Epoch 70/80\n",
            "40/40 [==============================] - ETA: 0s - loss: 0.1860 - categorical_accuracy: 0.9910\n",
            "Epoch 70: val_categorical_accuracy did not improve from 0.76667\n",
            "40/40 [==============================] - 4s 92ms/step - loss: 0.1860 - categorical_accuracy: 0.9910 - val_loss: 13.5760 - val_categorical_accuracy: 0.7524\n",
            "Epoch 71/80\n",
            "40/40 [==============================] - ETA: 0s - loss: 0.0696 - categorical_accuracy: 0.9945\n",
            "Epoch 71: val_categorical_accuracy did not improve from 0.76667\n",
            "40/40 [==============================] - 4s 92ms/step - loss: 0.0696 - categorical_accuracy: 0.9945 - val_loss: 14.9205 - val_categorical_accuracy: 0.7508\n",
            "Epoch 72/80\n",
            "40/40 [==============================] - ETA: 0s - loss: 0.1085 - categorical_accuracy: 0.9940\n",
            "Epoch 72: val_categorical_accuracy did not improve from 0.76667\n",
            "40/40 [==============================] - 4s 96ms/step - loss: 0.1085 - categorical_accuracy: 0.9940 - val_loss: 14.1643 - val_categorical_accuracy: 0.7460\n",
            "Epoch 73/80\n",
            "40/40 [==============================] - ETA: 0s - loss: 0.1195 - categorical_accuracy: 0.9921\n",
            "Epoch 73: val_categorical_accuracy did not improve from 0.76667\n",
            "40/40 [==============================] - 4s 92ms/step - loss: 0.1195 - categorical_accuracy: 0.9921 - val_loss: 13.6018 - val_categorical_accuracy: 0.7508\n",
            "Epoch 74/80\n",
            "40/40 [==============================] - ETA: 0s - loss: 0.0753 - categorical_accuracy: 0.9948\n",
            "Epoch 74: val_categorical_accuracy did not improve from 0.76667\n",
            "40/40 [==============================] - 4s 92ms/step - loss: 0.0753 - categorical_accuracy: 0.9948 - val_loss: 13.4502 - val_categorical_accuracy: 0.7429\n",
            "Epoch 75/80\n",
            "40/40 [==============================] - ETA: 0s - loss: 0.1369 - categorical_accuracy: 0.9907\n",
            "Epoch 75: val_categorical_accuracy did not improve from 0.76667\n",
            "40/40 [==============================] - 4s 92ms/step - loss: 0.1369 - categorical_accuracy: 0.9907 - val_loss: 16.2718 - val_categorical_accuracy: 0.7349\n",
            "Epoch 76/80\n",
            "40/40 [==============================] - ETA: 0s - loss: 0.0642 - categorical_accuracy: 0.9948\n",
            "Epoch 76: val_categorical_accuracy did not improve from 0.76667\n",
            "40/40 [==============================] - 4s 96ms/step - loss: 0.0642 - categorical_accuracy: 0.9948 - val_loss: 13.1345 - val_categorical_accuracy: 0.7302\n",
            "Epoch 77/80\n",
            "40/40 [==============================] - ETA: 0s - loss: 0.1024 - categorical_accuracy: 0.9962\n",
            "Epoch 77: val_categorical_accuracy did not improve from 0.76667\n",
            "40/40 [==============================] - 4s 93ms/step - loss: 0.1024 - categorical_accuracy: 0.9962 - val_loss: 14.1370 - val_categorical_accuracy: 0.7302\n",
            "Epoch 78/80\n",
            "40/40 [==============================] - ETA: 0s - loss: 0.0859 - categorical_accuracy: 0.9957\n",
            "Epoch 78: val_categorical_accuracy did not improve from 0.76667\n",
            "40/40 [==============================] - 4s 93ms/step - loss: 0.0859 - categorical_accuracy: 0.9957 - val_loss: 15.9917 - val_categorical_accuracy: 0.7556\n",
            "Epoch 79/80\n",
            "40/40 [==============================] - ETA: 0s - loss: 0.0879 - categorical_accuracy: 0.9936\n",
            "Epoch 79: val_categorical_accuracy did not improve from 0.76667\n",
            "40/40 [==============================] - 4s 92ms/step - loss: 0.0879 - categorical_accuracy: 0.9936 - val_loss: 18.7290 - val_categorical_accuracy: 0.7349\n",
            "Epoch 80/80\n",
            "40/40 [==============================] - ETA: 0s - loss: 0.0973 - categorical_accuracy: 0.9945\n",
            "Epoch 80: val_categorical_accuracy did not improve from 0.76667\n",
            "40/40 [==============================] - 4s 92ms/step - loss: 0.0973 - categorical_accuracy: 0.9945 - val_loss: 14.8493 - val_categorical_accuracy: 0.7381\n"
          ]
        }
      ]
    },
    {
      "cell_type": "code",
      "source": [
        "model_loaded = load_model(checkpoint_scratch_path)"
      ],
      "metadata": {
        "id": "hahkDnkwPzKe"
      },
      "execution_count": null,
      "outputs": []
    },
    {
      "cell_type": "code",
      "source": [
        "from sklearn.metrics import confusion_matrix\n",
        "import seaborn as sns\n",
        "import matplotlib.pyplot as plt \n",
        "import pandas as pd"
      ],
      "metadata": {
        "id": "PkFQbGuD5NcO"
      },
      "execution_count": null,
      "outputs": []
    },
    {
      "cell_type": "code",
      "source": [
        "model_loaded.evaluate(X_valid, y_valid_class)"
      ],
      "metadata": {
        "colab": {
          "base_uri": "https://localhost:8080/"
        },
        "id": "cD2ecukN5ji2",
        "outputId": "4194de0f-b634-48cd-8b52-36d837884e82"
      },
      "execution_count": null,
      "outputs": [
        {
          "output_type": "stream",
          "name": "stdout",
          "text": [
            "20/20 [==============================] - 0s 11ms/step - loss: 1.4974 - categorical_accuracy: 0.7873\n"
          ]
        },
        {
          "output_type": "execute_result",
          "data": {
            "text/plain": [
              "[1.4973726272583008, 0.7873015999794006]"
            ]
          },
          "metadata": {},
          "execution_count": 54
        }
      ]
    },
    {
      "cell_type": "code",
      "source": [
        "# Plot for Loss from history\n",
        "\n",
        "plt.plot(history_scratch.history['loss'], label='Loss(Training Data)')\n",
        "plt.plot(history_scratch.history['val_loss'], label='Loss(Validation Data)')\n",
        "plt.title('Loss for Train and Validation Sets')\n",
        "plt.ylabel('Loss')\n",
        "plt.xlabel('Number of Epoches')\n",
        "plt.legend(loc=\"best\")\n",
        "plt.show()"
      ],
      "metadata": {
        "colab": {
          "base_uri": "https://localhost:8080/",
          "height": 295
        },
        "id": "RYU91U9G5k0W",
        "outputId": "94398c2e-f22e-4ba3-9706-b030e5d4a9fc"
      },
      "execution_count": null,
      "outputs": [
        {
          "output_type": "display_data",
          "data": {
            "text/plain": [
              "<Figure size 432x288 with 1 Axes>"
            ],
            "image/png": "[encoded data removed]"
          },
          "metadata": {
            "needs_background": "light"
          }
        }
      ]
    },
    {
      "cell_type": "code",
      "source": [
        "#Plot for Accuracy from history\n",
        "\n",
        "plt.plot(history_scratch.history['categorical_accuracy'], label='Accuracy(Training Data)')\n",
        "plt.plot(history_scratch.history['val_categorical_accuracy'], label='Accuracy(Validation Data)')\n",
        "plt.title('Model Accuracy')\n",
        "plt.ylabel('Accuracy Percentage')\n",
        "plt.xlabel('Number of Epoches')\n",
        "plt.legend(loc=\"best\")\n",
        "plt.show()"
      ],
      "metadata": {
        "colab": {
          "base_uri": "https://localhost:8080/",
          "height": 295
        },
        "id": "NuzkQIYZ5lFq",
        "outputId": "792ca319-bcd4-447d-ae79-15a7bb33a907"
      },
      "execution_count": null,
      "outputs": [
        {
          "output_type": "display_data",
          "data": {
            "text/plain": [
              "<Figure size 432x288 with 1 Axes>"
            ],
            "image/png": "[encoded data removed]"
          },
          "metadata": {
            "needs_background": "light"
          }
        }
      ]
    },
    {
      "cell_type": "code",
      "source": [
        "# Validation Set Confusion Matrix\n",
        "\n",
        "y_valid_class = np.argmax(y_valid_class, axis=1)\n",
        "predictions = model_scratch.predict(X_valid)\n",
        "y_pred_class = np.argmax(predictions, axis=1)\n",
        "\n",
        "cm = confusion_matrix(y_valid_class, y_pred_class)\n",
        "\n",
        "index = ['neutral', 'calm', 'happy', 'sad', 'angry', 'fearful', 'disgust', 'surprised']  \n",
        "columns = ['neutral', 'calm', 'happy', 'sad', 'angry', 'fearful', 'disgust', 'surprised']  \n",
        " \n",
        "cm_df = pd.DataFrame(cm,index,columns)                     \n",
        "plt.figure(figsize=(12,8))\n",
        "ax = plt.axes()\n",
        "\n",
        "sns.heatmap(cm_df, ax = ax,cmap='YlGnBu',fmt=\"d\", annot=True)\n",
        "ax.set_ylabel('True emotion')\n",
        "ax.set_xlabel('Predicted emotion')"
      ],
      "metadata": {
        "colab": {
          "base_uri": "https://localhost:8080/",
          "height": 514
        },
        "id": "JiKL9A0ZTDQS",
        "outputId": "e3d4dfb0-17fd-49a7-ba8b-7faeb213eee1"
      },
      "execution_count": null,
      "outputs": [
        {
          "output_type": "execute_result",
          "data": {
            "text/plain": [
              "Text(0.5, 51.0, 'Predicted emotion')"
            ]
          },
          "metadata": {},
          "execution_count": 58
        },
        {
          "output_type": "display_data",
          "data": {
            "text/plain": [
              "<Figure size 864x576 with 2 Axes>"
            ],
            "image/png": "[encoded data removed]"
          },
          "metadata": {
            "needs_background": "light"
          }
        }
      ]
    },
    {
      "cell_type": "code",
      "source": [
        "# Validation set prediction accuracy rates\n",
        "\n",
        "values = cm.diagonal()\n",
        "row_sum = np.sum(cm,axis=1)\n",
        "acc = (values / row_sum)*100\n",
        "\n",
        "print('Validation set predicted emotions accuracy:')\n",
        "for i in range(len(values)):\n",
        "    print(\"\\t\"*5,index[i],':', f\"{(acc[i]):0.4f}\", \"%\")"
      ],
      "metadata": {
        "colab": {
          "base_uri": "https://localhost:8080/"
        },
        "id": "c_N48GB85lfP",
        "outputId": "914ca447-b584-4a46-bf68-d10f198652e0"
      },
      "execution_count": null,
      "outputs": [
        {
          "output_type": "stream",
          "name": "stdout",
          "text": [
            "Validation set predicted emotions accuracy:\n",
            "\t\t\t\t\t neutral : 75.0000 %\n",
            "\t\t\t\t\t calm : 76.5957 %\n",
            "\t\t\t\t\t happy : 84.2105 %\n",
            "\t\t\t\t\t sad : 72.6190 %\n",
            "\t\t\t\t\t angry : 84.0000 %\n",
            "\t\t\t\t\t fearful : 75.5556 %\n",
            "\t\t\t\t\t disgust : 80.5195 %\n",
            "\t\t\t\t\t surprised : 78.4615 %\n"
          ]
        }
      ]
    },
    {
      "cell_type": "code",
      "source": [
        "model_scratch.evaluate(X_test, y_test_class)"
      ],
      "metadata": {
        "colab": {
          "base_uri": "https://localhost:8080/"
        },
        "id": "7XvRgsUySczi",
        "outputId": "e9d86c6b-f7e3-463e-b8c9-0464604d320d"
      },
      "execution_count": null,
      "outputs": [
        {
          "output_type": "stream",
          "name": "stdout",
          "text": [
            "14/14 [==============================] - 0s 12ms/step - loss: 1.4703 - categorical_accuracy: 0.7429\n"
          ]
        },
        {
          "output_type": "execute_result",
          "data": {
            "text/plain": [
              "[1.470328688621521, 0.7428571581840515]"
            ]
          },
          "metadata": {},
          "execution_count": 64
        }
      ]
    },
    {
      "cell_type": "code",
      "source": [
        "# Test Set Confusion Matrix\n",
        "\n",
        "y_test_class = np.argmax(y_test_class, axis=1)\n",
        "predictions = model_scratch.predict(X_test)\n",
        "y_pred_class = np.argmax(predictions, axis=1)\n",
        "\n",
        "cm = confusion_matrix(y_test_class, y_pred_class)\n",
        "\n",
        "index = ['neutral', 'calm', 'happy', 'sad', 'angry', 'fearful', 'disgust', 'surprised']  \n",
        "columns = ['neutral', 'calm', 'happy', 'sad', 'angry', 'fearful', 'disgust', 'surprised']  \n",
        " \n",
        "cm_df = pd.DataFrame(cm,index,columns)                     \n",
        "plt.figure(figsize=(12,8))\n",
        "ax = plt.axes()\n",
        "\n",
        "sns.heatmap(cm_df, ax = ax,cmap='YlGnBu', fmt=\"d\", annot=True)\n",
        "ax.set_ylabel('True emotion')\n",
        "ax.set_xlabel('Predicted emotion')"
      ],
      "metadata": {
        "colab": {
          "base_uri": "https://localhost:8080/",
          "height": 514
        },
        "id": "ThN64760TjH5",
        "outputId": "759b7c9d-27d3-41cb-d5a4-0db10b156129"
      },
      "execution_count": null,
      "outputs": [
        {
          "output_type": "execute_result",
          "data": {
            "text/plain": [
              "Text(0.5, 51.0, 'Predicted emotion')"
            ]
          },
          "metadata": {},
          "execution_count": 65
        },
        {
          "output_type": "display_data",
          "data": {
            "text/plain": [
              "<Figure size 864x576 with 2 Axes>"
            ],
            "image/png": "[encoded data removed]"
          },
          "metadata": {
            "needs_background": "light"
          }
        }
      ]
    },
    {
      "cell_type": "code",
      "source": [
        "# Test set prediction accuracy rates\n",
        "\n",
        "values = cm.diagonal()\n",
        "row_sum = np.sum(cm,axis=1)\n",
        "acc = (values / row_sum)*100\n",
        "\n",
        "print('Test set predicted emotions accuracy:')\n",
        "for i in range(len(values)):\n",
        "    print(\"\\t\"*5,index[i],':', f\"{(acc[i]):0.4f}\", \"%\")"
      ],
      "metadata": {
        "colab": {
          "base_uri": "https://localhost:8080/"
        },
        "id": "wx7x_3JP5mCh",
        "outputId": "610b34ea-1ef3-4bba-952c-32095faac409"
      },
      "execution_count": null,
      "outputs": [
        {
          "output_type": "stream",
          "name": "stdout",
          "text": [
            "Test set predicted emotions accuracy:\n",
            "\t\t\t\t\t neutral : 92.6829 %\n",
            "\t\t\t\t\t calm : 42.1053 %\n",
            "\t\t\t\t\t happy : 74.6032 %\n",
            "\t\t\t\t\t sad : 71.4286 %\n",
            "\t\t\t\t\t angry : 78.8732 %\n",
            "\t\t\t\t\t fearful : 66.6667 %\n",
            "\t\t\t\t\t disgust : 76.0870 %\n",
            "\t\t\t\t\t surprised : 78.5714 %\n"
          ]
        }
      ]
    },
    {
      "cell_type": "markdown",
      "source": [
        "#**Original MODEL**"
      ],
      "metadata": {
        "id": "VxaeIh2Cz8UN"
      }
    },
    {
      "cell_type": "markdown",
      "source": [
        "#**Using the model in Real-Time Scenarios**"
      ],
      "metadata": {
        "id": "hVMIO_2YPwXv"
      }
    },
    {
      "cell_type": "code",
      "source": [
        "model_loaded.summary() # Just for viewing the specifics of the model"
      ],
      "metadata": {
        "id": "sskmSlTbn7J7",
        "colab": {
          "base_uri": "https://localhost:8080/"
        },
        "outputId": "bffe5dad-c17d-4469-925d-d9524df97a8e"
      },
      "execution_count": null,
      "outputs": [
        {
          "output_type": "stream",
          "name": "stdout",
          "text": [
            "Model: \"sequential\"\n",
            "_________________________________________________________________\n",
            " Layer (type)                Output Shape              Param #   \n",
            "=================================================================\n",
            " conv2d (Conv2D)             (None, 472, 11, 64)       1664      \n",
            "                                                                 \n",
            " max_pooling2d (MaxPooling2D  (None, 236, 6, 64)       0         \n",
            " )                                                               \n",
            "                                                                 \n",
            " conv2d_1 (Conv2D)           (None, 232, 2, 64)        102464    \n",
            "                                                                 \n",
            " max_pooling2d_1 (MaxPooling  (None, 116, 1, 64)       0         \n",
            " 2D)                                                             \n",
            "                                                                 \n",
            " flatten (Flatten)           (None, 7424)              0         \n",
            "                                                                 \n",
            " dense (Dense)               (None, 64)                475200    \n",
            "                                                                 \n",
            " dense_1 (Dense)             (None, 8)                 520       \n",
            "                                                                 \n",
            "=================================================================\n",
            "Total params: 579,848\n",
            "Trainable params: 579,848\n",
            "Non-trainable params: 0\n",
            "_________________________________________________________________\n"
          ]
        }
      ]
    },
    {
      "cell_type": "markdown",
      "source": [
        "**Recording Audio Sample**"
      ],
      "metadata": {
        "id": "pp8RIe8URMSj"
      }
    },
    {
      "cell_type": "code",
      "source": [
        ""
      ],
      "metadata": {
        "id": "9sFP4CjIQXWC"
      },
      "execution_count": null,
      "outputs": []
    }
  ],
  "metadata": {
    "colab": {
      "collapsed_sections": [],
      "name": "SEA(SER).ipynb",
      "provenance": [],
      "include_colab_link": true
    },
    "interpreter": {
      "hash": "81794d4967e6c3204c66dcd87b604927b115b27c00565d3d43f05ba2f3a2cb0d"
    },
    "kernelspec": {
      "display_name": "Python 3.9.0 64-bit",
      "language": "python",
      "name": "python3"
    },
    "language_info": {
      "codemirror_mode": {
        "name": "ipython",
        "version": 3
      },
      "file_extension": ".py",
      "mimetype": "text/x-python",
      "name": "python",
      "nbconvert_exporter": "python",
      "pygments_lexer": "ipython3",
      "version": "3.9.0"
    },
    "accelerator": "GPU",
    "gpuClass": "standard"
  },
  "nbformat": 4,
  "nbformat_minor": 0
}