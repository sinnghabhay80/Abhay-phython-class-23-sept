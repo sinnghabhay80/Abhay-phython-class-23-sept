{
 "cells": [
  {
   "cell_type": "code",
   "execution_count": 1,
   "metadata": {
    "execution": {
     "iopub.execute_input": "2022-12-06T05:30:12.311949Z",
     "iopub.status.busy": "2022-12-06T05:30:12.311449Z",
     "iopub.status.idle": "2022-12-06T05:30:18.886354Z",
     "shell.execute_reply": "2022-12-06T05:30:18.885313Z",
     "shell.execute_reply.started": "2022-12-06T05:30:12.311881Z"
    },
    "id": "L9EkhwuPRxHu"
   },
   "outputs": [],
   "source": [
    "import numpy as np\n",
    "import pickle\n",
    "import cv2\n",
    "from os import listdir\n",
    "from sklearn.preprocessing import LabelBinarizer\n",
    "from keras.models import Sequential\n",
    "from keras.layers import BatchNormalization\n",
    "from keras.layers.convolutional import Conv2D\n",
    "from keras.layers.convolutional import MaxPooling2D\n",
    "from keras.layers.core import Activation, Flatten, Dropout, Dense\n",
    "from keras import backend as K\n",
    "from tensorflow.keras.optimizers import Adam\n",
    "from tensorflow.keras.utils import img_to_array\n",
    "from sklearn.model_selection import train_test_split\n",
    "import matplotlib.pyplot as plt\n",
    "import re\n",
    "from keras.models import Sequential, load_model\n",
    "from keras import layers\n",
    "from keras import optimizers\n",
    "from keras import callbacks \n",
    "from tensorflow import expand_dims"
   ]
  },
  {
   "cell_type": "code",
   "execution_count": 2,
   "metadata": {
    "execution": {
     "iopub.execute_input": "2022-12-06T05:30:18.890626Z",
     "iopub.status.busy": "2022-12-06T05:30:18.890003Z",
     "iopub.status.idle": "2022-12-06T05:30:18.896338Z",
     "shell.execute_reply": "2022-12-06T05:30:18.895167Z",
     "shell.execute_reply.started": "2022-12-06T05:30:18.890597Z"
    },
    "id": "PsWrWBUJesx3"
   },
   "outputs": [],
   "source": [
    "folder_path = '../storage/dataSet'"
   ]
  },
  {
   "cell_type": "code",
   "execution_count": 3,
   "metadata": {
    "execution": {
     "iopub.execute_input": "2022-12-06T05:30:18.898011Z",
     "iopub.status.busy": "2022-12-06T05:30:18.897619Z",
     "iopub.status.idle": "2022-12-06T05:30:18.902832Z",
     "shell.execute_reply": "2022-12-06T05:30:18.901838Z",
     "shell.execute_reply.started": "2022-12-06T05:30:18.897984Z"
    },
    "id": "LA-Bgd92Qr3F"
   },
   "outputs": [],
   "source": [
    "default_image_size = tuple((256, 256))"
   ]
  },
  {
   "cell_type": "code",
   "execution_count": 4,
   "metadata": {
    "execution": {
     "iopub.execute_input": "2022-12-06T05:30:18.905935Z",
     "iopub.status.busy": "2022-12-06T05:30:18.905646Z",
     "iopub.status.idle": "2022-12-06T05:30:18.911024Z",
     "shell.execute_reply": "2022-12-06T05:30:18.910237Z",
     "shell.execute_reply.started": "2022-12-06T05:30:18.905911Z"
    },
    "id": "F2WCdhJ5TLp6"
   },
   "outputs": [],
   "source": [
    "def convert_image_to_array(image_dir):\n",
    "    try:\n",
    "        image = cv2.imread(image_dir)\n",
    "        if image is not None :\n",
    "            image = cv2.resize(image, default_image_size)   \n",
    "            return img_to_array(image)\n",
    "        else :\n",
    "            return np.array([])\n",
    "    except Exception as e:\n",
    "        print(f\"Error : {e}\")\n",
    "        return None"
   ]
  },
  {
   "cell_type": "code",
   "execution_count": 6,
   "metadata": {
    "colab": {
     "base_uri": "https://localhost:8080/"
    },
    "execution": {
     "iopub.execute_input": "2022-12-05T18:53:02.956638Z",
     "iopub.status.busy": "2022-12-05T18:53:02.956310Z",
     "iopub.status.idle": "2022-12-05T18:53:36.641414Z",
     "shell.execute_reply": "2022-12-05T18:53:36.639722Z",
     "shell.execute_reply.started": "2022-12-05T18:53:02.956610Z"
    },
    "id": "m3mmavhNOFCx",
    "outputId": "e4b0f0c2-a210-480c-fc5e-42b05b624351"
   },
   "outputs": [
    {
     "name": "stdout",
     "output_type": "stream",
     "text": [
      "[INFO] Loading images ...\n",
      "[INFO] Processing Corn___Northern_Leaf_Blight ...\n",
      "[INFO] Processing Pepper,_bell___healthy ...\n",
      "[INFO] Processing Potato___healthy ...\n",
      "[INFO] Processing Corn___healthy ...\n",
      "[INFO] Processing Grape___Black_rot ...\n",
      "[INFO] Processing Corn___Cercospora_leaf_spot Gray_leaf_spot ...\n",
      "[INFO] Processing Apple___Apple_scab ...\n",
      "[INFO] Processing Tomato___Spider_mites Two-spotted_spider_mite ...\n",
      "[INFO] Processing Tomato___Late_blight ...\n",
      "[INFO] Processing Strawberry___Leaf_scorch ...\n",
      "[INFO] Processing Apple___Cedar_apple_rust ...\n",
      "[INFO] Processing Tomato___Tomato_Yellow_Leaf_Curl_Virus ...\n",
      "[INFO] Processing Apple___healthy ...\n",
      "[INFO] Processing Grape___Leaf_blight_(Isariopsis_Leaf_Spot) ...\n",
      "[INFO] Processing Tomato___Early_blight ...\n",
      "[INFO] Processing Raspberry___healthy ...\n",
      "[INFO] Processing Peach___healthy ...\n",
      "[INFO] Processing Cherry___healthy ...\n",
      "[INFO] Processing Blueberry___healthy ...\n",
      "[INFO] Processing Background_without_leaves ...\n",
      "[INFO] Processing Potato___Late_blight ...\n",
      "[INFO] Processing Grape___healthy ...\n",
      "[INFO] Processing Tomato___Leaf_Mold ...\n",
      "[INFO] Processing Tomato___Target_Spot ...\n",
      "[INFO] Processing Tomato___healthy ...\n",
      "[INFO] Processing Squash___Powdery_mildew ...\n",
      "[INFO] Processing Corn___Common_rust ...\n",
      "[INFO] Processing Potato___Early_blight ...\n",
      "[INFO] Processing Orange___Haunglongbing_(Citrus_greening) ...\n",
      "[INFO] Processing Strawberry___healthy ...\n",
      "[INFO] Processing Soybean___healthy ...\n",
      "[INFO] Processing Peach___Bacterial_spot ...\n",
      "[INFO] Processing Apple___Black_rot ...\n",
      "[INFO] Processing Pepper,_bell___Bacterial_spot ...\n",
      "[INFO] Processing Tomato___Septoria_leaf_spot ...\n",
      "[INFO] Processing Tomato___Tomato_mosaic_virus ...\n",
      "[INFO] Processing Grape___Esca_(Black_Measles) ...\n",
      "[INFO] Processing Cherry___Powdery_mildew ...\n",
      "[INFO] Processing Tomato___Bacterial_spot ...\n",
      "[INFO] Image loading completed\n"
     ]
    }
   ],
   "source": [
    "image_list, label_list = [], []\n",
    "\n",
    "try:\n",
    "    print(\"[INFO] Loading images ...\")\n",
    "    root_dir = listdir(folder_path)\n",
    "    for directory in root_dir :\n",
    "        # remove .DS_Store from list\n",
    "        if directory == \".DS_Store\" :\n",
    "            root_dir.remove(directory)\n",
    "\n",
    "    for plant_folder in root_dir :\n",
    "        plant_disease_folder_list = listdir(f\"{folder_path}/{plant_folder}\")\n",
    "        \n",
    "        for disease_folder in plant_disease_folder_list :\n",
    "            # remove .DS_Store from list\n",
    "            if disease_folder == \".DS_Store\" :\n",
    "                plant_disease_folder_list.remove(disease_folder)\n",
    "\n",
    "        for plant_disease_folder in plant_disease_folder_list:\n",
    "            print(f\"[INFO] Processing {plant_disease_folder} ...\")\n",
    "            plant_disease_image_list = listdir(f\"{folder_path}/{plant_folder}/{plant_disease_folder}/\")\n",
    "\n",
    "            for single_plant_disease_image in plant_disease_image_list :\n",
    "                if single_plant_disease_image == \".DS_Store\" :\n",
    "                    plant_disease_image_list.remove(single_plant_disease_image)\n",
    "\n",
    "            for image in plant_disease_image_list[:200]:\n",
    "                image_directory = f\"{folder_path}/{plant_folder}/{plant_disease_folder}/{image}\"\n",
    "                if image_directory.endswith(\".jpg\") == True or image_directory.endswith(\".JPG\") == True:\n",
    "                    image_list.append(convert_image_to_array(image_directory))\n",
    "                    label_list.append(plant_disease_folder)\n",
    "    print(\"[INFO] Image loading completed\")  \n",
    "except Exception as e:\n",
    "    print(f\"Error : {e}\")"
   ]
  },
  {
   "cell_type": "code",
   "execution_count": 7,
   "metadata": {
    "execution": {
     "iopub.execute_input": "2022-12-05T18:53:36.642959Z",
     "iopub.status.busy": "2022-12-05T18:53:36.642611Z",
     "iopub.status.idle": "2022-12-05T18:53:36.649144Z",
     "shell.execute_reply": "2022-12-05T18:53:36.647473Z",
     "shell.execute_reply.started": "2022-12-05T18:53:36.642931Z"
    },
    "id": "0MEe9PSRRhSZ"
   },
   "outputs": [],
   "source": [
    "image_size = len(image_list)"
   ]
  },
  {
   "cell_type": "code",
   "execution_count": 8,
   "metadata": {
    "execution": {
     "iopub.execute_input": "2022-12-05T18:53:36.651783Z",
     "iopub.status.busy": "2022-12-05T18:53:36.651062Z",
     "iopub.status.idle": "2022-12-05T18:53:36.678628Z",
     "shell.execute_reply": "2022-12-05T18:53:36.677106Z",
     "shell.execute_reply.started": "2022-12-05T18:53:36.651723Z"
    }
   },
   "outputs": [
    {
     "data": {
      "text/plain": [
       "7800"
      ]
     },
     "execution_count": 8,
     "metadata": {},
     "output_type": "execute_result"
    }
   ],
   "source": [
    "image_size"
   ]
  },
  {
   "cell_type": "code",
   "execution_count": 9,
   "metadata": {
    "execution": {
     "iopub.execute_input": "2022-12-05T18:53:36.680410Z",
     "iopub.status.busy": "2022-12-05T18:53:36.679938Z",
     "iopub.status.idle": "2022-12-05T18:53:37.126522Z",
     "shell.execute_reply": "2022-12-05T18:53:37.124828Z",
     "shell.execute_reply.started": "2022-12-05T18:53:36.680366Z"
    },
    "id": "CAekSjuSRwG4"
   },
   "outputs": [
    {
     "name": "stdout",
     "output_type": "stream",
     "text": [
      "['Apple___Apple_scab' 'Apple___Black_rot' 'Apple___Cedar_apple_rust'\n",
      " 'Apple___healthy' 'Background_without_leaves' 'Blueberry___healthy'\n",
      " 'Cherry___Powdery_mildew' 'Cherry___healthy'\n",
      " 'Corn___Cercospora_leaf_spot Gray_leaf_spot' 'Corn___Common_rust'\n",
      " 'Corn___Northern_Leaf_Blight' 'Corn___healthy' 'Grape___Black_rot'\n",
      " 'Grape___Esca_(Black_Measles)'\n",
      " 'Grape___Leaf_blight_(Isariopsis_Leaf_Spot)' 'Grape___healthy'\n",
      " 'Orange___Haunglongbing_(Citrus_greening)' 'Peach___Bacterial_spot'\n",
      " 'Peach___healthy' 'Pepper,_bell___Bacterial_spot'\n",
      " 'Pepper,_bell___healthy' 'Potato___Early_blight' 'Potato___Late_blight'\n",
      " 'Potato___healthy' 'Raspberry___healthy' 'Soybean___healthy'\n",
      " 'Squash___Powdery_mildew' 'Strawberry___Leaf_scorch'\n",
      " 'Strawberry___healthy' 'Tomato___Bacterial_spot' 'Tomato___Early_blight'\n",
      " 'Tomato___Late_blight' 'Tomato___Leaf_Mold' 'Tomato___Septoria_leaf_spot'\n",
      " 'Tomato___Spider_mites Two-spotted_spider_mite' 'Tomato___Target_Spot'\n",
      " 'Tomato___Tomato_Yellow_Leaf_Curl_Virus' 'Tomato___Tomato_mosaic_virus'\n",
      " 'Tomato___healthy']\n"
     ]
    }
   ],
   "source": [
    "label_binarizer = LabelBinarizer()\n",
    "image_labels = label_binarizer.fit_transform(label_list)\n",
    "pickle.dump(label_binarizer,open('label_transform.pkl', 'wb'))\n",
    "n_classes = len(label_binarizer.classes_)\n",
    "\n",
    "print(label_binarizer.classes_)"
   ]
  },
  {
   "cell_type": "code",
   "execution_count": 10,
   "metadata": {
    "execution": {
     "iopub.execute_input": "2022-12-05T18:53:37.129724Z",
     "iopub.status.busy": "2022-12-05T18:53:37.129386Z",
     "iopub.status.idle": "2022-12-05T18:53:37.141848Z",
     "shell.execute_reply": "2022-12-05T18:53:37.140435Z",
     "shell.execute_reply.started": "2022-12-05T18:53:37.129696Z"
    }
   },
   "outputs": [],
   "source": [
    "pickle.dump(label_list, open('label_list.pkl', 'wb'))"
   ]
  },
  {
   "cell_type": "code",
   "execution_count": 9,
   "metadata": {
    "execution": {
     "iopub.execute_input": "2022-12-05T14:53:06.148064Z",
     "iopub.status.busy": "2022-12-05T14:53:06.147708Z",
     "iopub.status.idle": "2022-12-05T14:53:06.297767Z",
     "shell.execute_reply": "2022-12-05T14:53:06.296709Z",
     "shell.execute_reply.started": "2022-12-05T14:53:06.148037Z"
    }
   },
   "outputs": [],
   "source": [
    "pickle.dump(image_labels, open('image_labels.pkl', 'wb'))"
   ]
  },
  {
   "cell_type": "code",
   "execution_count": 8,
   "metadata": {
    "execution": {
     "iopub.execute_input": "2022-12-05T14:19:34.518118Z",
     "iopub.status.busy": "2022-12-05T14:19:34.517143Z",
     "iopub.status.idle": "2022-12-05T14:19:44.843364Z",
     "shell.execute_reply": "2022-12-05T14:19:44.841897Z",
     "shell.execute_reply.started": "2022-12-05T14:19:34.518063Z"
    },
    "id": "JmjrC0NOSJK7"
   },
   "outputs": [],
   "source": [
    "np_image_list = np.array(image_list, dtype=np.float64)"
   ]
  },
  {
   "cell_type": "code",
   "execution_count": 13,
   "metadata": {
    "execution": {
     "iopub.execute_input": "2022-12-05T14:30:13.035025Z",
     "iopub.status.busy": "2022-12-05T14:30:13.034142Z",
     "iopub.status.idle": "2022-12-05T14:40:15.676667Z",
     "shell.execute_reply": "2022-12-05T14:40:15.675817Z",
     "shell.execute_reply.started": "2022-12-05T14:30:13.034995Z"
    }
   },
   "outputs": [],
   "source": [
    "np.savez_compressed('complete_img_to_array', complete_img_to_array=np_image_list)"
   ]
  },
  {
   "cell_type": "code",
   "execution_count": 5,
   "metadata": {
    "execution": {
     "iopub.execute_input": "2022-12-05T19:01:50.160523Z",
     "iopub.status.busy": "2022-12-05T19:01:50.159926Z",
     "iopub.status.idle": "2022-12-05T19:01:50.286901Z",
     "shell.execute_reply": "2022-12-05T19:01:50.285761Z",
     "shell.execute_reply.started": "2022-12-05T19:01:50.160481Z"
    }
   },
   "outputs": [],
   "source": [
    "image_labels = pickle.load(open('image_labels.pkl', 'rb'))"
   ]
  },
  {
   "cell_type": "code",
   "execution_count": 6,
   "metadata": {
    "execution": {
     "iopub.execute_input": "2022-12-05T19:01:57.799791Z",
     "iopub.status.busy": "2022-12-05T19:01:57.799308Z",
     "iopub.status.idle": "2022-12-05T19:03:00.317447Z",
     "shell.execute_reply": "2022-12-05T19:03:00.316167Z",
     "shell.execute_reply.started": "2022-12-05T19:01:57.799752Z"
    }
   },
   "outputs": [],
   "source": [
    "np_image_list = np.load('complete_img_to_array.npz')['arr_0']"
   ]
  },
  {
   "cell_type": "code",
   "execution_count": 7,
   "metadata": {
    "execution": {
     "iopub.execute_input": "2022-12-05T19:03:00.320714Z",
     "iopub.status.busy": "2022-12-05T19:03:00.320182Z",
     "iopub.status.idle": "2022-12-05T19:03:00.330318Z",
     "shell.execute_reply": "2022-12-05T19:03:00.328766Z",
     "shell.execute_reply.started": "2022-12-05T19:03:00.320675Z"
    }
   },
   "outputs": [
    {
     "name": "stdout",
     "output_type": "stream",
     "text": [
      "(7800, 256, 256, 3)\n"
     ]
    }
   ],
   "source": [
    "print(np_image_list.shape)"
   ]
  },
  {
   "cell_type": "code",
   "execution_count": 8,
   "metadata": {
    "colab": {
     "base_uri": "https://localhost:8080/"
    },
    "execution": {
     "iopub.execute_input": "2022-12-05T19:03:18.539807Z",
     "iopub.status.busy": "2022-12-05T19:03:18.539215Z",
     "iopub.status.idle": "2022-12-05T19:03:42.766544Z",
     "shell.execute_reply": "2022-12-05T19:03:42.765388Z",
     "shell.execute_reply.started": "2022-12-05T19:03:18.539762Z"
    },
    "id": "Ahkxj-fiSgwa",
    "outputId": "fe3766b4-c7e3-4d58-fbfa-575d4ab53f79"
   },
   "outputs": [
    {
     "name": "stdout",
     "output_type": "stream",
     "text": [
      "[INFO] Spliting data to train,valid and test\n",
      "[INFO] Done\n"
     ]
    }
   ],
   "source": [
    "print(\"[INFO] Spliting data to train,valid and test\")\n",
    "X_train, X_test_valid, y_train, y_test_valid = train_test_split(np_image_list[:3900], image_labels[:3900], train_size = 0.7, random_state = 1)\n",
    "X_valid, X_test, y_valid, y_test = train_test_split(X_test_valid, y_test_valid, train_size = 0.33, random_state = 1)\n",
    "print(\"[INFO] Done\")"
   ]
  },
  {
   "cell_type": "code",
   "execution_count": 10,
   "metadata": {
    "colab": {
     "base_uri": "https://localhost:8080/"
    },
    "execution": {
     "iopub.execute_input": "2022-12-05T19:10:51.649081Z",
     "iopub.status.busy": "2022-12-05T19:10:51.648645Z",
     "iopub.status.idle": "2022-12-05T19:11:13.216547Z",
     "shell.execute_reply": "2022-12-05T19:11:13.215331Z",
     "shell.execute_reply.started": "2022-12-05T19:10:51.649040Z"
    },
    "id": "Ahkxj-fiSgwa",
    "outputId": "fe3766b4-c7e3-4d58-fbfa-575d4ab53f79"
   },
   "outputs": [
    {
     "name": "stdout",
     "output_type": "stream",
     "text": [
      "[INFO] Spliting data to train,valid and test\n",
      "[INFO] Done\n"
     ]
    }
   ],
   "source": [
    "print(\"[INFO] Spliting data to train,valid and test\")\n",
    "X_train, X_test_valid, y_train, y_test_valid = train_test_split(np_image_list[3900:], image_labels[3900:], train_size = 0.7, random_state = 1)\n",
    "X_valid, X_test, y_valid, y_test = train_test_split(X_test_valid, y_test_valid, train_size = 0.33, random_state = 1)\n",
    "print(\"[INFO] Done\")"
   ]
  },
  {
   "cell_type": "code",
   "execution_count": 9,
   "metadata": {
    "execution": {
     "iopub.execute_input": "2022-12-05T19:05:06.097702Z",
     "iopub.status.busy": "2022-12-05T19:05:06.097186Z",
     "iopub.status.idle": "2022-12-05T19:10:51.646543Z",
     "shell.execute_reply": "2022-12-05T19:10:51.644771Z",
     "shell.execute_reply.started": "2022-12-05T19:05:06.097584Z"
    }
   },
   "outputs": [],
   "source": [
    "np.savez_compressed('np_image_array_1',X_train=X_train, X_valid=X_valid, X_test=X_test, y_train=y_train, y_valid=y_valid, y_test=y_test)"
   ]
  },
  {
   "cell_type": "code",
   "execution_count": 11,
   "metadata": {
    "execution": {
     "iopub.execute_input": "2022-12-05T19:11:29.101629Z",
     "iopub.status.busy": "2022-12-05T19:11:29.101232Z",
     "iopub.status.idle": "2022-12-05T19:17:14.516206Z",
     "shell.execute_reply": "2022-12-05T19:17:14.515376Z",
     "shell.execute_reply.started": "2022-12-05T19:11:29.101602Z"
    }
   },
   "outputs": [],
   "source": [
    "np.savez_compressed('np_image_array_2',X_train=X_train, X_valid=X_valid, X_test=X_test, y_train=y_train, y_valid=y_valid, y_test=y_test)"
   ]
  },
  {
   "cell_type": "code",
   "execution_count": 5,
   "metadata": {
    "execution": {
     "iopub.execute_input": "2022-12-06T05:04:00.067763Z",
     "iopub.status.busy": "2022-12-06T05:04:00.067200Z",
     "iopub.status.idle": "2022-12-06T05:05:14.986513Z",
     "shell.execute_reply": "2022-12-06T05:05:14.985611Z",
     "shell.execute_reply.started": "2022-12-06T05:04:00.067760Z"
    }
   },
   "outputs": [
    {
     "name": "stdout",
     "output_type": "stream",
     "text": [
      "[INFO] Loading and Concatenating the Data\n",
      "[INFO] Done\n"
     ]
    }
   ],
   "source": [
    "print(\"[INFO] Loading and Concatenating the Data\")\n",
    "np_image_array_1 = np.load('np_image_array_1.npz')\n",
    "np_image_array_2 = np.load('np_image_array_2.npz')\n",
    "\n",
    "X_train = np.concatenate((np_image_array_1['X_train'], np_image_array_2['X_train']))\n",
    "X_valid = np.concatenate((np_image_array_1['X_valid'], np_image_array_2['X_valid']))\n",
    "X_test = np.concatenate((np_image_array_1['X_test'], np_image_array_2['X_test']))\n",
    "\n",
    "y_train = np.concatenate((np_image_array_1['y_train'], np_image_array_2['y_train']))\n",
    "y_valid = np.concatenate((np_image_array_1['y_valid'], np_image_array_2['y_valid']))\n",
    "y_test = np.concatenate((np_image_array_1['y_test'], np_image_array_2['y_test']))\n",
    "print(\"[INFO] Done\")"
   ]
  },
  {
   "cell_type": "code",
   "execution_count": 7,
   "metadata": {
    "execution": {
     "iopub.execute_input": "2022-12-06T05:10:12.302944Z",
     "iopub.status.busy": "2022-12-06T05:10:12.302196Z",
     "iopub.status.idle": "2022-12-06T05:20:23.402303Z",
     "shell.execute_reply": "2022-12-06T05:20:23.401348Z",
     "shell.execute_reply.started": "2022-12-06T05:10:12.302915Z"
    }
   },
   "outputs": [],
   "source": [
    "np.savez_compressed('final_arrays', X_train=X_train, X_valid=X_valid, X_test=X_test, y_train=y_train, y_valid=y_valid, y_test=y_test)"
   ]
  },
  {
   "cell_type": "code",
   "execution_count": 5,
   "metadata": {
    "execution": {
     "iopub.execute_input": "2022-12-06T05:30:36.361925Z",
     "iopub.status.busy": "2022-12-06T05:30:36.361564Z",
     "iopub.status.idle": "2022-12-06T05:31:35.195982Z",
     "shell.execute_reply": "2022-12-06T05:31:35.195133Z",
     "shell.execute_reply.started": "2022-12-06T05:30:36.361900Z"
    }
   },
   "outputs": [
    {
     "name": "stdout",
     "output_type": "stream",
     "text": [
      "[INFO] Final Loading of Data\n",
      "[INFO] Done\n"
     ]
    }
   ],
   "source": [
    "print(\"[INFO] Final Loading of Data\")\n",
    "final_arrays = np.load('final_arrays.npz')\n",
    "X_train = final_arrays['X_train']\n",
    "X_valid = final_arrays['X_valid']\n",
    "X_test = final_arrays['X_test']\n",
    "\n",
    "y_train = final_arrays['y_train']\n",
    "y_valid = final_arrays['y_valid']\n",
    "y_test = final_arrays['y_test']\n",
    "print(\"[INFO] Done\")"
   ]
  },
  {
   "cell_type": "code",
   "execution_count": 6,
   "metadata": {
    "execution": {
     "iopub.execute_input": "2022-12-06T05:37:09.222067Z",
     "iopub.status.busy": "2022-12-06T05:37:09.221586Z",
     "iopub.status.idle": "2022-12-06T05:37:09.267979Z",
     "shell.execute_reply": "2022-12-06T05:37:09.267055Z",
     "shell.execute_reply.started": "2022-12-06T05:37:09.222027Z"
    }
   },
   "outputs": [],
   "source": [
    "label_binarizer = LabelBinarizer()\n",
    "label_list = pickle.load(open('label_list.pkl', 'rb'))\n",
    "label_binarizer.fit_transform(label_list)\n",
    "n_classes = len(label_binarizer.classes_)"
   ]
  },
  {
   "cell_type": "code",
   "execution_count": 7,
   "metadata": {
    "execution": {
     "iopub.execute_input": "2022-12-06T05:37:09.811784Z",
     "iopub.status.busy": "2022-12-06T05:37:09.811346Z",
     "iopub.status.idle": "2022-12-06T05:37:11.100249Z",
     "shell.execute_reply": "2022-12-06T05:37:11.099306Z",
     "shell.execute_reply.started": "2022-12-06T05:37:09.811757Z"
    },
    "id": "PZ7A5ALWbuLU"
   },
   "outputs": [],
   "source": [
    "width=256\n",
    "height=256\n",
    "depth=3\n",
    "\n",
    "model = Sequential()\n",
    "inputShape = (height, width, depth)\n",
    "chanDim = -1\n",
    "if K.image_data_format() == \"channels_first\":\n",
    "    inputShape = (depth, height, width)\n",
    "    chanDim = 1\n",
    "model.add(Conv2D(32, (3, 3), padding=\"same\",input_shape=inputShape))\n",
    "model.add(Activation(\"relu\"))\n",
    "model.add(BatchNormalization(axis=chanDim))\n",
    "model.add(MaxPooling2D(pool_size=(3, 3)))\n",
    "model.add(Dropout(0.25))\n",
    "model.add(Conv2D(64, (3, 3), padding=\"same\"))\n",
    "model.add(Activation(\"relu\"))\n",
    "model.add(BatchNormalization(axis=chanDim))\n",
    "model.add(Conv2D(64, (3, 3), padding=\"same\"))\n",
    "model.add(Activation(\"relu\"))\n",
    "model.add(BatchNormalization(axis=chanDim))\n",
    "model.add(MaxPooling2D(pool_size=(2, 2)))\n",
    "model.add(Dropout(0.25))\n",
    "model.add(Conv2D(128, (3, 3), padding=\"same\"))\n",
    "model.add(Activation(\"relu\"))\n",
    "model.add(BatchNormalization(axis=chanDim))\n",
    "model.add(Conv2D(128, (3, 3), padding=\"same\"))\n",
    "model.add(Activation(\"relu\"))\n",
    "model.add(BatchNormalization(axis=chanDim))\n",
    "model.add(MaxPooling2D(pool_size=(2, 2)))\n",
    "model.add(Dropout(0.25))\n",
    "model.add(Flatten())\n",
    "model.add(Dense(1024))\n",
    "model.add(Activation(\"relu\"))\n",
    "model.add(BatchNormalization())\n",
    "model.add(Dropout(0.5))\n",
    "model.add(Dense(n_classes))\n",
    "model.add(Activation(\"softmax\"))"
   ]
  },
  {
   "cell_type": "code",
   "execution_count": 8,
   "metadata": {
    "colab": {
     "base_uri": "https://localhost:8080/"
    },
    "execution": {
     "iopub.execute_input": "2022-12-06T05:37:11.102118Z",
     "iopub.status.busy": "2022-12-06T05:37:11.101824Z",
     "iopub.status.idle": "2022-12-06T05:37:11.159512Z",
     "shell.execute_reply": "2022-12-06T05:37:11.156064Z",
     "shell.execute_reply.started": "2022-12-06T05:37:11.102076Z"
    },
    "id": "uoKthQ6BsQ3x",
    "outputId": "2451e6fe-bb60-4259-b702-8ce5f2ae87a6"
   },
   "outputs": [
    {
     "name": "stdout",
     "output_type": "stream",
     "text": [
      "Model: \"sequential\"\n",
      "_________________________________________________________________\n",
      " Layer (type)                Output Shape              Param #   \n",
      "=================================================================\n",
      " conv2d (Conv2D)             (None, 256, 256, 32)      896       \n",
      "                                                                 \n",
      " activation (Activation)     (None, 256, 256, 32)      0         \n",
      "                                                                 \n",
      " batch_normalization (BatchN  (None, 256, 256, 32)     128       \n",
      " ormalization)                                                   \n",
      "                                                                 \n",
      " max_pooling2d (MaxPooling2D  (None, 85, 85, 32)       0         \n",
      " )                                                               \n",
      "                                                                 \n",
      " dropout (Dropout)           (None, 85, 85, 32)        0         \n",
      "                                                                 \n",
      " conv2d_1 (Conv2D)           (None, 85, 85, 64)        18496     \n",
      "                                                                 \n",
      " activation_1 (Activation)   (None, 85, 85, 64)        0         \n",
      "                                                                 \n",
      " batch_normalization_1 (Batc  (None, 85, 85, 64)       256       \n",
      " hNormalization)                                                 \n",
      "                                                                 \n",
      " conv2d_2 (Conv2D)           (None, 85, 85, 64)        36928     \n",
      "                                                                 \n",
      " activation_2 (Activation)   (None, 85, 85, 64)        0         \n",
      "                                                                 \n",
      " batch_normalization_2 (Batc  (None, 85, 85, 64)       256       \n",
      " hNormalization)                                                 \n",
      "                                                                 \n",
      " max_pooling2d_1 (MaxPooling  (None, 42, 42, 64)       0         \n",
      " 2D)                                                             \n",
      "                                                                 \n",
      " dropout_1 (Dropout)         (None, 42, 42, 64)        0         \n",
      "                                                                 \n",
      " conv2d_3 (Conv2D)           (None, 42, 42, 128)       73856     \n",
      "                                                                 \n",
      " activation_3 (Activation)   (None, 42, 42, 128)       0         \n",
      "                                                                 \n",
      " batch_normalization_3 (Batc  (None, 42, 42, 128)      512       \n",
      " hNormalization)                                                 \n",
      "                                                                 \n",
      " conv2d_4 (Conv2D)           (None, 42, 42, 128)       147584    \n",
      "                                                                 \n",
      " activation_4 (Activation)   (None, 42, 42, 128)       0         \n",
      "                                                                 \n",
      " batch_normalization_4 (Batc  (None, 42, 42, 128)      512       \n",
      " hNormalization)                                                 \n",
      "                                                                 \n",
      " max_pooling2d_2 (MaxPooling  (None, 21, 21, 128)      0         \n",
      " 2D)                                                             \n",
      "                                                                 \n",
      " dropout_2 (Dropout)         (None, 21, 21, 128)       0         \n",
      "                                                                 \n",
      " flatten (Flatten)           (None, 56448)             0         \n",
      "                                                                 \n",
      " dense (Dense)               (None, 1024)              57803776  \n",
      "                                                                 \n",
      " activation_5 (Activation)   (None, 1024)              0         \n",
      "                                                                 \n",
      " batch_normalization_5 (Batc  (None, 1024)             4096      \n",
      " hNormalization)                                                 \n",
      "                                                                 \n",
      " dropout_3 (Dropout)         (None, 1024)              0         \n",
      "                                                                 \n",
      " dense_1 (Dense)             (None, 39)                39975     \n",
      "                                                                 \n",
      " activation_6 (Activation)   (None, 39)                0         \n",
      "                                                                 \n",
      "=================================================================\n",
      "Total params: 58,127,271\n",
      "Trainable params: 58,124,391\n",
      "Non-trainable params: 2,880\n",
      "_________________________________________________________________\n"
     ]
    }
   ],
   "source": [
    "model.summary()"
   ]
  },
  {
   "cell_type": "code",
   "execution_count": 9,
   "metadata": {
    "execution": {
     "iopub.execute_input": "2022-12-06T05:37:11.771564Z",
     "iopub.status.busy": "2022-12-06T05:37:11.770624Z",
     "iopub.status.idle": "2022-12-06T05:37:11.776431Z",
     "shell.execute_reply": "2022-12-06T05:37:11.775460Z",
     "shell.execute_reply.started": "2022-12-06T05:37:11.771492Z"
    }
   },
   "outputs": [],
   "source": [
    "checkpoint_path = '../storage/model.hdf5'\n",
    "\n",
    "checkpoint = callbacks.ModelCheckpoint(filepath=checkpoint_path, \n",
    "                                       monitor='val_categorical_accuracy',\n",
    "                                       verbose=1, \n",
    "                                       save_best_only=True,\n",
    "                                       mode='max')"
   ]
  },
  {
   "cell_type": "code",
   "execution_count": 10,
   "metadata": {
    "execution": {
     "iopub.execute_input": "2022-12-06T05:37:13.012456Z",
     "iopub.status.busy": "2022-12-06T05:37:13.012071Z",
     "iopub.status.idle": "2022-12-06T05:37:13.029585Z",
     "shell.execute_reply": "2022-12-06T05:37:13.028742Z",
     "shell.execute_reply.started": "2022-12-06T05:37:13.012431Z"
    }
   },
   "outputs": [],
   "source": [
    "model.compile(optimizer='RMSprop',\n",
    "              loss='CategoricalCrossentropy',\n",
    "              metrics='CategoricalAccuracy')"
   ]
  },
  {
   "cell_type": "code",
   "execution_count": 13,
   "metadata": {
    "colab": {
     "base_uri": "https://localhost:8080/",
     "height": 397
    },
    "execution": {
     "iopub.execute_input": "2022-12-06T05:37:31.591314Z",
     "iopub.status.busy": "2022-12-06T05:37:31.590959Z",
     "iopub.status.idle": "2022-12-06T05:55:53.074121Z",
     "shell.execute_reply": "2022-12-06T05:55:53.073234Z",
     "shell.execute_reply.started": "2022-12-06T05:37:31.591287Z"
    },
    "id": "oVCspo0ys76q",
    "outputId": "ba220213-0eba-47c6-f4aa-f41730aafd15"
   },
   "outputs": [
    {
     "name": "stderr",
     "output_type": "stream",
     "text": [
      "2022-12-06 05:37:43.686427: W tensorflow/core/framework/cpu_allocator_impl.cc:82] Allocation of 4293918720 exceeds 10% of free system memory.\n",
      "2022-12-06 05:37:48.706660: W tensorflow/core/framework/cpu_allocator_impl.cc:82] Allocation of 4293918720 exceeds 10% of free system memory.\n"
     ]
    },
    {
     "name": "stdout",
     "output_type": "stream",
     "text": [
      "Epoch 1/30\n",
      "170/170 [==============================] - ETA: 0s - loss: 2.4460 - categorical_accuracy: 0.4011\n",
      "Epoch 1: val_categorical_accuracy improved from -inf to 0.26684, saving model to ../storage/model.hdf5\n",
      "170/170 [==============================] - 52s 280ms/step - loss: 2.4460 - categorical_accuracy: 0.4011 - val_loss: 8.1271 - val_categorical_accuracy: 0.2668\n",
      "Epoch 2/30\n",
      "170/170 [==============================] - ETA: 0s - loss: 1.2456 - categorical_accuracy: 0.6444\n",
      "Epoch 2: val_categorical_accuracy improved from 0.26684 to 0.46373, saving model to ../storage/model.hdf5\n",
      "170/170 [==============================] - 41s 234ms/step - loss: 1.2456 - categorical_accuracy: 0.6444 - val_loss: 3.2975 - val_categorical_accuracy: 0.4637\n",
      "Epoch 3/30\n",
      "170/170 [==============================] - ETA: 0s - loss: 0.8221 - categorical_accuracy: 0.7498\n",
      "Epoch 3: val_categorical_accuracy did not improve from 0.46373\n",
      "170/170 [==============================] - 35s 205ms/step - loss: 0.8221 - categorical_accuracy: 0.7498 - val_loss: 3.2673 - val_categorical_accuracy: 0.4521\n",
      "Epoch 4/30\n",
      "170/170 [==============================] - ETA: 0s - loss: 0.5841 - categorical_accuracy: 0.8187\n",
      "Epoch 4: val_categorical_accuracy improved from 0.46373 to 0.62306, saving model to ../storage/model.hdf5\n",
      "170/170 [==============================] - 39s 228ms/step - loss: 0.5841 - categorical_accuracy: 0.8187 - val_loss: 1.9110 - val_categorical_accuracy: 0.6231\n",
      "Epoch 5/30\n",
      "170/170 [==============================] - ETA: 0s - loss: 0.4366 - categorical_accuracy: 0.8657\n",
      "Epoch 5: val_categorical_accuracy did not improve from 0.62306\n",
      "170/170 [==============================] - 35s 205ms/step - loss: 0.4366 - categorical_accuracy: 0.8657 - val_loss: 1.7927 - val_categorical_accuracy: 0.5790\n",
      "Epoch 6/30\n",
      "170/170 [==============================] - ETA: 0s - loss: 0.3187 - categorical_accuracy: 0.9014\n",
      "Epoch 6: val_categorical_accuracy did not improve from 0.62306\n",
      "170/170 [==============================] - 35s 204ms/step - loss: 0.3187 - categorical_accuracy: 0.9014 - val_loss: 2.0560 - val_categorical_accuracy: 0.5972\n",
      "Epoch 7/30\n",
      "170/170 [==============================] - ETA: 0s - loss: 0.2595 - categorical_accuracy: 0.9195\n",
      "Epoch 7: val_categorical_accuracy did not improve from 0.62306\n",
      "170/170 [==============================] - 35s 205ms/step - loss: 0.2595 - categorical_accuracy: 0.9195 - val_loss: 3.5212 - val_categorical_accuracy: 0.4054\n",
      "Epoch 8/30\n",
      "170/170 [==============================] - ETA: 0s - loss: 0.1802 - categorical_accuracy: 0.9403\n",
      "Epoch 8: val_categorical_accuracy improved from 0.62306 to 0.80959, saving model to ../storage/model.hdf5\n",
      "170/170 [==============================] - 39s 228ms/step - loss: 0.1802 - categorical_accuracy: 0.9403 - val_loss: 0.6988 - val_categorical_accuracy: 0.8096\n",
      "Epoch 9/30\n",
      "170/170 [==============================] - ETA: 0s - loss: 0.1606 - categorical_accuracy: 0.9488\n",
      "Epoch 9: val_categorical_accuracy did not improve from 0.80959\n",
      "170/170 [==============================] - 35s 205ms/step - loss: 0.1606 - categorical_accuracy: 0.9488 - val_loss: 3.4903 - val_categorical_accuracy: 0.4417\n",
      "Epoch 10/30\n",
      "170/170 [==============================] - ETA: 0s - loss: 0.1166 - categorical_accuracy: 0.9646\n",
      "Epoch 10: val_categorical_accuracy did not improve from 0.80959\n",
      "170/170 [==============================] - 35s 204ms/step - loss: 0.1166 - categorical_accuracy: 0.9646 - val_loss: 1.7972 - val_categorical_accuracy: 0.6140\n",
      "Epoch 11/30\n",
      "170/170 [==============================] - ETA: 0s - loss: 0.0857 - categorical_accuracy: 0.9738\n",
      "Epoch 11: val_categorical_accuracy did not improve from 0.80959\n",
      "170/170 [==============================] - 35s 206ms/step - loss: 0.0857 - categorical_accuracy: 0.9738 - val_loss: 1.7587 - val_categorical_accuracy: 0.6852\n",
      "Epoch 12/30\n",
      "170/170 [==============================] - ETA: 0s - loss: 0.0791 - categorical_accuracy: 0.9744\n",
      "Epoch 12: val_categorical_accuracy did not improve from 0.80959\n",
      "170/170 [==============================] - 35s 204ms/step - loss: 0.0791 - categorical_accuracy: 0.9744 - val_loss: 0.8895 - val_categorical_accuracy: 0.7966\n",
      "Epoch 13/30\n",
      "170/170 [==============================] - ETA: 0s - loss: 0.0597 - categorical_accuracy: 0.9814\n",
      "Epoch 13: val_categorical_accuracy did not improve from 0.80959\n",
      "170/170 [==============================] - 35s 204ms/step - loss: 0.0597 - categorical_accuracy: 0.9814 - val_loss: 1.1508 - val_categorical_accuracy: 0.7254\n",
      "Epoch 14/30\n",
      "170/170 [==============================] - ETA: 0s - loss: 0.0630 - categorical_accuracy: 0.9796\n",
      "Epoch 14: val_categorical_accuracy did not improve from 0.80959\n",
      "170/170 [==============================] - 35s 204ms/step - loss: 0.0630 - categorical_accuracy: 0.9796 - val_loss: 1.3294 - val_categorical_accuracy: 0.7098\n",
      "Epoch 15/30\n",
      "170/170 [==============================] - ETA: 0s - loss: 0.0483 - categorical_accuracy: 0.9843\n",
      "Epoch 15: val_categorical_accuracy did not improve from 0.80959\n",
      "170/170 [==============================] - 35s 204ms/step - loss: 0.0483 - categorical_accuracy: 0.9843 - val_loss: 1.1805 - val_categorical_accuracy: 0.7591\n",
      "Epoch 16/30\n",
      "170/170 [==============================] - ETA: 0s - loss: 0.0419 - categorical_accuracy: 0.9862\n",
      "Epoch 16: val_categorical_accuracy did not improve from 0.80959\n",
      "170/170 [==============================] - 35s 204ms/step - loss: 0.0419 - categorical_accuracy: 0.9862 - val_loss: 0.9874 - val_categorical_accuracy: 0.7707\n",
      "Epoch 17/30\n",
      "170/170 [==============================] - ETA: 0s - loss: 0.0434 - categorical_accuracy: 0.9867\n",
      "Epoch 17: val_categorical_accuracy did not improve from 0.80959\n",
      "170/170 [==============================] - 35s 204ms/step - loss: 0.0434 - categorical_accuracy: 0.9867 - val_loss: 1.0562 - val_categorical_accuracy: 0.7630\n",
      "Epoch 18/30\n",
      "170/170 [==============================] - ETA: 0s - loss: 0.0406 - categorical_accuracy: 0.9869\n",
      "Epoch 18: val_categorical_accuracy did not improve from 0.80959\n",
      "170/170 [==============================] - 35s 204ms/step - loss: 0.0406 - categorical_accuracy: 0.9869 - val_loss: 1.1429 - val_categorical_accuracy: 0.7591\n",
      "Epoch 19/30\n",
      "170/170 [==============================] - ETA: 0s - loss: 0.0362 - categorical_accuracy: 0.9891\n",
      "Epoch 19: val_categorical_accuracy did not improve from 0.80959\n",
      "170/170 [==============================] - 35s 204ms/step - loss: 0.0362 - categorical_accuracy: 0.9891 - val_loss: 0.9081 - val_categorical_accuracy: 0.8031\n",
      "Epoch 20/30\n",
      "170/170 [==============================] - ETA: 0s - loss: 0.0345 - categorical_accuracy: 0.9889\n",
      "Epoch 20: val_categorical_accuracy did not improve from 0.80959\n",
      "170/170 [==============================] - 35s 204ms/step - loss: 0.0345 - categorical_accuracy: 0.9889 - val_loss: 0.9273 - val_categorical_accuracy: 0.8057\n",
      "Epoch 21/30\n",
      "170/170 [==============================] - ETA: 0s - loss: 0.0243 - categorical_accuracy: 0.9919\n",
      "Epoch 21: val_categorical_accuracy did not improve from 0.80959\n",
      "170/170 [==============================] - 35s 204ms/step - loss: 0.0243 - categorical_accuracy: 0.9919 - val_loss: 2.2748 - val_categorical_accuracy: 0.5855\n",
      "Epoch 22/30\n",
      "170/170 [==============================] - ETA: 0s - loss: 0.0382 - categorical_accuracy: 0.9877\n",
      "Epoch 22: val_categorical_accuracy did not improve from 0.80959\n",
      "170/170 [==============================] - 35s 204ms/step - loss: 0.0382 - categorical_accuracy: 0.9877 - val_loss: 1.0667 - val_categorical_accuracy: 0.7655\n",
      "Epoch 23/30\n",
      "170/170 [==============================] - ETA: 0s - loss: 0.0296 - categorical_accuracy: 0.9906\n",
      "Epoch 23: val_categorical_accuracy did not improve from 0.80959\n",
      "170/170 [==============================] - 35s 205ms/step - loss: 0.0296 - categorical_accuracy: 0.9906 - val_loss: 1.0584 - val_categorical_accuracy: 0.7889\n",
      "Epoch 24/30\n",
      "170/170 [==============================] - ETA: 0s - loss: 0.0269 - categorical_accuracy: 0.9912\n",
      "Epoch 24: val_categorical_accuracy did not improve from 0.80959\n",
      "170/170 [==============================] - 35s 205ms/step - loss: 0.0269 - categorical_accuracy: 0.9912 - val_loss: 1.4533 - val_categorical_accuracy: 0.7150\n",
      "Epoch 25/30\n",
      "170/170 [==============================] - ETA: 0s - loss: 0.0258 - categorical_accuracy: 0.9921\n",
      "Epoch 25: val_categorical_accuracy did not improve from 0.80959\n",
      "170/170 [==============================] - 35s 204ms/step - loss: 0.0258 - categorical_accuracy: 0.9921 - val_loss: 1.3220 - val_categorical_accuracy: 0.7578\n",
      "Epoch 26/30\n",
      "170/170 [==============================] - ETA: 0s - loss: 0.0191 - categorical_accuracy: 0.9936\n",
      "Epoch 26: val_categorical_accuracy did not improve from 0.80959\n",
      "170/170 [==============================] - 35s 204ms/step - loss: 0.0191 - categorical_accuracy: 0.9936 - val_loss: 1.2372 - val_categorical_accuracy: 0.7345\n",
      "Epoch 27/30\n",
      "170/170 [==============================] - ETA: 0s - loss: 0.0163 - categorical_accuracy: 0.9948\n",
      "Epoch 27: val_categorical_accuracy did not improve from 0.80959\n",
      "170/170 [==============================] - 35s 204ms/step - loss: 0.0163 - categorical_accuracy: 0.9948 - val_loss: 1.0491 - val_categorical_accuracy: 0.7850\n",
      "Epoch 28/30\n",
      "170/170 [==============================] - ETA: 0s - loss: 0.0198 - categorical_accuracy: 0.9936\n",
      "Epoch 28: val_categorical_accuracy did not improve from 0.80959\n",
      "170/170 [==============================] - 35s 204ms/step - loss: 0.0198 - categorical_accuracy: 0.9936 - val_loss: 1.0946 - val_categorical_accuracy: 0.7953\n",
      "Epoch 29/30\n",
      "170/170 [==============================] - ETA: 0s - loss: 0.0162 - categorical_accuracy: 0.9939\n",
      "Epoch 29: val_categorical_accuracy did not improve from 0.80959\n",
      "170/170 [==============================] - 35s 204ms/step - loss: 0.0162 - categorical_accuracy: 0.9939 - val_loss: 1.3182 - val_categorical_accuracy: 0.7565\n",
      "Epoch 30/30\n",
      "170/170 [==============================] - ETA: 0s - loss: 0.0188 - categorical_accuracy: 0.9948\n",
      "Epoch 30: val_categorical_accuracy improved from 0.80959 to 0.81218, saving model to ../storage/model.hdf5\n",
      "170/170 [==============================] - 39s 231ms/step - loss: 0.0188 - categorical_accuracy: 0.9948 - val_loss: 0.7791 - val_categorical_accuracy: 0.8122\n"
     ]
    }
   ],
   "source": [
    "history = model.fit(\n",
    "    X_train, y_train, batch_size=32,\n",
    "    validation_data=(X_valid, y_valid),\n",
    "    steps_per_epoch=len(X_train) // 32,\n",
    "    epochs=30,callbacks = [checkpoint]\n",
    "    )\n",
    "\n",
    "checkpoint_path = '../storage/model.hdf5'\n",
    "model = load_model(checkpoint_path)"
   ]
  },
  {
   "cell_type": "code",
   "execution_count": 14,
   "metadata": {
    "execution": {
     "iopub.execute_input": "2022-12-06T05:55:56.429450Z",
     "iopub.status.busy": "2022-12-06T05:55:56.429019Z",
     "iopub.status.idle": "2022-12-06T05:55:56.833483Z",
     "shell.execute_reply": "2022-12-06T05:55:56.832291Z",
     "shell.execute_reply.started": "2022-12-06T05:55:56.429415Z"
    },
    "id": "jg__0FfJtCgj"
   },
   "outputs": [
    {
     "data": {
      "image/png": "[encoded data removed]",
      "text/plain": [
       "<Figure size 432x288 with 1 Axes>"
      ]
     },
     "metadata": {
      "needs_background": "light"
     },
     "output_type": "display_data"
    },
    {
     "data": {
      "image/png": "[encoded data removed]",
      "text/plain": [
       "<Figure size 432x288 with 1 Axes>"
      ]
     },
     "metadata": {
      "needs_background": "light"
     },
     "output_type": "display_data"
    }
   ],
   "source": [
    "acc = history.history['categorical_accuracy']\n",
    "val_acc = history.history['val_categorical_accuracy']\n",
    "loss = history.history['loss']\n",
    "val_loss = history.history['val_loss']\n",
    "epochs = range(1, len(acc) + 1)\n",
    "#Train and validation accuracy\n",
    "plt.plot(epochs, acc, 'b', label='Training accurarcy')\n",
    "plt.plot(epochs, val_acc, 'r', label='Validation accurarcy')\n",
    "plt.title('Training and Validation accurarcy')\n",
    "plt.legend()\n",
    "\n",
    "plt.figure()\n",
    "#Train and validation loss\n",
    "plt.plot(epochs, loss, 'b', label='Training loss')\n",
    "plt.plot(epochs, val_loss, 'r', label='Validation loss')\n",
    "plt.title('Training and Validation loss')\n",
    "plt.legend()\n",
    "plt.show()"
   ]
  },
  {
   "cell_type": "code",
   "execution_count": 15,
   "metadata": {
    "execution": {
     "iopub.execute_input": "2022-12-06T05:56:03.818872Z",
     "iopub.status.busy": "2022-12-06T05:56:03.818491Z",
     "iopub.status.idle": "2022-12-06T05:56:07.991175Z",
     "shell.execute_reply": "2022-12-06T05:56:07.990162Z",
     "shell.execute_reply.started": "2022-12-06T05:56:03.818845Z"
    },
    "id": "LOymKGnguV7r"
   },
   "outputs": [
    {
     "name": "stdout",
     "output_type": "stream",
     "text": [
      "[INFO] Calculating model accuracy on Validation Data\n",
      "25/25 [==============================] - 1s 45ms/step - loss: 0.7791 - categorical_accuracy: 0.8122\n",
      "Validation Accuracy: 81.21761679649353\n"
     ]
    }
   ],
   "source": [
    "print(\"[INFO] Calculating model accuracy on Validation Data\")\n",
    "scores = model.evaluate(X_valid, y_valid)\n",
    "print(f\"Validation Accuracy: {scores[1]*100}\")"
   ]
  },
  {
   "cell_type": "code",
   "execution_count": 18,
   "metadata": {
    "execution": {
     "iopub.execute_input": "2022-12-06T05:58:47.530224Z",
     "iopub.status.busy": "2022-12-06T05:58:47.529729Z",
     "iopub.status.idle": "2022-12-06T05:58:57.111859Z",
     "shell.execute_reply": "2022-12-06T05:58:57.110520Z",
     "shell.execute_reply.started": "2022-12-06T05:58:47.530181Z"
    },
    "id": "NUVA1ARquXFJ"
   },
   "outputs": [
    {
     "name": "stdout",
     "output_type": "stream",
     "text": [
      "[INFO] Calculating model accuracy on Testing Data\n",
      "49/49 [==============================] - 2s 47ms/step - loss: 0.7467 - categorical_accuracy: 0.8412\n",
      "Testing Accuracy: 84.1198980808258\n"
     ]
    }
   ],
   "source": [
    "print(\"[INFO] Calculating model accuracy on Testing Data\")\n",
    "scores = model.evaluate(X_test, y_test)\n",
    "print(f\"Testing Accuracy: {scores[1]*100}\")"
   ]
  },
  {
   "cell_type": "code",
   "execution_count": 11,
   "metadata": {
    "execution": {
     "iopub.execute_input": "2022-12-03T17:46:51.855753Z",
     "iopub.status.busy": "2022-12-03T17:46:51.855036Z",
     "iopub.status.idle": "2022-12-03T17:46:51.864188Z",
     "shell.execute_reply": "2022-12-03T17:46:51.862906Z",
     "shell.execute_reply.started": "2022-12-03T17:46:51.855500Z"
    }
   },
   "outputs": [],
   "source": [
    "def convert_img(img):\n",
    "    if img.endswith(\".jpg\") == True or img.endswith(\".JPG\") == True:\n",
    "        image = convert_image_to_array(img)\n",
    "        return np.array(image, np.float64)\n",
    "    else :\n",
    "        print(\"[INFO] Input file not in .jpg/.JPG Format..\")"
   ]
  },
  {
   "cell_type": "code",
   "execution_count": 21,
   "metadata": {
    "execution": {
     "iopub.execute_input": "2022-12-04T07:07:53.027219Z",
     "iopub.status.busy": "2022-12-04T07:07:53.025829Z",
     "iopub.status.idle": "2022-12-04T07:07:53.213071Z",
     "shell.execute_reply": "2022-12-04T07:07:53.211740Z",
     "shell.execute_reply.started": "2022-12-04T07:07:53.027173Z"
    }
   },
   "outputs": [
    {
     "name": "stdout",
     "output_type": "stream",
     "text": [
      "(256, 256, 3)\n",
      "(1, 256, 256, 3)\n",
      "1/1 [==============================] - 0s 42ms/step\n"
     ]
    },
    {
     "data": {
      "text/plain": [
       "6"
      ]
     },
     "execution_count": 21,
     "metadata": {},
     "output_type": "execute_result"
    }
   ],
   "source": [
    "img = convert_image_to_array('test.jpg')\n",
    "img = np.array(img, np.float64)\n",
    "print(img.shape)\n",
    "img = expand_dims(img, axis = 0)\n",
    "print(img.shape)\n",
    "result = model.predict(img)\n",
    "result = np.array(result, np.float64)\n",
    "\n",
    "itemindex = np.where(result==np.max(result))\n",
    "itemindex[1][0]"
   ]
  },
  {
   "cell_type": "code",
   "execution_count": 27,
   "metadata": {
    "execution": {
     "iopub.execute_input": "2022-12-05T12:48:34.048198Z",
     "iopub.status.busy": "2022-12-05T12:48:34.047829Z",
     "iopub.status.idle": "2022-12-05T12:48:34.337263Z",
     "shell.execute_reply": "2022-12-05T12:48:34.335407Z",
     "shell.execute_reply.started": "2022-12-05T12:48:34.048171Z"
    }
   },
   "outputs": [
    {
     "name": "stdout",
     "output_type": "stream",
     "text": [
      "(256, 256, 3)\n",
      "(256, 256, 3)\n",
      "(1, 256, 256, 3)\n",
      "1/1 [==============================] - 0s 224ms/step\n",
      "probability:0.9725133180618286\n",
      "Apple___Cedar_apple_rust\n"
     ]
    }
   ],
   "source": [
    "a = cv2.imread('a.JPG')\n",
    "print(a.shape)\n",
    "a = np.array(a, np.float64)\n",
    "print(a.shape)\n",
    "a = expand_dims(a, axis = 0)\n",
    "print(a.shape)\n",
    "result = model.predict(a)\n",
    "result = np.array(result, np.float64)\n",
    "\n",
    "itemindex = np.where(result==np.max(result))\n",
    "print(\"probability:\"+str(np.max(result))+\"\\n\"+label_binarizer.classes_[itemindex[1][0]])"
   ]
  },
  {
   "cell_type": "code",
   "execution_count": 13,
   "metadata": {
    "execution": {
     "iopub.execute_input": "2022-12-04T07:06:11.105392Z",
     "iopub.status.busy": "2022-12-04T07:06:11.080970Z",
     "iopub.status.idle": "2022-12-04T07:06:21.580755Z",
     "shell.execute_reply": "2022-12-04T07:06:21.579117Z",
     "shell.execute_reply.started": "2022-12-04T07:06:11.105320Z"
    }
   },
   "outputs": [
    {
     "name": "stdout",
     "output_type": "stream",
     "text": [
      "[INFO] Loading Model\n",
      "[INFO] Done\n"
     ]
    }
   ],
   "source": [
    "print(\"[INFO] Loading Model\")\n",
    "checkpoint_path = '../storage/model.hdf5'\n",
    "model = load_model(checkpoint_path)\n",
    "print(\"[INFO] Done\")"
   ]
  }
 ],
 "metadata": {
  "accelerator": "TPU",
  "colab": {
   "provenance": []
  },
  "gpuClass": "standard",
  "kernelspec": {
   "display_name": "Python 3 (ipykernel)",
   "language": "python",
   "name": "python3"
  },
  "language_info": {
   "codemirror_mode": {
    "name": "ipython",
    "version": 3
   },
   "file_extension": ".py",
   "mimetype": "text/x-python",
   "name": "python",
   "nbconvert_exporter": "python",
   "pygments_lexer": "ipython3",
   "version": "3.9.13"
  }
 },
 "nbformat": 4,
 "nbformat_minor": 4
}
